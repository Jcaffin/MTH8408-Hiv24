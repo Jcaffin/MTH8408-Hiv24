{
 "cells": [
  {
   "cell_type": "code",
   "execution_count": 4,
   "metadata": {},
   "outputs": [
    {
     "name": "stdout",
     "output_type": "stream",
     "text": [
      "\u001b[32m\u001b[1mStatus\u001b[22m\u001b[39m `~/Desktop/MTH8408/Git/MTH8408-Hiv24/Projet/Project_MTH8408/Project.toml`\n"
     ]
    },
    {
     "name": "stderr",
     "output_type": "stream",
     "text": [
      "\u001b[32m\u001b[1m  Activating\u001b[22m\u001b[39m project at `~/Desktop/MTH8408/Git/MTH8408-Hiv24/Projet/Project_MTH8408`\n"
     ]
    },
    {
     "name": "stdout",
     "output_type": "stream",
     "text": [
      "  \u001b[90m[71b753c1] \u001b[39mYahooFinance v0.2.2 `https://github.com/JuliaTagBot/YahooFinance.jl.git#master`\n",
      "  \u001b[90m[37e2e46d] \u001b[39mLinearAlgebra\n"
     ]
    }
   ],
   "source": [
    "using Pkg\n",
    "Pkg.activate(\"Project_MTH8408\")\n",
    "Pkg.status()"
   ]
  },
  {
   "cell_type": "code",
   "execution_count": 7,
   "metadata": {},
   "outputs": [
    {
     "ename": "UndefVarError",
     "evalue": "UndefVarError: `closewrite` not defined",
     "output_type": "error",
     "traceback": [
      "UndefVarError: `closewrite` not defined\n",
      "\n",
      "Stacktrace:\n",
      "  [1] request(::Type{HTTP.StreamRequest.StreamLayer{Union{}}}, io::HTTP.ConnectionPool.Transaction{MbedTLS.SSLContext}, req::HTTP.Messages.Request, body::Vector{UInt8}; reached_redirect_limit::Bool, response_stream::Nothing, iofunction::Nothing, verbose::Int64, kw::Base.Pairs{Symbol, Union{}, Tuple{}, NamedTuple{(), Tuple{}}})\n",
      "    @ HTTP.StreamRequest ~/.julia/packages/HTTP/IAI92/src/StreamRequest.jl:83\n",
      "  [2] request(::Type{HTTP.ConnectionRequest.ConnectionPoolLayer{HTTP.StreamRequest.StreamLayer{Union{}}}}, url::HTTP.URIs.URI, req::HTTP.Messages.Request, body::Vector{UInt8}; proxy::Nothing, socket_type::Type, reuse_limit::Int64, kw::Base.Pairs{Symbol, Union{Nothing, Bool}, Tuple{Symbol, Symbol}, NamedTuple{(:iofunction, :reached_redirect_limit), Tuple{Nothing, Bool}}})\n",
      "    @ HTTP.ConnectionRequest ~/.julia/packages/HTTP/IAI92/src/ConnectionRequest.jl:96\n",
      "  [3] request(::Type{HTTP.ExceptionRequest.ExceptionLayer{HTTP.ConnectionRequest.ConnectionPoolLayer{HTTP.StreamRequest.StreamLayer{Union{}}}}}, ::HTTP.URIs.URI, ::Vararg{Any}; kw::Base.Pairs{Symbol, Union{Nothing, Bool}, Tuple{Symbol, Symbol}, NamedTuple{(:iofunction, :reached_redirect_limit), Tuple{Nothing, Bool}}})\n",
      "    @ HTTP.ExceptionRequest ~/.julia/packages/HTTP/IAI92/src/ExceptionRequest.jl:19\n",
      "  [4] (::Base.var\"#90#92\"{Base.var\"#90#91#93\"{ExponentialBackOff, HTTP.RetryRequest.var\"#2#3\"{Bool, HTTP.Messages.Request}, typeof(HTTP.request)}})(::Type, ::Vararg{Any}; kwargs::Base.Pairs{Symbol, Union{Nothing, Bool}, Tuple{Symbol, Symbol}, NamedTuple{(:iofunction, :reached_redirect_limit), Tuple{Nothing, Bool}}})\n",
      "    @ Base ./error.jl:296\n",
      "  [5] #90\n",
      "    @ ./error.jl:291 [inlined]\n",
      "  [6] #request#1\n",
      "    @ ~/.julia/packages/HTTP/IAI92/src/RetryRequest.jl:44 [inlined]\n",
      "  [7] request\n",
      "    @ ~/.julia/packages/HTTP/IAI92/src/RetryRequest.jl:27 [inlined]\n",
      "  [8] request(::Type{HTTP.MessageRequest.MessageLayer{HTTP.RetryRequest.RetryLayer{HTTP.ExceptionRequest.ExceptionLayer{HTTP.ConnectionRequest.ConnectionPoolLayer{HTTP.StreamRequest.StreamLayer{Union{}}}}}}}, method::String, url::HTTP.URIs.URI, headers::Vector{Pair{SubString{String}, SubString{String}}}, body::Vector{UInt8}; http_version::VersionNumber, target::String, parent::Nothing, iofunction::Nothing, kw::Base.Pairs{Symbol, Bool, Tuple{Symbol}, NamedTuple{(:reached_redirect_limit,), Tuple{Bool}}})\n",
      "    @ HTTP.MessageRequest ~/.julia/packages/HTTP/IAI92/src/MessageRequest.jl:51\n",
      "  [9] request\n",
      "    @ ~/.julia/packages/HTTP/IAI92/src/MessageRequest.jl:22 [inlined]\n",
      " [10] request(::Type{HTTP.CookieRequest.CookieLayer{HTTP.MessageRequest.MessageLayer{HTTP.RetryRequest.RetryLayer{HTTP.ExceptionRequest.ExceptionLayer{HTTP.ConnectionRequest.ConnectionPoolLayer{HTTP.StreamRequest.StreamLayer{Union{}}}}}}}}, method::String, url::HTTP.URIs.URI, headers::Vector{Pair{SubString{String}, SubString{String}}}, body::Vector{UInt8}; cookies::Bool, cookiejar::Dict{String, Set{HTTP.Cookies.Cookie}}, kw::Base.Pairs{Symbol, Bool, Tuple{Symbol}, NamedTuple{(:reached_redirect_limit,), Tuple{Bool}}})\n",
      "    @ HTTP.CookieRequest ~/.julia/packages/HTTP/IAI92/src/CookieRequest.jl:44\n",
      " [11] request\n",
      "    @ ~/.julia/packages/HTTP/IAI92/src/CookieRequest.jl:26 [inlined]\n",
      " [12] request(::Type{HTTP.BasicAuthRequest.BasicAuthLayer{HTTP.CookieRequest.CookieLayer{HTTP.MessageRequest.MessageLayer{HTTP.RetryRequest.RetryLayer{HTTP.ExceptionRequest.ExceptionLayer{HTTP.ConnectionRequest.ConnectionPoolLayer{HTTP.StreamRequest.StreamLayer{Union{}}}}}}}}}, method::String, url::HTTP.URIs.URI, headers::Vector{Pair{SubString{String}, SubString{String}}}, body::Vector{UInt8}; kw::Base.Pairs{Symbol, Bool, Tuple{Symbol, Symbol}, NamedTuple{(:reached_redirect_limit, :cookies), Tuple{Bool, Bool}}})\n",
      "    @ HTTP.BasicAuthRequest ~/.julia/packages/HTTP/IAI92/src/BasicAuthRequest.jl:28\n",
      " [13] request\n",
      "    @ ~/.julia/packages/HTTP/IAI92/src/BasicAuthRequest.jl:18 [inlined]\n",
      " [14] request(::Type{HTTP.RedirectRequest.RedirectLayer{HTTP.BasicAuthRequest.BasicAuthLayer{HTTP.CookieRequest.CookieLayer{HTTP.MessageRequest.MessageLayer{HTTP.RetryRequest.RetryLayer{HTTP.ExceptionRequest.ExceptionLayer{HTTP.ConnectionRequest.ConnectionPoolLayer{HTTP.StreamRequest.StreamLayer{Union{}}}}}}}}}}, method::String, url::HTTP.URIs.URI, headers::Vector{Pair{SubString{String}, SubString{String}}}, body::Vector{UInt8}; redirect_limit::Int64, forwardheaders::Bool, kw::Base.Pairs{Symbol, Bool, Tuple{Symbol}, NamedTuple{(:cookies,), Tuple{Bool}}})\n",
      "    @ HTTP.RedirectRequest ~/.julia/packages/HTTP/IAI92/src/RedirectRequest.jl:24\n",
      " [15] request(method::String, url::String, h::Vector{Pair{SubString{String}, SubString{String}}}, b::Vector{UInt8}; headers::Vector{Pair{SubString{String}, SubString{String}}}, body::Vector{UInt8}, query::Nothing, kw::Base.Pairs{Symbol, Bool, Tuple{Symbol}, NamedTuple{(:cookies,), Tuple{Bool}}})\n",
      "    @ HTTP ~/.julia/packages/HTTP/IAI92/src/HTTP.jl:314\n",
      " [16] request (repeats 2 times)\n",
      "    @ ~/.julia/packages/HTTP/IAI92/src/HTTP.jl:312 [inlined]\n",
      " [17] #get#14\n",
      "    @ ~/.julia/packages/HTTP/IAI92/src/HTTP.jl:391 [inlined]\n",
      " [18] get\n",
      "    @ ~/.julia/packages/HTTP/IAI92/src/HTTP.jl:391 [inlined]\n",
      " [19] get_symbols(symbol::String, from::String, to::String)\n",
      "    @ YahooFinance ~/.julia/packages/YahooFinance/1MYRP/src/get_symbols.jl:30\n",
      " [20] top-level scope\n",
      "    @ ~/Desktop/MTH8408/Git/MTH8408-Hiv24/Projet/Projet_jules.ipynb:4"
     ]
    }
   ],
   "source": [
    "using YahooFinance\n",
    "using Base\n",
    "\n",
    "x = get_symbols(\"GOOG\", \"2018-12-13\", \"2019-06-28\")"
   ]
  }
 ],
 "metadata": {
  "kernelspec": {
   "display_name": "Julia 1.9.3",
   "language": "julia",
   "name": "julia-1.9"
  },
  "language_info": {
   "file_extension": ".jl",
   "mimetype": "application/julia",
   "name": "julia",
   "version": "1.9.3"
  }
 },
 "nbformat": 4,
 "nbformat_minor": 2
}
