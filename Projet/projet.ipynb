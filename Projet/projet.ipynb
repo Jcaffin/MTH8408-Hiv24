{
 "cells": [
  {
   "cell_type": "markdown",
   "metadata": {},
   "source": [
    "Installation des packages"
   ]
  },
  {
   "cell_type": "code",
   "execution_count": 2,
   "metadata": {},
   "outputs": [
    {
     "name": "stderr",
     "output_type": "stream",
     "text": [
      "\u001b[32m\u001b[1m  Activating\u001b[22m\u001b[39m project at `c:\\Users\\Nicol\\OneDrive\\Bureau\\projetmth\\projetp`\n"
     ]
    },
    {
     "name": "stdout",
     "output_type": "stream",
     "text": [
      "\u001b[32m\u001b[1mStatus\u001b[22m\u001b[39m `C:\\Users\\Nicol\\OneDrive\\Bureau\\projetmth\\projetp\\Project.toml`\n",
      "  \u001b[90m[71b753c1] \u001b[39mYahooFinance v0.2.2 `https://github.com/paraynaud/YahooFinance.jl#master`\n"
     ]
    }
   ],
   "source": [
    "import Pkg\n",
    "Pkg.activate(\"projetp\")\n",
    "Pkg.status()\n"
   ]
  },
  {
   "cell_type": "code",
   "execution_count": 56,
   "metadata": {},
   "outputs": [
    {
     "name": "stderr",
     "output_type": "stream",
     "text": [
      "\u001b[32m\u001b[1m   Resolving\u001b[22m\u001b[39m package versions...\n",
      "\u001b[32m\u001b[1m    Updating\u001b[22m\u001b[39m `C:\\Users\\Nicol\\OneDrive\\Bureau\\projetmth\\projetp\\Project.toml`\n",
      "  \u001b[90m[10745b16] \u001b[39m\u001b[92m+ Statistics v1.10.0\u001b[39m\n",
      "\u001b[32m\u001b[1m  No Changes\u001b[22m\u001b[39m to `C:\\Users\\Nicol\\OneDrive\\Bureau\\projetmth\\projetp\\Manifest.toml`\n"
     ]
    }
   ],
   "source": [
    "Pkg.add(\"Statistics\")"
   ]
  },
  {
   "cell_type": "code",
   "execution_count": 3,
   "metadata": {},
   "outputs": [
    {
     "name": "stdout",
     "output_type": "stream",
     "text": [
      "\u001b[32m\u001b[1mStatus\u001b[22m\u001b[39m `C:\\Users\\Nicol\\OneDrive\\Bureau\\projetmth\\projetp\\Project.toml`\n",
      "  \u001b[90m[71b753c1] \u001b[39mYahooFinance v0.2.2 `https://github.com/paraynaud/YahooFinance.jl#master`\n"
     ]
    },
    {
     "name": "stderr",
     "output_type": "stream",
     "text": [
      "\u001b[32m\u001b[1m    Updating\u001b[22m\u001b[39m git-repo `https://github.com/paraynaud/YahooFinance.jl`\n",
      "\u001b[32m\u001b[1m   Resolving\u001b[22m\u001b[39m package versions...\n",
      "\u001b[32m\u001b[1m  No Changes\u001b[22m\u001b[39m to `C:\\Users\\Nicol\\OneDrive\\Bureau\\projetmth\\projetp\\Project.toml`\n",
      "\u001b[32m\u001b[1m  No Changes\u001b[22m\u001b[39m to `C:\\Users\\Nicol\\OneDrive\\Bureau\\projetmth\\projetp\\Manifest.toml`\n"
     ]
    }
   ],
   "source": [
    "Pkg.status()\n",
    "Pkg.add(url=\"https://github.com/paraynaud/YahooFinance.jl\")"
   ]
  },
  {
   "cell_type": "code",
   "execution_count": 4,
   "metadata": {},
   "outputs": [
    {
     "name": "stderr",
     "output_type": "stream",
     "text": [
      "\u001b[32m\u001b[1m  No Changes\u001b[22m\u001b[39m to `C:\\Users\\Nicol\\OneDrive\\Bureau\\projetmth\\projetp\\Project.toml`\n",
      "\u001b[32m\u001b[1m  No Changes\u001b[22m\u001b[39m to `C:\\Users\\Nicol\\OneDrive\\Bureau\\projetmth\\projetp\\Manifest.toml`\n"
     ]
    }
   ],
   "source": [
    "Pkg.resolve()"
   ]
  },
  {
   "cell_type": "code",
   "execution_count": 5,
   "metadata": {},
   "outputs": [
    {
     "data": {
      "text/plain": [
       "365×6 TimeSeries.TimeArray{Any, 2, Dates.Date, Matrix{Any}} 2018-01-16 to 2019-06-27\n",
       "│            │ Open    │ High    │ Low     │ Close   │ Volume   │ Adjusted │\n",
       "├────────────┼─────────┼─────────┼─────────┼─────────┼──────────┼──────────┤\n",
       "│ 2018-01-16 │ 56.6255 │ 56.9955 │ 55.8916 │ 56.088  │ 31506000 │ 56.088   │\n",
       "│ 2018-01-17 │ 56.311  │ 56.63   │ 55.8505 │ 56.599  │ 24052000 │ 56.599   │\n",
       "│ 2018-01-18 │ 56.5705 │ 56.6255 │ 55.875  │ 56.4895 │ 23964000 │ 56.4895  │\n",
       "│ 2018-01-19 │ 56.5915 │ 56.893  │ 56.415  │ 56.8755 │ 35564000 │ 56.8755  │\n",
       "│ 2018-01-22 │ 56.8745 │ 57.994  │ 56.7555 │ 57.7905 │ 32360000 │ 57.7905  │\n",
       "│ 2018-01-23 │ 57.9925 │ 58.5813 │ 57.9375 │ 58.4985 │ 26662000 │ 58.4985  │\n",
       "│ 2018-01-24 │ 58.8665 │ 58.993  │ 58.0525 │ 58.212  │ 28332000 │ 58.212   │\n",
       "│ 2018-01-25 │ 58.6265 │ 58.797  │ 58.138  │ 58.5185 │ 29610000 │ 58.5185  │\n",
       "│ 2018-01-26 │ 58.754  │ 58.792  │ 57.9055 │ 58.792  │ 40376000 │ 58.792   │\n",
       "   ⋮\n",
       "│ 2019-06-18 │ 55.4845 │ 55.8195 │ 54.9495 │ 55.18   │ 27734000 │ 55.18    │\n",
       "│ 2019-06-19 │ 55.28   │ 55.35   │ 54.674  │ 55.1165 │ 26776000 │ 55.1165  │\n",
       "│ 2019-06-20 │ 55.9995 │ 56.006  │ 55.237  │ 55.571  │ 25240000 │ 55.571   │\n",
       "│ 2019-06-21 │ 55.462  │ 56.2055 │ 55.404  │ 56.094  │ 38952000 │ 56.094   │\n",
       "│ 2019-06-24 │ 55.9805 │ 56.1    │ 55.5505 │ 55.776  │ 27912000 │ 55.776   │\n",
       "│ 2019-06-25 │ 55.633  │ 55.7175 │ 54.19   │ 54.3175 │ 30938000 │ 54.3175  │\n",
       "│ 2019-06-26 │ 54.325  │ 54.6485 │ 53.612  │ 53.99   │ 36218000 │ 53.99    │\n",
       "│ 2019-06-27 │ 54.2    │ 54.355  │ 53.7645 │ 53.8005 │ 20086000 │ 53.8005  │"
      ]
     },
     "metadata": {},
     "output_type": "display_data"
    }
   ],
   "source": [
    "\n",
    "using YahooFinance\n",
    "x = get_symbols(\"GOOG\", \"2018-01-13\", \"2019-06-28\")\n"
   ]
  },
  {
   "cell_type": "code",
   "execution_count": 6,
   "metadata": {},
   "outputs": [
    {
     "data": {
      "text/plain": [
       "31×6 TimeSeries.TimeArray{Any, 2, Dates.Date, Matrix{Any}} 2019-01-14 to 2019-02-27\n",
       "│            │ Open   │ High   │ Low    │ Close  │ Volume   │ Adjusted │\n",
       "├────────────┼────────┼────────┼────────┼────────┼──────────┼──────────┤\n",
       "│ 2019-01-14 │ 334.24 │ 335.48 │ 329.13 │ 332.94 │ 10499600 │ 332.94   │\n",
       "│ 2019-01-15 │ 349.6  │ 357.22 │ 347.0  │ 354.64 │ 21181200 │ 354.64   │\n",
       "│ 2019-01-16 │ 354.0  │ 358.85 │ 348.11 │ 351.39 │ 15385500 │ 351.39   │\n",
       "│ 2019-01-17 │ 349.5  │ 355.79 │ 346.41 │ 353.19 │ 18871200 │ 353.19   │\n",
       "│ 2019-01-18 │ 351.97 │ 353.0  │ 336.73 │ 339.1  │ 26621000 │ 339.1    │\n",
       "│ 2019-01-22 │ 334.89 │ 336.88 │ 321.03 │ 325.16 │ 17941400 │ 325.16   │\n",
       "│ 2019-01-23 │ 328.25 │ 331.75 │ 318.6  │ 321.99 │ 13480100 │ 321.99   │\n",
       "│ 2019-01-24 │ 320.6  │ 331.8  │ 319.0  │ 326.67 │ 11131600 │ 326.67   │\n",
       "│ 2019-01-25 │ 328.72 │ 340.0  │ 328.51 │ 338.05 │ 11152900 │ 338.05   │\n",
       "   ⋮\n",
       "│ 2019-02-15 │ 358.47 │ 364.4  │ 355.5  │ 356.87 │ 9230000  │ 356.87   │\n",
       "│ 2019-02-19 │ 355.8  │ 365.0  │ 355.32 │ 361.92 │ 7396600  │ 361.92   │\n",
       "│ 2019-02-20 │ 364.85 │ 366.71 │ 356.7  │ 359.91 │ 8110700  │ 359.91   │\n",
       "│ 2019-02-21 │ 360.03 │ 362.85 │ 353.88 │ 356.97 │ 6227900  │ 356.97   │\n",
       "│ 2019-02-22 │ 360.34 │ 366.13 │ 360.05 │ 363.02 │ 7088200  │ 363.02   │\n",
       "│ 2019-02-25 │ 367.01 │ 371.49 │ 363.79 │ 363.91 │ 7569300  │ 363.91   │\n",
       "│ 2019-02-26 │ 362.98 │ 365.7  │ 359.33 │ 364.97 │ 4944600  │ 364.97   │\n",
       "│ 2019-02-27 │ 363.5  │ 368.03 │ 359.8  │ 362.87 │ 5629900  │ 362.87   │"
      ]
     },
     "metadata": {},
     "output_type": "display_data"
    }
   ],
   "source": [
    "PF=[\"NFLX\",\"IBM\"]\n",
    "x=get_symbols(PF[1],\"2019-01-13\", \"2019-02-28\") #x de type timearray"
   ]
  },
  {
   "cell_type": "code",
   "execution_count": 26,
   "metadata": {},
   "outputs": [
    {
     "data": {
      "text/plain": [
       "115-element Vector{Any}:\n",
       " 332.94000244140625\n",
       " 354.6400146484375\n",
       " 351.3900146484375\n",
       " 353.19000244140625\n",
       " 339.1000061035156\n",
       " 325.1600036621094\n",
       " 321.989990234375\n",
       " 326.6700134277344\n",
       " 338.04998779296875\n",
       " 335.6600036621094\n",
       "   ⋮\n",
       " 350.6199951171875\n",
       " 357.1199951171875\n",
       " 363.5199890136719\n",
       " 365.2099914550781\n",
       " 369.2099914550781\n",
       " 371.0400085449219\n",
       " 360.29998779296875\n",
       " 362.20001220703125\n",
       " 370.0199890136719"
      ]
     },
     "metadata": {},
     "output_type": "display_data"
    }
   ],
   "source": [
    "NFLX=values(x[\"Adjusted\"])  # extrait les valeurs de la timeArray"
   ]
  },
  {
   "cell_type": "code",
   "execution_count": 29,
   "metadata": {},
   "outputs": [
    {
     "name": "stdout",
     "output_type": "stream",
     "text": [
      "NFLX\n",
      "IBM\n",
      "Any[332.94000244140625, 354.6400146484375, 351.3900146484375, 353.19000244140625, 339.1000061035156, 325.1600036621094, 321.989990234375, 326.6700134277344, 338.04998779296875, 335.6600036621094, 328.8999938964844, 340.6600036621094, 339.5, 339.8500061035156, 351.3399963378906, 355.80999755859375, 352.19000244140625, 344.7099914550781, 347.57000732421875, 345.7300109863281, 359.9700012207031, 351.7699890136719, 359.07000732421875, 356.8699951171875, 361.9200134277344, 359.9100036621094, 356.9700012207031, 363.0199890136719, 363.9100036621094, 364.9700012207031, 362.8699951171875, 358.1000061035156, 357.32000732421875, 351.0400085449219, 354.29998779296875, 359.6099853515625, 352.6000061035156, 349.6000061035156, 358.8599853515625, 356.2699890136719, 361.2099914550781, 358.82000732421875, 361.4599914550781, 363.44000244140625, 358.7799987792969, 375.2200012207031, 377.8699951171875, 361.010009765625, 366.2300109863281, 359.9700012207031, 353.3699951171875, 354.6099853515625, 356.55999755859375, 366.9599914550781, 367.7200012207031, 369.75, 367.8800048828125, 365.489990234375, 361.4100036621094, 364.7099914550781, 363.9200134277344, 367.6499938964844, 351.1400146484375, 348.8699951171875, 359.4599914550781, 354.739990234375, 360.3500061035156, 377.3399963378906, 381.8900146484375, 374.2300109863281, 368.3299865722656, 374.8500061035156, 371.8299865722656, 370.5400085449219, 378.80999755859375, 379.05999755859375, 385.0299987792969, 378.6700134277344, 370.4599914550781, 364.3699951171875, 362.75, 361.0400085449219, 345.260009765625, 345.6099853515625, 354.989990234375, 359.30999755859375, 354.45001220703125, 348.1099853515625, 354.2699890136719, 359.7300109863281, 352.2099914550781, 354.3900146484375, 355.05999755859375, 349.19000244140625, 351.8500061035156, 343.2799987792969, 336.6300048828125, 353.3999938964844, 355.7300109863281, 357.1300048828125, 360.8699951171875, 352.010009765625, 351.2699890136719, 345.55999755859375, 343.42999267578125, 339.7300109863281, 350.6199951171875, 357.1199951171875, 363.5199890136719, 365.2099914550781, 369.2099914550781, 371.0400085449219, 360.29998779296875, 362.20001220703125, 370.0199890136719]\n"
     ]
    }
   ],
   "source": [
    "using YahooFinance\n",
    "\n",
    "#automatisation, création d'uneliste d'actionpossible (PF)\n",
    "PF=[\"NFLX\",\"IBM\"]\n",
    "n=length(PF)\n",
    "for i=1:n\n",
    "    A=PF[i]\n",
    "    println(A)\n",
    "    x =get_symbols(PF[i], \"2019-01-13\", \"2019-06-28\")\n",
    "    A=values(x[\"Close\"])\n",
    "end\n",
    "println(NFLX)\n"
   ]
  },
  {
   "cell_type": "code",
   "execution_count": 65,
   "metadata": {},
   "outputs": [
    {
     "name": "stdout",
     "output_type": "stream",
     "text": [
      "[0.001127181914073286, 0.0013137077650412768]\n"
     ]
    },
    {
     "data": {
      "text/plain": [
       "2×2 Matrix{Float64}:\n",
       " 0.000406385  8.1709e-5\n",
       " 8.1709e-5    0.00016896"
      ]
     },
     "metadata": {},
     "output_type": "display_data"
    }
   ],
   "source": [
    "using YahooFinance\n",
    "using Statistics\n",
    "date_debut =\"2019-01-13\"\n",
    "date_fin=\"2019-06-28\"\n",
    "\n",
    "PF=[\"NFLX\",\"IBM\"]\n",
    "n=length(PF)\n",
    "A=[]\n",
    "for element in PF\n",
    "    \n",
    "    x =get_symbols(element, date_debut, date_fin)\n",
    "    element=values(x[\"Close\"])\n",
    "    push!(A,element)\n",
    "end\n",
    "T=length(A[1])\n",
    "\n",
    "\n",
    "E=[]\n",
    "M=[]\n",
    "for j =1:n                      # boucle pour chaque action de la liste\n",
    "    for i = 1:T-1           # colonne des variation entre 2 itérations\n",
    "        \n",
    "        diff=(A[j][i+1]-A[j][i])/A[j][i] # évolution entre 2 itérations en %\n",
    "        if i==1 \n",
    "            E = diff\n",
    "        else \n",
    "            E=[E diff]\n",
    "        end\n",
    "    end\n",
    "\n",
    "    if j==1         # concaténation des 2 colonnes pour faieune matrice\n",
    "        M=E'\n",
    "    else \n",
    "        cop=M\n",
    "\n",
    "        M=hcat(cop,E')\n",
    "    end\n",
    "end\n",
    "\n",
    "# M est une matrice regroupant en colonne l'évolution mensuelle en %\n",
    "r=vec(Statistics.mean(M; dims = 1))\n",
    "println(m)\n",
    "Q = Statistics.cov(M)  # Matrice de covariance"
   ]
  },
  {
   "cell_type": "markdown",
   "metadata": {},
   "source": [
    "Maintnant que l'on a la matrice de covariance nous allons chercher à minimiser x'Q x (qui est la variance)\n",
    "On se fixe une rentabilité à viser, imaginons 4%, soit pour un montant initial de 10 000, 400$ donc  r'*x>=400 et somme(x)<10 000"
   ]
  },
  {
   "cell_type": "code",
   "execution_count": 60,
   "metadata": {},
   "outputs": [
    {
     "name": "stderr",
     "output_type": "stream",
     "text": [
      "\u001b[32m\u001b[1m   Resolving\u001b[22m\u001b[39m package versions...\n",
      "\u001b[32m\u001b[1m    Updating\u001b[22m\u001b[39m `C:\\Users\\Nicol\\OneDrive\\Bureau\\projetmth\\projetp\\Project.toml`\n",
      "  \u001b[90m[4076af6c] \u001b[39m\u001b[92m+ JuMP v1.20.0\u001b[39m\n",
      "\u001b[32m\u001b[1m    Updating\u001b[22m\u001b[39m `C:\\Users\\Nicol\\OneDrive\\Bureau\\projetmth\\projetp\\Manifest.toml`\n",
      "  \u001b[90m[6e4b80f9] \u001b[39m\u001b[92m+ BenchmarkTools v1.5.0\u001b[39m\n",
      "  \u001b[90m[523fee87] \u001b[39m\u001b[92m+ CodecBzip2 v0.8.2\u001b[39m\n",
      "  \u001b[90m[bbf7d656] \u001b[39m\u001b[92m+ CommonSubexpressions v0.3.0\u001b[39m\n",
      "  \u001b[90m[163ba53b] \u001b[39m\u001b[92m+ DiffResults v1.1.0\u001b[39m\n",
      "  \u001b[90m[b552c78f] \u001b[39m\u001b[92m+ DiffRules v1.15.1\u001b[39m\n",
      "  \u001b[90m[ffbed154] \u001b[39m\u001b[92m+ DocStringExtensions v0.9.3\u001b[39m\n",
      "  \u001b[90m[f6369f11] \u001b[39m\u001b[92m+ ForwardDiff v0.10.36\u001b[39m\n",
      "  \u001b[90m[92d709cd] \u001b[39m\u001b[92m+ IrrationalConstants v0.2.2\u001b[39m\n",
      "  \u001b[90m[4076af6c] \u001b[39m\u001b[92m+ JuMP v1.20.0\u001b[39m\n",
      "  \u001b[90m[2ab3a3ac] \u001b[39m\u001b[92m+ LogExpFunctions v0.3.27\u001b[39m\n",
      "  \u001b[90m[1914dd2f] \u001b[39m\u001b[92m+ MacroTools v0.5.13\u001b[39m\n",
      "  \u001b[90m[b8f27783] \u001b[39m\u001b[92m+ MathOptInterface v1.27.0\u001b[39m\n",
      "  \u001b[90m[d8a4904e] \u001b[39m\u001b[92m+ MutableArithmetics v1.4.1\u001b[39m\n",
      "  \u001b[90m[77ba4419] \u001b[39m\u001b[92m+ NaNMath v1.0.2\u001b[39m\n",
      "  \u001b[90m[276daf66] \u001b[39m\u001b[92m+ SpecialFunctions v2.3.1\u001b[39m\n",
      "  \u001b[90m[1e83bf80] \u001b[39m\u001b[92m+ StaticArraysCore v1.4.2\u001b[39m\n",
      "  \u001b[90m[6e34b625] \u001b[39m\u001b[92m+ Bzip2_jll v1.0.8+1\u001b[39m\n",
      "  \u001b[90m[efe28fd5] \u001b[39m\u001b[92m+ OpenSpecFun_jll v0.5.5+0\u001b[39m\n",
      "  \u001b[90m[9abbd945] \u001b[39m\u001b[92m+ Profile\u001b[39m\n",
      "  \u001b[90m[05823500] \u001b[39m\u001b[92m+ OpenLibm_jll v0.8.1+2\u001b[39m\n",
      "\u001b[32m\u001b[1mPrecompiling\u001b[22m\u001b[39m project...\n",
      "\u001b[32m  ✓ \u001b[39m\u001b[90mMathOptInterface\u001b[39m\n",
      "\u001b[32m  ✓ \u001b[39mJuMP\n",
      "  2 dependencies successfully precompiled in 126 seconds. 63 already precompiled.\n"
     ]
    }
   ],
   "source": [
    "Pkg.add(\"JuMP\")"
   ]
  },
  {
   "cell_type": "code",
   "execution_count": 61,
   "metadata": {},
   "outputs": [
    {
     "name": "stderr",
     "output_type": "stream",
     "text": [
      "\u001b[32m\u001b[1m   Resolving\u001b[22m\u001b[39m package versions...\n",
      "\u001b[32m\u001b[1m    Updating\u001b[22m\u001b[39m `C:\\Users\\Nicol\\OneDrive\\Bureau\\projetmth\\projetp\\Project.toml`\n",
      "  \u001b[90m[0327d340] \u001b[39m\u001b[92m+ MultiObjectiveAlgorithms v1.3.2\u001b[39m\n",
      "\u001b[32m\u001b[1m    Updating\u001b[22m\u001b[39m `C:\\Users\\Nicol\\OneDrive\\Bureau\\projetmth\\projetp\\Manifest.toml`\n",
      "  \u001b[90m[861a8166] \u001b[39m\u001b[92m+ Combinatorics v1.0.2\u001b[39m\n",
      "  \u001b[90m[0327d340] \u001b[39m\u001b[92m+ MultiObjectiveAlgorithms v1.3.2\u001b[39m\n",
      "\u001b[32m\u001b[1mPrecompiling\u001b[22m\u001b[39m project...\n",
      "\u001b[32m  ✓ \u001b[39mMultiObjectiveAlgorithms\n",
      "  1 dependency successfully precompiled in 4 seconds. 66 already precompiled.\n",
      "\u001b[32m\u001b[1m   Resolving\u001b[22m\u001b[39m package versions...\n",
      "\u001b[32m\u001b[1m    Updating\u001b[22m\u001b[39m `C:\\Users\\Nicol\\OneDrive\\Bureau\\projetmth\\projetp\\Project.toml`\n",
      "  \u001b[90m[b6b21f68] \u001b[39m\u001b[92m+ Ipopt v1.6.2\u001b[39m\n",
      "\u001b[32m\u001b[1m    Updating\u001b[22m\u001b[39m `C:\\Users\\Nicol\\OneDrive\\Bureau\\projetmth\\projetp\\Manifest.toml`\n",
      "  \u001b[90m[b6b21f68] \u001b[39m\u001b[92m+ Ipopt v1.6.2\u001b[39m\n",
      "  \u001b[90m[ae81ac8f] \u001b[39m\u001b[92m+ ASL_jll v0.1.3+0\u001b[39m\n",
      "  \u001b[90m[e33a78d0] \u001b[39m\u001b[92m+ Hwloc_jll v2.10.0+0\u001b[39m\n",
      "  \u001b[90m[9cc047cb] \u001b[39m\u001b[92m+ Ipopt_jll v300.1400.1400+0\u001b[39m\n",
      "  \u001b[90m[d00139f3] \u001b[39m\u001b[92m+ METIS_jll v5.1.2+0\u001b[39m\n",
      "  \u001b[90m[d7ed1dd3] \u001b[39m\u001b[92m+ MUMPS_seq_jll v500.600.201+0\u001b[39m\n",
      "\u001b[33m⌅\u001b[39m \u001b[90m[656ef2d0] \u001b[39m\u001b[92m+ OpenBLAS32_jll v0.3.24+0\u001b[39m\n",
      "  \u001b[90m[319450e9] \u001b[39m\u001b[92m+ SPRAL_jll v2024.1.18+0\u001b[39m\n",
      "\u001b[36m\u001b[1m        Info\u001b[22m\u001b[39m Packages marked with \u001b[33m⌅\u001b[39m have new versions available but compatibility constraints restrict them from upgrading. To see why use `status --outdated -m`\n",
      "\u001b[32m\u001b[1mPrecompiling\u001b[22m\u001b[39m project...\n",
      "\u001b[32m  ✓ \u001b[39mIpopt\n",
      "  1 dependency successfully precompiled in 14 seconds. 74 already precompiled.\n"
     ]
    }
   ],
   "source": [
    "import Pkg; \n",
    "Pkg.add(\"MultiObjectiveAlgorithms\")\n",
    "Pkg.add(\"Ipopt\")\n",
    "import MultiObjectiveAlgorithms as MOA\n"
   ]
  },
  {
   "cell_type": "code",
   "execution_count": 101,
   "metadata": {},
   "outputs": [
    {
     "name": "stdout",
     "output_type": "stream",
     "text": [
      "1\n",
      "m= [0.0002744516816359739, 0.0005364931950989551, 0.00165794656050926]\n",
      "La matrice de cvariance est : [0.00029788543096644646 8.200623074631287e-5 0.0001624900088323421; 8.200623074631287e-5 0.00020377900854143613 0.00011737219307340267; 0.0001624900088323421 0.00011737219307340267 0.00043520413577690146]\n",
      "This is Ipopt version 3.14.14, running with linear solver MUMPS 5.6.2.\n",
      "\n",
      "Number of nonzeros in equality constraint Jacobian...:        0\n",
      "Number of nonzeros in inequality constraint Jacobian.:        6\n",
      "Number of nonzeros in Lagrangian Hessian.............:        6\n",
      "\n",
      "Total number of variables............................:        3\n",
      "                     variables with only lower bounds:        3\n",
      "                variables with lower and upper bounds:        0\n",
      "                     variables with only upper bounds:        0\n",
      "Total number of equality constraints.................:        0\n",
      "Total number of inequality constraints...............:        2\n",
      "        inequality constraints with only lower bounds:        1\n",
      "   inequality constraints with lower and upper bounds:        0\n",
      "        inequality constraints with only upper bounds:        1\n",
      "\n",
      "iter    objective    inf_pr   inf_du lg(mu)  ||d||  lg(rg) alpha_du alpha_pr  ls\n",
      "   0  1.6606021e-07 5.00e-01 1.03e-03  -1.0 0.00e+00    -  0.00e+00 0.00e+00   0\n",
      "   1  2.3726420e-07 5.00e-01 5.28e+01  -1.0 5.10e-01    -  9.00e-01 1.94e-02h  1\n",
      "   2  8.2938894e-06 5.00e-01 3.77e+00  -1.0 2.10e+02    -  6.37e-05 5.86e-04h  1\n",
      "   3  3.9886943e+01 0.00e+00 1.55e+02  -1.0 3.04e+02    -  2.80e-01 1.00e+00h  1\n",
      "   4  3.9757719e+01 0.00e+00 2.44e+02  -1.0 6.50e+01    -  9.09e-01 7.60e-03f  2\n",
      "   5  3.9537514e+01 0.00e+00 3.51e+01  -1.0 2.03e+01    -  4.69e-01 1.00e+00f  1\n",
      "   6  3.9519726e+01 0.00e+00 1.00e-06  -1.0 3.05e+01    -  1.00e+00 1.00e+00f  1\n",
      "   7  3.9336180e+01 0.00e+00 2.00e-07  -1.7 8.38e+00    -  1.00e+00 1.00e+00f  1\n",
      "   8  3.9298705e+01 0.00e+00 2.83e-08  -2.5 2.67e+00    -  1.00e+00 1.00e+00f  1\n",
      "   9  3.9293206e+01 0.00e+00 1.50e-09  -3.8 3.43e-01    -  1.00e+00 1.00e+00f  1\n",
      "iter    objective    inf_pr   inf_du lg(mu)  ||d||  lg(rg) alpha_du alpha_pr  ls\n",
      "  10  3.9292906e+01 0.00e+00 1.84e-11  -5.7 1.22e-02    -  1.00e+00 1.00e+00f  1\n",
      "  11  3.9292902e+01 0.00e+00 2.84e-14  -8.6 1.18e-04    -  1.00e+00 1.00e+00f  1\n",
      "\n",
      "Number of Iterations....: 11\n",
      "\n",
      "                                   (scaled)                 (unscaled)\n",
      "Objective...............:   3.9292902306627433e+01    3.9292902306627433e+01\n",
      "Dual infeasibility......:   2.8421709430404007e-14    2.8421709430404007e-14\n",
      "Constraint violation....:   0.0000000000000000e+00    0.0000000000000000e+00\n",
      "Variable bound violation:   0.0000000000000000e+00    0.0000000000000000e+00\n",
      "Complementarity.........:   2.5113881168433467e-09    2.5113881168433467e-09\n",
      "Overall NLP error.......:   2.5113881168433467e-09    2.5113881168433467e-09\n",
      "\n",
      "\n",
      "Number of objective function evaluations             = 14\n",
      "Number of objective gradient evaluations             = 12\n",
      "Number of equality constraint evaluations            = 0\n",
      "Number of inequality constraint evaluations          = 14\n",
      "Number of equality constraint Jacobian evaluations   = 0\n",
      "Number of inequality constraint Jacobian evaluations = 1\n",
      "Number of Lagrangian Hessian evaluations             = 1\n",
      "Total seconds in IPOPT                               = 0.014\n",
      "\n",
      "EXIT: Optimal Solution Found.\n"
     ]
    },
    {
     "data": {
      "text/plain": [
       "* Solver : Ipopt\n",
       "\n",
       "* Status\n",
       "  Result count       : 1\n",
       "  Termination status : LOCALLY_SOLVED\n",
       "  Message from the solver:\n",
       "  \"Solve_Succeeded\"\n",
       "\n",
       "* Candidate solution (result #1)\n",
       "  Primal status      : FEASIBLE_POINT\n",
       "  Dual status        : FEASIBLE_POINT\n",
       "  Objective value    : 3.92929e+01\n",
       "  Dual objective value : 7.85858e+01\n",
       "\n",
       "* Work counters\n",
       "  Solve time (sec)   : 2.10001e-02\n",
       "  Barrier iterations : 11\n"
      ]
     },
     "metadata": {},
     "output_type": "display_data"
    }
   ],
   "source": [
    "\n",
    "using JuMP\n",
    "using DataFrames\n",
    "using Ipopt\n",
    "using YahooFinance\n",
    "using Statistics\n",
    "\n",
    "date_debut =\"2019-01-13\"\n",
    "date_fin=\"2023-06-28\"\n",
    "\n",
    "PF=[\"IBM\",\"WMT\",\"AAPL\"]\n",
    "n=length(PF)\n",
    "A=[]\n",
    "for element in PF\n",
    "    \n",
    "    x =get_symbols(element, date_debut, date_fin)\n",
    "    element=values(x[\"Close\"])\n",
    "    push!(A,element)\n",
    "end\n",
    "T=length(A[1])\n",
    "\n",
    "\n",
    "k=1\n",
    "E=[]\n",
    "M=[]\n",
    "for j =1:n                      # boucle pour chaque action de la liste\n",
    "    for i = 1:T-1           # colonne des variation entre 2 itérations\n",
    "        \n",
    "        diff=(A[j][i+1]-A[j][i])/A[j][i] # évolution entre 2 itérations en %\n",
    "        if i==1 \n",
    "            E = diff\n",
    "        else \n",
    "            E=[E diff]\n",
    "        end\n",
    "    end\n",
    "\n",
    "    if k==1         # concaténation des 2 colonnes pour faieune matrice\n",
    "        M=E'\n",
    "    else \n",
    "        cop=M\n",
    "\n",
    "        M=hcat(cop,E')\n",
    "    end\n",
    "    k=k+1\n",
    "end\n",
    "println(length(M[1]))\n",
    "# M est une matrice regroupant en colonne l'évolution mensuelle en %\n",
    "r=vec(Statistics.mean(M; dims = 1))\n",
    "Q = Statistics.cov(M)  # Matrice de covariance\n",
    "\n",
    "\n",
    "println(\"m= \",r)\n",
    "println(\"La matrice de cvariance est : \", Q)\n",
    "\n",
    "\n",
    "model = Model(Ipopt.Optimizer)\n",
    "@variable(model, x[1:n] >= 0)\n",
    "\n",
    "@objective(model, Min, x' * Q * x)\n",
    "\n",
    "@constraint(model, sum(x) <= 1000)\n",
    "@constraint(model, r' * x >= 0.5)\n",
    "\n",
    "optimize!(model)\n",
    "solution_summary(model)"
   ]
  },
  {
   "cell_type": "code",
   "execution_count": 102,
   "metadata": {},
   "outputs": [
    {
     "data": {
      "text/plain": [
       "3-element Vector{Float64}:\n",
       "   3.377100156129882e-8\n",
       "  40.79583222866638\n",
       " 288.3767878988442"
      ]
     },
     "metadata": {},
     "output_type": "display_data"
    }
   ],
   "source": [
    "value.(x)# allocations, des sous sur les différentes actions "
   ]
  }
 ],
 "metadata": {
  "kernelspec": {
   "display_name": "Julia 1.10.1",
   "language": "julia",
   "name": "julia-1.10"
  },
  "language_info": {
   "file_extension": ".jl",
   "mimetype": "application/julia",
   "name": "julia",
   "version": "1.10.1"
  }
 },
 "nbformat": 4,
 "nbformat_minor": 2
}
