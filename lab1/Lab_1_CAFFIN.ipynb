{
 "cells": [
  {
   "cell_type": "markdown",
   "id": "d1f0877a-11a5-4229-8c56-60f1676e02aa",
   "metadata": {},
   "source": [
    "# RAPPORT LABORATOIRE 1"
   ]
  },
  {
   "cell_type": "markdown",
   "id": "a66304c0-a0d7-4777-964e-499725f0eaf3",
   "metadata": {},
   "source": [
    "Le dépôt du code pour le lab1 se trouve à l'adresse suivante : **https://github.com/Splatlas/MTH8408-Hiv24**"
   ]
  },
  {
   "cell_type": "markdown",
   "id": "511bb5b5-b2fd-4be4-b701-55ab1d69c703",
   "metadata": {},
   "source": [
    "## EXERCICE 1 : "
   ]
  },
  {
   "cell_type": "markdown",
   "id": "8c5beef5-2acb-48b6-a055-f0cd5882db3b",
   "metadata": {},
   "source": [
    "Ayant suivi le cours MTH6412B, j'ai délibérément sauté les étapes de l'exercice 1."
   ]
  },
  {
   "cell_type": "markdown",
   "id": "ff8c4129-dc7b-46a4-a3fb-1890f1f4b92a",
   "metadata": {},
   "source": [
    "## EXERCICE 2 :"
   ]
  },
  {
   "cell_type": "markdown",
   "id": "923ac33a-3a24-4301-a9ad-90cff1c7b762",
   "metadata": {},
   "source": [
    "1. Fonction qui résoud une équation polynomiale de degré 2 :"
   ]
  },
  {
   "cell_type": "code",
   "execution_count": null,
   "id": "39948494-a19c-42a3-92fe-5ef3466a8038",
   "metadata": {},
   "outputs": [],
   "source": [
    "function poly(a,b,c)\n",
    "    Δ = (b^2) - 4*a*c\n",
    "    if Δ > 0\n",
    "        r_1 = (-b-sqrt(Δ))/(2*a)\n",
    "        r_2 = (-b+sqrt(Δ))/(2*a)\n",
    "        println(\"Les solutions réelles sont $r_1 et $r_2\")\n",
    "    elseif Δ == 0\n",
    "        r_0 = -b/(2*a)\n",
    "        println(\"La solution unique est $r_0\")\n",
    "    else\n",
    "        r_1 = (-b-im*sqrt(-Δ))/(2*a)\n",
    "        r_2 = (-b+im*sqrt(-Δ))/(2*a)\n",
    "        println(\"Les solutions complexes sont $r_1 et $r_2\")\n",
    "    end\n",
    " end"
   ]
  },
  {
   "cell_type": "markdown",
   "id": "69d1df79-14e1-492c-9933-330331c3026a",
   "metadata": {},
   "source": [
    "2. Fonction qui vérifie si une matrice est symétrique définié positive :"
   ]
  },
  {
   "cell_type": "code",
   "execution_count": null,
   "id": "abe1b59c-05dd-4379-9775-fce63a685cc2",
   "metadata": {},
   "outputs": [],
   "source": [
    "function sym_def_pos(A)\n",
    "    if  !(A == A')\n",
    "        return false, \"$A n'est pas symétrique\"\n",
    "    end\n",
    "\n",
    "    try\n",
    "        inv(A)\n",
    "        return true, \"$A est symétrique défini positive\"\n",
    "    catch\n",
    "        return false, \"$A n'est pas symétrique défini positive\"\n",
    "    end\n",
    "end"
   ]
  },
  {
   "cell_type": "markdown",
   "id": "94f4fa45-6bba-4b5d-babe-2203acc00cdd",
   "metadata": {},
   "source": [
    "On utilise un block try-catch qui permet de tester une fonction sans qu'un message d'erreur n'interrompe l'exécution : \n",
    "- si la matrice est inversible, la fonction *inv()* ne renvoit pas d'erreur, la fonction *sym_def_pos* renvoit *true*\n",
    "- si la matrice n'est pas inversible, la fonction *inv()* renvoit une erreur, la fonction *sym_def_pos* renvoit *true* sans être interrompu par l'erreur de *inv()*"
   ]
  },
  {
   "cell_type": "markdown",
   "id": "4f0379f0-5b29-41f9-9569-149d7e7f435c",
   "metadata": {},
   "source": [
    "## EXERCICE 3 :"
   ]
  },
  {
   "cell_type": "markdown",
   "id": "1af65958-e939-43e6-b948-802abb3a7561",
   "metadata": {},
   "source": [
    "L'environnement a été créé via le terminal Julia, il est accessible sur le dépot github précisé en début de document !"
   ]
  },
  {
   "cell_type": "markdown",
   "id": "0e306428-aa28-4949-840e-80d93f8dd263",
   "metadata": {},
   "source": [
    "## EXERCICE 4 :"
   ]
  },
  {
   "cell_type": "markdown",
   "id": "ee2759f4-c566-4f47-8acb-649d6e8cd8e2",
   "metadata": {},
   "source": [
    "1. Avec le package JuMP (cf. le fichier JuMP.jl dans le dépot):"
   ]
  },
  {
   "cell_type": "code",
   "execution_count": null,
   "id": "1130c9f2-e817-4136-ab3e-4ff9961b99ca",
   "metadata": {},
   "outputs": [],
   "source": [
    "MonModel = Model(Ipopt.Optimizer)\n",
    "@variable(MonModel, x₁) #on peut avoir plusieurs types de variables\n",
    "@variable(MonModel, x₂)\n",
    "@objective(MonModel, Min, 100*((x₂ - x₁^2)^2)+(1-x₁)^2)\n",
    "JuMP.optimize!(MonModel)\n",
    "\n",
    "@show JuMP.value(x₁)              \n",
    "@show JuMP.value(x₂)            \n",
    "@show JuMP.objective_value(MonModel)"
   ]
  },
  {
   "cell_type": "markdown",
   "id": "464edabf-103a-4fbc-a392-03b47210aa33",
   "metadata": {},
   "source": [
    "La fonction est une somme de carrés, elle est donc supérieure ou égale à 0, et 0 est atteint pour le couple (1,1). Le minimum attendu est donc (1,1)."
   ]
  },
  {
   "cell_type": "markdown",
   "id": "939fa651-4c78-42dc-8496-6a84447c1095",
   "metadata": {},
   "source": [
    "En utilisant le package JuMP, les valeurs suivantes sont obtenues : "
   ]
  },
  {
   "cell_type": "code",
   "execution_count": null,
   "id": "8324b7ec-d152-49d3-ad0a-b9b1556cc7aa",
   "metadata": {},
   "outputs": [],
   "source": [
    "JuMP.value(x₁) = 0.9999999999999898\n",
    "JuMP.value(x₂) = 0.9999999999999791"
   ]
  },
  {
   "cell_type": "markdown",
   "id": "9c910002-9afb-4790-90d2-3b26491f0061",
   "metadata": {},
   "source": [
    "L'écart provient probablement de l'approximation faite lors de la recherche du zéro d'une fonction par la méthode de résolution du package JuMP."
   ]
  },
  {
   "cell_type": "markdown",
   "id": "a5cca7f8-bd16-4026-a66a-669d0a4b0d8d",
   "metadata": {},
   "source": [
    "2. Avec le package NLPModels (cf. le fichier NLPModels.jl dans le dépot):"
   ]
  },
  {
   "cell_type": "code",
   "execution_count": null,
   "id": "dfac13e3-1ea9-4c5b-95c1-ea603cc0cc13",
   "metadata": {},
   "outputs": [],
   "source": [
    "#Initialize the objective function, and an initial guess\n",
    "f(x) = (x[1] - 1)^2 + 100*(x[2] - x[1]^2)^2\n",
    "x0 = [-1.2; 1.0]\n",
    "\n",
    "#Create an ADNLPModel\n",
    "nlp = ADNLPModel(f, x0)\n",
    "stats = ipopt(nlp)\n",
    "print(stats)"
   ]
  },
  {
   "cell_type": "markdown",
   "id": "946546ca-1ca1-46ab-b356-defa29f2dd53",
   "metadata": {},
   "source": [
    "En utilisant le package NLPModel, les valeurs suivantes sont obtenues : "
   ]
  },
  {
   "cell_type": "code",
   "execution_count": null,
   "id": "e626501e-563e-4399-9307-8b32333af044",
   "metadata": {},
   "outputs": [],
   "source": [
    "solution: [0.9999999999400667  0.9999999998789006]"
   ]
  },
  {
   "cell_type": "markdown",
   "id": "67878269-aadb-44a2-931c-9eb97d859281",
   "metadata": {},
   "source": [
    "L'écart provient des mêmes raisons que pour JuMP !"
   ]
  },
  {
   "cell_type": "markdown",
   "id": "16755077-e95d-4596-b3c0-6f8c5163d2c3",
   "metadata": {},
   "source": [
    "## EXERCICE 5 :"
   ]
  },
  {
   "cell_type": "code",
   "execution_count": null,
   "id": "76d43291-19d3-45e4-9794-043ab9a1881f",
   "metadata": {},
   "outputs": [],
   "source": [
    "println(\"Hello, World!\")"
   ]
  }
 ],
 "metadata": {
  "kernelspec": {
   "display_name": "Julia 1.9.3",
   "language": "julia",
   "name": "julia-1.9"
  },
  "language_info": {
   "codemirror_mode": {
    "name": "ipython",
    "version": 3
   },
   "file_extension": ".py",
   "mimetype": "text/x-python",
   "name": "python",
   "nbconvert_exporter": "python",
   "pygments_lexer": "ipython3",
   "version": "3.10.12"
  }
 },
 "nbformat": 4,
 "nbformat_minor": 5
}
