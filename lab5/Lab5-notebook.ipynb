{
 "cells": [
  {
   "cell_type": "markdown",
   "metadata": {},
   "source": [
    " # MTH8408 : Méthodes d'optimisation et contrôle optimal\n",
    " ## Laboratoire 5: Optimisation avec contraintes et calcul variationnel\n",
    "Tangi Migot et Paul Raynaud"
   ]
  },
  {
   "cell_type": "code",
   "execution_count": 2,
   "metadata": {},
   "outputs": [
    {
     "name": "stderr",
     "output_type": "stream",
     "text": [
      "\u001b[32m\u001b[1m  Activating\u001b[22m\u001b[39m project at `~/Desktop/MTH8408/Git/MTH8408-Hiv24/lab5`\n"
     ]
    },
    {
     "name": "stdout",
     "output_type": "stream",
     "text": [
      "\u001b[32m\u001b[1mStatus\u001b[22m\u001b[39m `~/Desktop/MTH8408/Git/MTH8408-Hiv24/lab5/Project.toml`\n",
      "  \u001b[90m[54578032] \u001b[39mADNLPModels v0.7.0\n",
      "\u001b[33m⌅\u001b[39m \u001b[90m[56d4f2e9] \u001b[39mGridap v0.15.5\n",
      "  \u001b[90m[7073ff75] \u001b[39mIJulia v1.24.2\n",
      "  \u001b[90m[ba0b0d4f] \u001b[39mKrylov v0.9.5\n",
      "  \u001b[90m[a4795742] \u001b[39mNLPModels v0.20.0\n",
      "  \u001b[90m[f4238b75] \u001b[39mNLPModelsIpopt v0.10.1\n",
      "  \u001b[90m[80da258d] \u001b[39mPDENLPModels v0.3.4\n",
      "  \u001b[90m[ff4d7338] \u001b[39mSolverCore v0.3.7\n",
      "  \u001b[90m[37e2e46d] \u001b[39mLinearAlgebra\n",
      "  \u001b[90m[56ddb016] \u001b[39mLogging\n",
      "  \u001b[90m[de0858da] \u001b[39mPrintf\n",
      "  \u001b[90m[8dfed614] \u001b[39mTest\n",
      "\u001b[36m\u001b[1mInfo\u001b[22m\u001b[39m Packages marked with \u001b[33m⌅\u001b[39m have new versions available but compatibility constraints restrict them from upgrading. To see why use `status --outdated`\n"
     ]
    }
   ],
   "source": [
    "pwd() # te dis ou tu te situes\n",
    "using Pkg\n",
    "Pkg.activate(\".\") # activate l'endroit où t'es\n",
    "Pkg.status()"
   ]
  },
  {
   "cell_type": "code",
   "execution_count": 3,
   "metadata": {},
   "outputs": [],
   "source": [
    "using Krylov, LinearAlgebra, Logging, NLPModels, NLPModelsIpopt, Printf, SolverCore, Test"
   ]
  },
  {
   "cell_type": "code",
   "execution_count": 7,
   "metadata": {},
   "outputs": [],
   "source": [
    "using PDENLPModels, Gridap"
   ]
  },
  {
   "cell_type": "markdown",
   "metadata": {},
   "source": [
    "## Quelques commentaires en Julia\n",
    "\n",
    "### Les kwargs: choix optionnels\n",
    "\n",
    "Dans le projet du dernier labo, une des questions demandait d'ajouter une option pour utiliser la fonction `lsmr` ou `lsqr`. C'est le cas typique d'arguments optionnels:\n",
    "- On veut proposer un choix par défaut à l'utilisateur, par exemple `lsqr`;\n",
    "- On veut laisser la possibilité à l'utilisateur de changer;\n",
    "- On voudrait aussi pouvoir ajouter d'autres par la suite (sans avoir à tout modifier)."
   ]
  },
  {
   "cell_type": "code",
   "execution_count": 59,
   "metadata": {},
   "outputs": [
    {
     "data": {
      "text/plain": [
       "dsol (generic function with 1 method)"
      ]
     },
     "metadata": {},
     "output_type": "display_data"
    }
   ],
   "source": [
    "function dsol(A, b, ϵ; solver :: Function = lsqr)\n",
    "    (d, stats) = solver(A, b, atol = ϵ)\n",
    "    return d\n",
    "end"
   ]
  },
  {
   "cell_type": "markdown",
   "metadata": {},
   "source": [
    "A noter que l'on donne des valeurs par défaut aux arguments qui apparaissent après le `;`."
   ]
  },
  {
   "cell_type": "markdown",
   "metadata": {},
   "source": [
    "## Exercice 1: Pénalité quadratique pour les ADNLPModels\n",
    "\n",
    "Dans cet exercice, on va étudier une version simple d'une méthode de pénalité quadratique pour les problèmes d'optimisation avec contraintes d'égalité.\n",
    "```math\n",
    "min f(x) s.à c(x) = 0.\n",
    "```\n",
    "Dans les labos précédents, on a déjà utilisé un NLPModel particulier, le ADNLPModel:"
   ]
  },
  {
   "cell_type": "code",
   "execution_count": 60,
   "metadata": {},
   "outputs": [
    {
     "data": {
      "text/plain": [
       "ADNLPModel - Model with automatic differentiation backend ADModelBackend{\n",
       "  ForwardDiffADGradient,\n",
       "  ForwardDiffADHvprod,\n",
       "  ForwardDiffADJprod,\n",
       "  ForwardDiffADJtprod,\n",
       "  ForwardDiffADJacobian,\n",
       "  ForwardDiffADHessian,\n",
       "  ForwardDiffADGHjvprod,\n",
       "}\n",
       "  Problem name: Generic\n",
       "   All variables: ████████████████████ 2      All constraints: ████████████████████ 1     \n",
       "            free: ████████████████████ 2                 free: ⋅⋅⋅⋅⋅⋅⋅⋅⋅⋅⋅⋅⋅⋅⋅⋅⋅⋅⋅⋅ 0     \n",
       "           lower: ⋅⋅⋅⋅⋅⋅⋅⋅⋅⋅⋅⋅⋅⋅⋅⋅⋅⋅⋅⋅ 0                lower: ⋅⋅⋅⋅⋅⋅⋅⋅⋅⋅⋅⋅⋅⋅⋅⋅⋅⋅⋅⋅ 0     \n",
       "           upper: ⋅⋅⋅⋅⋅⋅⋅⋅⋅⋅⋅⋅⋅⋅⋅⋅⋅⋅⋅⋅ 0                upper: ⋅⋅⋅⋅⋅⋅⋅⋅⋅⋅⋅⋅⋅⋅⋅⋅⋅⋅⋅⋅ 0     \n",
       "         low/upp: ⋅⋅⋅⋅⋅⋅⋅⋅⋅⋅⋅⋅⋅⋅⋅⋅⋅⋅⋅⋅ 0              low/upp: ⋅⋅⋅⋅⋅⋅⋅⋅⋅⋅⋅⋅⋅⋅⋅⋅⋅⋅⋅⋅ 0     \n",
       "           fixed: ⋅⋅⋅⋅⋅⋅⋅⋅⋅⋅⋅⋅⋅⋅⋅⋅⋅⋅⋅⋅ 0                fixed: ████████████████████ 1     \n",
       "          infeas: ⋅⋅⋅⋅⋅⋅⋅⋅⋅⋅⋅⋅⋅⋅⋅⋅⋅⋅⋅⋅ 0               infeas: ⋅⋅⋅⋅⋅⋅⋅⋅⋅⋅⋅⋅⋅⋅⋅⋅⋅⋅⋅⋅ 0     \n",
       "            nnzh: (  0.00% sparsity)   3               linear: ⋅⋅⋅⋅⋅⋅⋅⋅⋅⋅⋅⋅⋅⋅⋅⋅⋅⋅⋅⋅ 0     \n",
       "                                                    nonlinear: ████████████████████ 1     \n",
       "                                                         nnzj: (  0.00% sparsity)   2     \n",
       "\n",
       "  Counters:\n",
       "             obj: ⋅⋅⋅⋅⋅⋅⋅⋅⋅⋅⋅⋅⋅⋅⋅⋅⋅⋅⋅⋅ 0                 grad: ⋅⋅⋅⋅⋅⋅⋅⋅⋅⋅⋅⋅⋅⋅⋅⋅⋅⋅⋅⋅ 0                 cons: ⋅⋅⋅⋅⋅⋅⋅⋅⋅⋅⋅⋅⋅⋅⋅⋅⋅⋅⋅⋅ 0     \n",
       "        cons_lin: ⋅⋅⋅⋅⋅⋅⋅⋅⋅⋅⋅⋅⋅⋅⋅⋅⋅⋅⋅⋅ 0             cons_nln: ⋅⋅⋅⋅⋅⋅⋅⋅⋅⋅⋅⋅⋅⋅⋅⋅⋅⋅⋅⋅ 0                 jcon: ⋅⋅⋅⋅⋅⋅⋅⋅⋅⋅⋅⋅⋅⋅⋅⋅⋅⋅⋅⋅ 0     \n",
       "           jgrad: ⋅⋅⋅⋅⋅⋅⋅⋅⋅⋅⋅⋅⋅⋅⋅⋅⋅⋅⋅⋅ 0                  jac: ⋅⋅⋅⋅⋅⋅⋅⋅⋅⋅⋅⋅⋅⋅⋅⋅⋅⋅⋅⋅ 0              jac_lin: ⋅⋅⋅⋅⋅⋅⋅⋅⋅⋅⋅⋅⋅⋅⋅⋅⋅⋅⋅⋅ 0     \n",
       "         jac_nln: ⋅⋅⋅⋅⋅⋅⋅⋅⋅⋅⋅⋅⋅⋅⋅⋅⋅⋅⋅⋅ 0                jprod: ⋅⋅⋅⋅⋅⋅⋅⋅⋅⋅⋅⋅⋅⋅⋅⋅⋅⋅⋅⋅ 0            jprod_lin: ⋅⋅⋅⋅⋅⋅⋅⋅⋅⋅⋅⋅⋅⋅⋅⋅⋅⋅⋅⋅ 0     \n",
       "       jprod_nln: ⋅⋅⋅⋅⋅⋅⋅⋅⋅⋅⋅⋅⋅⋅⋅⋅⋅⋅⋅⋅ 0               jtprod: ⋅⋅⋅⋅⋅⋅⋅⋅⋅⋅⋅⋅⋅⋅⋅⋅⋅⋅⋅⋅ 0           jtprod_lin: ⋅⋅⋅⋅⋅⋅⋅⋅⋅⋅⋅⋅⋅⋅⋅⋅⋅⋅⋅⋅ 0     \n",
       "      jtprod_nln: ⋅⋅⋅⋅⋅⋅⋅⋅⋅⋅⋅⋅⋅⋅⋅⋅⋅⋅⋅⋅ 0                 hess: ⋅⋅⋅⋅⋅⋅⋅⋅⋅⋅⋅⋅⋅⋅⋅⋅⋅⋅⋅⋅ 0                hprod: ⋅⋅⋅⋅⋅⋅⋅⋅⋅⋅⋅⋅⋅⋅⋅⋅⋅⋅⋅⋅ 0     \n",
       "           jhess: ⋅⋅⋅⋅⋅⋅⋅⋅⋅⋅⋅⋅⋅⋅⋅⋅⋅⋅⋅⋅ 0               jhprod: ⋅⋅⋅⋅⋅⋅⋅⋅⋅⋅⋅⋅⋅⋅⋅⋅⋅⋅⋅⋅ 0     \n"
      ]
     },
     "metadata": {},
     "output_type": "display_data"
    }
   ],
   "source": [
    "using ADNLPModels, LinearAlgebra, Test\n",
    "fH(x) = (x[2]+x[1].^2-11)^2 + (x[1]+x[2].^2-7)^2\n",
    "x0H = [10., 20.]\n",
    "cH(x) = [x[1]-1]\n",
    "himmelblau = ADNLPModel(fH, x0H, cH, [0.], [0.])"
   ]
  },
  {
   "cell_type": "markdown",
   "metadata": {},
   "source": [
    "Attention: dans toute la suite de l'exercice on suppose que les bornes sur les contraintes `nlp.meta.lcon` et `nlp.meta.ucon` sont 0 pour simplifier."
   ]
  },
  {
   "cell_type": "markdown",
   "metadata": {},
   "source": [
    "### Question 1: Transformer un ADNLPModel en un problème pénalisé\n",
    "Coder la fonction `quad_penalty_adnlp` qui prend en entrée un ADNLPModel, et un paramètre ρ et qui retourne un nouveau ADNLPModel qui correspond au problème sans contrainte:\n",
    "$$\n",
    "\\min_x f(x) + \\frac{\\rho}{2}\\|c(x)\\|^2.\n",
    "$$\n",
    "Remarque: on peut accèder aux fonctions f et c par `NLPModels.obj()` et `NLPModels.cons()`."
   ]
  },
  {
   "cell_type": "code",
   "execution_count": 61,
   "metadata": {},
   "outputs": [
    {
     "data": {
      "text/plain": [
       "quad_penalty_adnlp (generic function with 1 method)"
      ]
     },
     "metadata": {},
     "output_type": "display_data"
    }
   ],
   "source": [
    "function quad_penalty_adnlp(nlp :: ADNLPModel, ρ :: Real)\n",
    "    f = x -> NLPModels.obj(nlp,x)\n",
    "    c = x -> NLPModels.cons(nlp,x)\n",
    "    f_quad = x -> f(x) + (ρ/2) * norm(c(x))^2\n",
    "    nlp_quad = ADNLPModel(f_quad, nlp.meta.x0)\n",
    "   return nlp_quad\n",
    "end"
   ]
  },
  {
   "cell_type": "code",
   "execution_count": 62,
   "metadata": {},
   "outputs": [],
   "source": [
    "# Faire des tests pour vérifier que ça fonctionne.\n",
    "\n",
    "# fH(x) = (x[2]+x[1].^2-11).^2+(x[1]+x[2].^2-7).^2\n",
    "# x0H = [10., 20.]\n",
    "# himmelblau = ADNLPModel(fH, x0H)"
   ]
  },
  {
   "cell_type": "code",
   "execution_count": 63,
   "metadata": {},
   "outputs": [
    {
     "data": {
      "text/plain": [
       "\u001b[32m\u001b[1mTest Passed\u001b[22m\u001b[39m"
      ]
     },
     "metadata": {},
     "output_type": "display_data"
    }
   ],
   "source": [
    "himmelblau_quad = quad_penalty_adnlp(himmelblau, 1)\n",
    "@test himmelblau_quad.meta.ncon == 0\n",
    "@test obj(himmelblau_quad, zeros(2)) == 170.5"
   ]
  },
  {
   "cell_type": "code",
   "execution_count": 64,
   "metadata": {},
   "outputs": [
    {
     "data": {
      "text/plain": [
       "\u001b[32m\u001b[1mTest Passed\u001b[22m\u001b[39m"
      ]
     },
     "metadata": {},
     "output_type": "display_data"
    }
   ],
   "source": [
    "#Ajouter au moins un autre test similaire avec des contraintes.\n",
    "ftest(x) = (x[1] + x[2])^2 - (x[1]+x[2])\n",
    "x0t = [0., 0.]\n",
    "ct(x) = [x[1]^2 + x[1]]\n",
    "nlp_test = ADNLPModel(ftest, x0t, ct, [0.], [0.])\n",
    "nlp_test_quad = quad_penalty_adnlp(nlp_test,1)\n",
    "\n",
    "@test nlp_test_quad.meta.ncon == 0\n",
    "@test obj(nlp_test_quad, x0t) == obj(nlp_test_quad, x0t)"
   ]
  },
  {
   "cell_type": "code",
   "execution_count": 65,
   "metadata": {},
   "outputs": [
    {
     "data": {
      "text/plain": [
       "\u001b[32m\u001b[1mTest Passed\u001b[22m\u001b[39m"
      ]
     },
     "metadata": {},
     "output_type": "display_data"
    }
   ],
   "source": [
    "# Ajouter un test au cas ou `nlp.meta.lcon` ou `nlp.meta.ucon` ont des composantes differentes de 0.\n",
    "\n",
    "@test  isempty(himmelblau_quad.meta.lcon)\n",
    "@test  isempty(himmelblau_quad.meta.ucon)"
   ]
  },
  {
   "cell_type": "markdown",
   "metadata": {},
   "source": [
    "### Question 2: KKT\n",
    "Coder une fonction `KKT_eq_constraint(nlp :: AbstractNLPModel, x, λ)` qui vérifie si le point `x` avec multiplicateur de Lagrange `λ` satisfait les conditions KKT d'un problème avec contraintes d'égalités."
   ]
  },
  {
   "cell_type": "code",
   "execution_count": 66,
   "metadata": {},
   "outputs": [
    {
     "data": {
      "text/plain": [
       "KKT_eq_constraint (generic function with 1 method)"
      ]
     },
     "metadata": {},
     "output_type": "display_data"
    }
   ],
   "source": [
    "function KKT_eq_constraint(nlp :: AbstractNLPModel, x, λ; ϵ=10^(-10))\n",
    "   grad_f = grad(nlp,x)\n",
    "   jac_c = jac(nlp,x)\n",
    "   test1 = isapprox(grad_f, jac_c'*λ, atol=ϵ)\n",
    "   test2 = isapprox(cons(nlp,x), zeros(length(λ)), atol=ϵ)\n",
    "   return test1 && test2\n",
    "end"
   ]
  },
  {
   "cell_type": "code",
   "execution_count": 67,
   "metadata": {},
   "outputs": [
    {
     "data": {
      "text/plain": [
       "\u001b[32m\u001b[1mTest Passed\u001b[22m\u001b[39m"
      ]
     },
     "metadata": {},
     "output_type": "display_data"
    }
   ],
   "source": [
    "# test\n",
    "gtest(x) = x[1] + x[2]\n",
    "x0t = [0., 0.]\n",
    "ct(x) = [(x[1]^2) + (x[2]^2)-1]\n",
    "nlp_test = ADNLPModel(gtest, x0t, ct, [0.], [0.])\n",
    "\n",
    "x_t = [1/sqrt(2),1/sqrt(2)]\n",
    "λ_t = 1/sqrt(2)\n",
    "\n",
    "@test KKT_eq_constraint(nlp_test,x_t,λ_t)"
   ]
  },
  {
   "cell_type": "markdown",
   "metadata": {},
   "source": [
    "### Question 3: méthode de pénalité quadratique"
   ]
  },
  {
   "cell_type": "code",
   "execution_count": 68,
   "metadata": {},
   "outputs": [],
   "source": [
    "using NLPModelsIpopt"
   ]
  },
  {
   "cell_type": "code",
   "execution_count": 69,
   "metadata": {},
   "outputs": [
    {
     "data": {
      "text/plain": [
       "quad_penalty (generic function with 1 method)"
      ]
     },
     "metadata": {},
     "output_type": "display_data"
    }
   ],
   "source": [
    "function quad_penalty(nlp      :: AbstractNLPModel,\n",
    "                      x        :: AbstractVector; \n",
    "                      ϵ        :: AbstractFloat = 1e-3,\n",
    "                      η        :: AbstractFloat = 1e6, \n",
    "                      σ        :: AbstractFloat = 2.0,\n",
    "                      max_eval :: Int = 1_000, \n",
    "                      max_time :: AbstractFloat = 60.,\n",
    "                      max_iter :: Int = typemax(Int64)\n",
    "                      )\n",
    "    ##### Initialiser cx et gx au point x;\n",
    "    cx = cons(nlp,x)\n",
    "    gx = grad(nlp,x)\n",
    "    ######################################################\n",
    "    normcx = normcx_old = norm(cx)\n",
    "\n",
    "    ρ = 1.\n",
    "\n",
    "    iter = 0    \n",
    "\n",
    "    el_time = 0.0\n",
    "    tired   = neval_cons(nlp) > max_eval || el_time > max_time\n",
    "    status  = :unknown\n",
    "\n",
    "    start_time = time()\n",
    "    too_small  = false\n",
    "    normdual   = norm(gx) #exceptionnellement on ne va pas vérifier toute l'optimalité au début.\n",
    "    optimal    = max(normcx, normdual) ≤ ϵ\n",
    "    \n",
    "    nlp_quad   = quad_penalty_adnlp(nlp, ρ)\n",
    "\n",
    "    @info log_header([:iter, :nf, :primal, :status, :nd, :Δ],\n",
    "    [Int, Int, Float64, String, Float64, Float64],\n",
    "    hdr_override=Dict(:nf => \"#F\", :primal => \"‖F(x)‖\", :nd => \"‖d‖\"))\n",
    "\n",
    "    while !(optimal || tired || too_small)\n",
    "\n",
    "        #Appeler Ipopt pour résoudre le problème pénalisé en partant du point x0 = x.\n",
    "        #utiliser l'option print_level = 0 pour enlever les affichages d'ipopt.\n",
    "        stats = ipopt(nlp; x0 = x, print_level = 0)\n",
    "        ################################################\n",
    "      \n",
    "        if stats.status == :first_order\n",
    "            ###### Mettre à jour cx avec la solution renvoyé par Ipopt\n",
    "            x = stats.solution\n",
    "            cx = cons(nlp,x)\n",
    "            ##########################################################\n",
    "            normcx_old = normcx\n",
    "            normcx = norm(cx)\n",
    "        end\n",
    "        \n",
    "        if normcx_old > 0.95 * normcx\n",
    "            ρ *= σ\n",
    "        end\n",
    "\n",
    "        @info log_row(Any[iter, neval_cons(nlp), normcx, stats.status])\n",
    "        \n",
    "        nlp_quad   = quad_penalty_adnlp(nlp, ρ)\n",
    "\n",
    "        el_time      = time() - start_time\n",
    "        iter   += 1\n",
    "        many_evals   = neval_cons(nlp) > max_eval\n",
    "        iter_limit   = iter > max_iter\n",
    "        tired        = many_evals || el_time > max_time || iter_limit || ρ ≥ η\n",
    "        ##### Utiliser la réalisabilité dual renvoyé par Ipopt pour `normdual`\n",
    "        normdual     = stats.dual_feas\n",
    "        ###################################################################\n",
    "        optimal      = max(normcx, normdual) ≤ ϵ\n",
    "    end\n",
    "\n",
    "    status = if optimal \n",
    "        :first_order\n",
    "    elseif tired\n",
    "        if neval_cons(nlp) > max_eval\n",
    "            :max_eval\n",
    "        elseif el_time > max_time\n",
    "            :max_time\n",
    "        elseif iter > max_iter\n",
    "            :max_iter\n",
    "        else\n",
    "            :unknown_tired\n",
    "        end\n",
    "    elseif too_small\n",
    "        :stalled\n",
    "    else\n",
    "        :unknown\n",
    "    end\n",
    "\n",
    "    return GenericExecutionStats(nlp, status = status, solution = x,\n",
    "                                 objective = obj(nlp, x),\n",
    "                                 primal_feas = normcx,\n",
    "                                 dual_feas = normdual,\n",
    "                                 multipliers = stats.multipliers,\n",
    "                                 iter = iter, \n",
    "                                 elapsed_time = el_time,\n",
    "                                 solver_specific = Dict(:penalty => ρ))\n",
    "end"
   ]
  },
  {
   "cell_type": "code",
   "execution_count": 70,
   "metadata": {},
   "outputs": [
    {
     "name": "stderr",
     "output_type": "stream",
     "text": [
      "┌ Info:   iter      #F    ‖F(x)‖           status       ‖d‖         Δ  \n",
      "└ @ Main /Users/jules/Desktop/MTH8408/Git/MTH8408-Hiv24/lab5/Lab5-notebook.ipynb:31\n",
      "┌ Info:      0      13   0.0e+00      first_order\n",
      "└ @ Main /Users/jules/Desktop/MTH8408/Git/MTH8408-Hiv24/lab5/Lab5-notebook.ipynb:55\n"
     ]
    },
    {
     "data": {
      "text/plain": [
       "\u001b[32m\u001b[1mTest Passed\u001b[22m\u001b[39m"
      ]
     },
     "metadata": {},
     "output_type": "display_data"
    }
   ],
   "source": [
    "#Faire des tests pour vérifier que ça fonctionne.\n",
    "stats = quad_penalty(himmelblau, x0H)\n",
    "@test stats.status == :first_order\n",
    "@test stats.solution ≈ [1.0008083416169895, 2.709969135758311] atol=1e-2\n",
    "@test norm(cons(himmelblau, stats.solution)) ≈ 0. atol=1e-3"
   ]
  },
  {
   "cell_type": "markdown",
   "metadata": {},
   "source": [
    "Vérifier que la solution rendue vérifie les conditions KKT avec la fonction de la question précédente."
   ]
  },
  {
   "cell_type": "code",
   "execution_count": 71,
   "metadata": {},
   "outputs": [
    {
     "name": "stdout",
     "output_type": "stream",
     "text": [
      "\u001b[0m\u001b[1mTest Summary:  | \u001b[22m\u001b[32m\u001b[1mPass  \u001b[22m\u001b[39m\u001b[36m\u001b[1mTotal  \u001b[22m\u001b[39m\u001b[0m\u001b[1mTime\u001b[22m\n",
      "Simple problem | \u001b[32m   4  \u001b[39m\u001b[36m    4  \u001b[39m\u001b[0m5.5s\n",
      "\u001b[0m\u001b[1mTest Summary:          | \u001b[22m\u001b[32m\u001b[1mPass  \u001b[22m\u001b[39m\u001b[36m\u001b[1mTotal  \u001b[22m\u001b[39m\u001b[0m\u001b[1mTime\u001b[22m\n",
      "Rosenbrock with ∑x = 1 | \u001b[32m   3  \u001b[39m\u001b[36m    3  \u001b[39m\u001b[0m2.8s\n",
      "\u001b[0m\u001b[1mTest Summary: | \u001b[22m\u001b[32m\u001b[1mPass  \u001b[22m\u001b[39m\u001b[36m\u001b[1mTotal  \u001b[22m\u001b[39m\u001b[0m\u001b[1mTime\u001b[22m\n",
      "HS6           | \u001b[32m   3  \u001b[39m\u001b[36m    3  \u001b[39m\u001b[0m3.5s\n",
      "\u001b[0m\u001b[1mTest Summary: | \u001b[22m\u001b[32m\u001b[1mPass  \u001b[22m\u001b[39m\u001b[36m\u001b[1mTotal  \u001b[22m\u001b[39m\u001b[0m\u001b[1mTime\u001b[22m\n",
      "HS7           | \u001b[32m   3  \u001b[39m\u001b[36m    3  \u001b[39m\u001b[0m2.3s\n"
     ]
    },
    {
     "data": {
      "text/plain": [
       "Test.DefaultTestSet(\"HS7\", Any[], 3, false, false, true, 1.710518694896186e9, 1.710518697208826e9, false)"
      ]
     },
     "metadata": {},
     "output_type": "display_data"
    }
   ],
   "source": [
    "include(\"test_set.jl\")"
   ]
  },
  {
   "cell_type": "code",
   "execution_count": 72,
   "metadata": {},
   "outputs": [
    {
     "name": "stdout",
     "output_type": "stream",
     "text": [
      "λ_h = Float64[]\n",
      "\u001b[91m\u001b[1mError During Test\u001b[22m\u001b[39m"
     ]
    },
    {
     "name": "stderr",
     "output_type": "stream",
     "text": [
      "┌ Info:   iter      #F    ‖F(x)‖           status       ‖d‖         Δ  \n",
      "└ @ Main /Users/jules/Desktop/MTH8408/Git/MTH8408-Hiv24/lab5/Lab5-notebook.ipynb:31\n",
      "┌ Info:      0      26   0.0e+00      first_order\n",
      "└ @ Main /Users/jules/Desktop/MTH8408/Git/MTH8408-Hiv24/lab5/Lab5-notebook.ipynb:55\n"
     ]
    },
    {
     "name": "stdout",
     "output_type": "stream",
     "text": [
      " at \u001b[39m\u001b[1m/Users/jules/Desktop/MTH8408/Git/MTH8408-Hiv24/lab5/Lab5-notebook.ipynb:7\u001b[22m\n",
      "  Test threw exception\n",
      "  Expression: KKT_eq_constraint(himmelblau, x_h, λ_h)\n",
      "  DimensionMismatch: \n",
      "  Stacktrace:\n",
      "    [1] \u001b[0m\u001b[1mmul!\u001b[22m\u001b[0m\u001b[1m(\u001b[22m\u001b[90mC\u001b[39m::\u001b[0mVector\u001b[90m{Float64}\u001b[39m, \u001b[90mxA\u001b[39m::\u001b[0mAdjoint\u001b[90m{Float64, SparseArrays.SparseMatrixCSC{Float64, Int64}}\u001b[39m, \u001b[90mB\u001b[39m::\u001b[0mVector\u001b[90m{Float64}\u001b[39m, \u001b[90mα\u001b[39m::\u001b[0mBool, \u001b[90mβ\u001b[39m::\u001b[0mBool\u001b[0m\u001b[1m)\u001b[22m\n",
      "  \u001b[90m    @\u001b[39m \u001b[33mSparseArrays\u001b[39m \u001b[90m/Applications/Julia-1.9.app/Contents/Resources/julia/share/julia/stdlib/v1.9/SparseArrays/src/\u001b[39m\u001b[90m\u001b[4mlinalg.jl:59\u001b[24m\u001b[39m\n",
      "    [2] \u001b[0m\u001b[1m*\u001b[22m\n",
      "  \u001b[90m    @\u001b[39m \u001b[90m/Applications/Julia-1.9.app/Contents/Resources/julia/share/julia/stdlib/v1.9/SparseArrays/src/\u001b[39m\u001b[90m\u001b[4mlinalg.jl:79\u001b[24m\u001b[39m\u001b[90m [inlined]\u001b[39m\n",
      "    [3] \u001b[0m\u001b[1mKKT_eq_constraint\u001b[22m\u001b[0m\u001b[1m(\u001b[22m\u001b[90mnlp\u001b[39m::\u001b[0mADNLPModel\u001b[90m{Float64, Vector{Float64}, Vector{Int64}}\u001b[39m, \u001b[90mx\u001b[39m::\u001b[0mVector\u001b[90m{Float64}\u001b[39m, \u001b[90mλ\u001b[39m::\u001b[0mVector\u001b[90m{Float64}\u001b[39m; \u001b[90mϵ\u001b[39m::\u001b[0mFloat64\u001b[0m\u001b[1m)\u001b[22m\n",
      "  \u001b[90m    @\u001b[39m \u001b[35mMain\u001b[39m \u001b[90m~/Desktop/MTH8408/Git/MTH8408-Hiv24/lab5/\u001b[39m\u001b[90m\u001b[4mLab5-notebook.ipynb:4\u001b[24m\u001b[39m\n",
      "    [4] \u001b[0m\u001b[1mKKT_eq_constraint\u001b[22m\u001b[0m\u001b[1m(\u001b[22m\u001b[90mnlp\u001b[39m::\u001b[0mADNLPModel\u001b[90m{Float64, Vector{Float64}, Vector{Int64}}\u001b[39m, \u001b[90mx\u001b[39m::\u001b[0mVector\u001b[90m{Float64}\u001b[39m, \u001b[90mλ\u001b[39m::\u001b[0mVector\u001b[90m{Float64}\u001b[39m\u001b[0m\u001b[1m)\u001b[22m\n",
      "  \u001b[90m    @\u001b[39m \u001b[35mMain\u001b[39m \u001b[90m~/Desktop/MTH8408/Git/MTH8408-Hiv24/lab5/\u001b[39m\u001b[90m\u001b[4mLab5-notebook.ipynb:1\u001b[24m\u001b[39m\n",
      "    [5] top-level scope\n",
      "  \u001b[90m    @\u001b[39m \u001b[90m/Applications/Julia-1.9.app/Contents/Resources/julia/share/julia/stdlib/v1.9/Test/src/\u001b[39m\u001b[90m\u001b[4mTest.jl:478\u001b[24m\u001b[39m\n",
      "    [6] \u001b[0m\u001b[1meval\u001b[22m\n",
      "  \u001b[90m    @\u001b[39m \u001b[90m./\u001b[39m\u001b[90m\u001b[4mboot.jl:370\u001b[24m\u001b[39m\u001b[90m [inlined]\u001b[39m\n",
      "    [7] \u001b[0m\u001b[1minclude_string\u001b[22m\u001b[0m\u001b[1m(\u001b[22m\u001b[90mmapexpr\u001b[39m::\u001b[0mtypeof(REPL.softscope), \u001b[90mmod\u001b[39m::\u001b[0mModule, \u001b[90mcode\u001b[39m::\u001b[0mString, \u001b[90mfilename\u001b[39m::\u001b[0mString\u001b[0m\u001b[1m)\u001b[22m\n",
      "  \u001b[90m    @\u001b[39m \u001b[90mBase\u001b[39m \u001b[90m./\u001b[39m\u001b[90m\u001b[4mloading.jl:1903\u001b[24m\u001b[39m\n",
      "    [8] \u001b[0m\u001b[1m#invokelatest#2\u001b[22m\n",
      "  \u001b[90m    @\u001b[39m \u001b[90m./\u001b[39m\u001b[90m\u001b[4messentials.jl:819\u001b[24m\u001b[39m\u001b[90m [inlined]\u001b[39m\n",
      "    [9] \u001b[0m\u001b[1minvokelatest\u001b[22m\n",
      "  \u001b[90m    @\u001b[39m \u001b[90m./\u001b[39m\u001b[90m\u001b[4messentials.jl:816\u001b[24m\u001b[39m\u001b[90m [inlined]\u001b[39m\n",
      "   [10] \u001b[0m\u001b[1m(::VSCodeServer.var\"#214#215\"{VSCodeServer.NotebookRunCellArguments, String})\u001b[22m\u001b[0m\u001b[1m(\u001b[22m\u001b[0m\u001b[1m)\u001b[22m\n",
      "  \u001b[90m    @\u001b[39m \u001b[36mVSCodeServer\u001b[39m \u001b[90m~/.vscode/extensions/julialang.language-julia-1.75.2/scripts/packages/VSCodeServer/src/\u001b[39m\u001b[90m\u001b[4mserve_notebook.jl:19\u001b[24m\u001b[39m\n",
      "   [11] \u001b[0m\u001b[1mwithpath\u001b[22m\u001b[0m\u001b[1m(\u001b[22m\u001b[90mf\u001b[39m::\u001b[0mVSCodeServer.var\"#214#215\"\u001b[90m{VSCodeServer.NotebookRunCellArguments, String}\u001b[39m, \u001b[90mpath\u001b[39m::\u001b[0mString\u001b[0m\u001b[1m)\u001b[22m\n",
      "  \u001b[90m    @\u001b[39m \u001b[36mVSCodeServer\u001b[39m \u001b[90m~/.vscode/extensions/julialang.language-julia-1.75.2/scripts/packages/VSCodeServer/src/\u001b[39m\u001b[90m\u001b[4mrepl.jl:274\u001b[24m\u001b[39m\n",
      "   [12] \u001b[0m\u001b[1mnotebook_runcell_request\u001b[22m\u001b[0m\u001b[1m(\u001b[22m\u001b[90mconn\u001b[39m::\u001b[0mVSCodeServer.JSONRPC.JSONRPCEndpoint\u001b[90m{Base.PipeEndpoint, Base.PipeEndpoint}\u001b[39m, \u001b[90mparams\u001b[39m::\u001b[0mVSCodeServer.NotebookRunCellArguments\u001b[0m\u001b[1m)\u001b[22m\n",
      "  \u001b[90m    @\u001b[39m \u001b[36mVSCodeServer\u001b[39m \u001b[90m~/.vscode/extensions/julialang.language-julia-1.75.2/scripts/packages/VSCodeServer/src/\u001b[39m\u001b[90m\u001b[4mserve_notebook.jl:13\u001b[24m\u001b[39m\n",
      "   [13] \u001b[0m\u001b[1mdispatch_msg\u001b[22m\u001b[0m\u001b[1m(\u001b[22m\u001b[90mx\u001b[39m::\u001b[0mVSCodeServer.JSONRPC.JSONRPCEndpoint\u001b[90m{Base.PipeEndpoint, Base.PipeEndpoint}\u001b[39m, \u001b[90mdispatcher\u001b[39m::\u001b[0mVSCodeServer.JSONRPC.MsgDispatcher, \u001b[90mmsg\u001b[39m::\u001b[0mDict\u001b[90m{String, Any}\u001b[39m\u001b[0m\u001b[1m)\u001b[22m\n",
      "  \u001b[90m    @\u001b[39m \u001b[36mVSCodeServer.JSONRPC\u001b[39m \u001b[90m~/.vscode/extensions/julialang.language-julia-1.75.2/scripts/packages/JSONRPC/src/\u001b[39m\u001b[90m\u001b[4mtyped.jl:67\u001b[24m\u001b[39m\n",
      "   [14] \u001b[0m\u001b[1mserve_notebook\u001b[22m\u001b[0m\u001b[1m(\u001b[22m\u001b[90mpipename\u001b[39m::\u001b[0mString, \u001b[90moutputchannel_logger\u001b[39m::\u001b[0mBase.CoreLogging.SimpleLogger; \u001b[90mcrashreporting_pipename\u001b[39m::\u001b[0mString\u001b[0m\u001b[1m)\u001b[22m\n",
      "  \u001b[90m    @\u001b[39m \u001b[36mVSCodeServer\u001b[39m \u001b[90m~/.vscode/extensions/julialang.language-julia-1.75.2/scripts/packages/VSCodeServer/src/\u001b[39m\u001b[90m\u001b[4mserve_notebook.jl:139\u001b[24m\u001b[39m\n",
      "   [15] top-level scope\n",
      "  \u001b[90m    @\u001b[39m \u001b[90m~/.vscode/extensions/julialang.language-julia-1.75.2/scripts/notebook/\u001b[39m\u001b[90m\u001b[4mnotebook.jl:35\u001b[24m\u001b[39m\n",
      "   [16] \u001b[0m\u001b[1minclude\u001b[22m\u001b[0m\u001b[1m(\u001b[22m\u001b[90mmod\u001b[39m::\u001b[0mModule, \u001b[90m_path\u001b[39m::\u001b[0mString\u001b[0m\u001b[1m)\u001b[22m\n",
      "  \u001b[90m    @\u001b[39m \u001b[90mBase\u001b[39m \u001b[90m./\u001b[39m\u001b[90m\u001b[4mBase.jl:457\u001b[24m\u001b[39m\n",
      "   [17] \u001b[0m\u001b[1mexec_options\u001b[22m\u001b[0m\u001b[1m(\u001b[22m\u001b[90mopts\u001b[39m::\u001b[0mBase.JLOptions\u001b[0m\u001b[1m)\u001b[22m\n",
      "  \u001b[90m    @\u001b[39m \u001b[90mBase\u001b[39m \u001b[90m./\u001b[39m\u001b[90m\u001b[4mclient.jl:307\u001b[24m\u001b[39m\n",
      "   [18] \u001b[0m\u001b[1m_start\u001b[22m\u001b[0m\u001b[1m(\u001b[22m\u001b[0m\u001b[1m)\u001b[22m\n",
      "  \u001b[90m    @\u001b[39m \u001b[90mBase\u001b[39m \u001b[90m./\u001b[39m\u001b[90m\u001b[4mclient.jl:522\u001b[24m\u001b[39m\n"
     ]
    },
    {
     "ename": "Test.FallbackTestSetException",
     "evalue": "Test.FallbackTestSetException(\"There was an error during testing\")",
     "output_type": "error",
     "traceback": [
      "Test.FallbackTestSetException(\"There was an error during testing\")\n",
      "\n",
      "Stacktrace:\n",
      " [1] record(ts::Test.FallbackTestSet, t::Union{Test.Error, Test.Fail})\n",
      "   @ Test /Applications/Julia-1.9.app/Contents/Resources/julia/share/julia/stdlib/v1.9/Test/src/Test.jl:960\n",
      " [2] do_test(result::Test.ExecutionResult, orig_expr::Any)\n",
      "   @ Test /Applications/Julia-1.9.app/Contents/Resources/julia/share/julia/stdlib/v1.9/Test/src/Test.jl:670\n",
      " [3] top-level scope\n",
      "   @ /Applications/Julia-1.9.app/Contents/Resources/julia/share/julia/stdlib/v1.9/Test/src/Test.jl:478"
     ]
    }
   ],
   "source": [
    "stats_h = quad_penalty(himmelblau,x0H)\n",
    "\n",
    "x_h = stats_h.solution\n",
    "λ_h = stats_h.multipliers\n",
    "@show λ_h\n",
    "\n",
    "@test KKT_eq_constraint(himmelblau,x_h,λ_h)"
   ]
  },
  {
   "cell_type": "code",
   "execution_count": 73,
   "metadata": {},
   "outputs": [
    {
     "name": "stdout",
     "output_type": "stream",
     "text": [
      "nlp_test.meta.y0 = [0.0]\n"
     ]
    },
    {
     "name": "stderr",
     "output_type": "stream",
     "text": [
      "┌ Info:   iter      #F    ‖F(x)‖           status       ‖d‖         Δ  \n",
      "└ @ Main /Users/jules/Desktop/MTH8408/Git/MTH8408-Hiv24/lab5/Lab5-notebook.ipynb:31\n",
      "┌ Info:      0      17   2.2e-16      first_order\n",
      "└ @ Main /Users/jules/Desktop/MTH8408/Git/MTH8408-Hiv24/lab5/Lab5-notebook.ipynb:55\n"
     ]
    },
    {
     "name": "stdout",
     "output_type": "stream",
     "text": [
      "x_test = [-0.7071067811865476, -0.7071067811865476]\n",
      "λ_test = -0.7071067811865475\n"
     ]
    },
    {
     "data": {
      "text/plain": [
       "\u001b[32m\u001b[1mTest Passed\u001b[22m\u001b[39m"
      ]
     },
     "metadata": {},
     "output_type": "display_data"
    }
   ],
   "source": [
    "gtest(x) = x[1] + x[2]\n",
    "x0t = [0., 0.]\n",
    "ct(x) = [(x[1]^2) + (x[2]^2)-1]\n",
    "nlp_test = ADNLPModel(gtest, x0t, ct, [0.], [0.])\n",
    "@show nlp_test.meta.y0\n",
    "\n",
    "stats_test = quad_penalty(nlp_test,x0t)\n",
    "x_test = stats_test.solution\n",
    "@show x_test\n",
    "λ_test= -1/sqrt(2)\n",
    "@show λ_test\n",
    "\n",
    "\n",
    "@test KKT_eq_constraint(nlp_test,x_test,λ_test)"
   ]
  },
  {
   "cell_type": "code",
   "execution_count": 74,
   "metadata": {},
   "outputs": [],
   "source": [
    "#Fichier de tests à demander.\n"
   ]
  },
  {
   "cell_type": "markdown",
   "metadata": {},
   "source": [
    "## Exercice 2: Calcul Variationnel"
   ]
  },
  {
   "cell_type": "markdown",
   "metadata": {},
   "source": [
    "Dans cet exercice, on considère le problème de calcul variationnel suivant:\n",
    "$$\n",
    "\\min \\int_0^1 (\\dot{x}(t)^2+2x(t)^2)e^t dt, \\quad x(0)=0, x(1)=e - e^{-2}\n",
    "$$\n",
    "\n",
    "modélisé avec `PDENLPModels`."
   ]
  },
  {
   "cell_type": "code",
   "execution_count": 8,
   "metadata": {},
   "outputs": [
    {
     "data": {
      "text/plain": [
       "cv_model (generic function with 1 method)"
      ]
     },
     "metadata": {},
     "output_type": "display_data"
    }
   ],
   "source": [
    "function cv_model(n :: Int)\n",
    "\n",
    "  domain = (0,1) # set the domain\n",
    "  partition = n\n",
    "  model = CartesianDiscreteModel(domain,partition) # set discretization\n",
    "    \n",
    "  labels = get_face_labeling(model)\n",
    "  add_tag_from_tags!(labels,\"diri1\",[2])\n",
    "  add_tag_from_tags!(labels,\"diri0\",[1]) # boundary conditions\n",
    "\n",
    "  order=1\n",
    "  valuetype=Float64\n",
    "  reffe = ReferenceFE(lagrangian, valuetype, order)\n",
    "  V0 = TestFESpace(model, reffe; conformity=:H1, dirichlet_tags=[\"diri0\",\"diri1\"])\n",
    "  U = TrialFESpace(V0,[0., exp(1)-exp(-2)])\n",
    "\n",
    "  trian = Triangulation(model)\n",
    "  degree = 2\n",
    "  dΩ = Measure(trian,degree) # integration machinery\n",
    "\n",
    "  # Our objective function\n",
    "  w(x) = exp(x[1])\n",
    "  function f(y)\n",
    "    ∫((∇(y)⊙∇(y) + 2 * y * y) * w) * dΩ\n",
    "  end\n",
    "\n",
    "  xin = zeros(Gridap.FESpaces.num_free_dofs(U))\n",
    "  nlp = GridapPDENLPModel(xin, f, trian, U, V0)\n",
    "  return nlp\n",
    "end"
   ]
  },
  {
   "cell_type": "markdown",
   "metadata": {},
   "source": [
    "### Question 1: Résoudre\n",
    "Résoudre le NLPModel généré par la fonction `cv_model` pour `n = 16` avec `ipopt` et afficher la solution (attention la solution rendue ne contient pas les valeurs aux bords qu'il faut rajouter)."
   ]
  },
  {
   "cell_type": "code",
   "execution_count": 9,
   "metadata": {},
   "outputs": [
    {
     "name": "stdout",
     "output_type": "stream",
     "text": [
      "\n",
      "******************************************************************************\n",
      "This program contains Ipopt, a library for large-scale nonlinear optimization.\n",
      " Ipopt is released as open source code under the Eclipse Public License (EPL).\n",
      "         For more information visit https://github.com/coin-or/Ipopt\n",
      "******************************************************************************\n",
      "\n",
      "This is Ipopt version 3.14.14, running with linear solver MUMPS 5.6.2.\n",
      "\n",
      "Number of nonzeros in equality constraint Jacobian...:        0\n",
      "Number of nonzeros in inequality constraint Jacobian.:        0\n",
      "Number of nonzeros in Lagrangian Hessian.............:       44\n",
      "\n",
      "Total number of variables............................:       15\n",
      "                     variables with only lower bounds:        0\n",
      "                variables with lower and upper bounds:        0\n",
      "                     variables with only upper bounds:        0\n",
      "Total number of equality constraints.................:        0\n",
      "Total number of inequality constraints...............:        0\n",
      "        inequality constraints with only lower bounds:        0\n",
      "   inequality constraints with lower and upper bounds:        0\n",
      "        inequality constraints with only upper bounds:        0\n",
      "\n",
      "iter    objective    inf_pr   inf_du lg(mu)  ||d||  lg(rg) alpha_du alpha_pr  ls\n",
      "   0  2.8202747e+02 0.00e+00 1.00e+02  -1.0 0.00e+00    -  0.00e+00 0.00e+00   0\n",
      "   1  2.0987074e+01 0.00e+00 3.02e-14  -1.0 2.40e+00    -  1.00e+00 1.00e+00f  1\n",
      "\n",
      "Number of Iterations....: 1\n",
      "\n",
      "                                   (scaled)                 (unscaled)\n",
      "Objective...............:   9.6484800135597375e+00    2.0987074475792042e+01\n",
      "Dual infeasibility......:   3.0216136547373433e-14    6.5725203057809267e-14\n",
      "Constraint violation....:   0.0000000000000000e+00    0.0000000000000000e+00\n",
      "Variable bound violation:   0.0000000000000000e+00    0.0000000000000000e+00\n",
      "Complementarity.........:   0.0000000000000000e+00    0.0000000000000000e+00\n",
      "Overall NLP error.......:   3.0216136547373433e-14    6.5725203057809267e-14\n",
      "\n",
      "\n",
      "Number of objective function evaluations             = 2\n",
      "Number of objective gradient evaluations             = 2\n",
      "Number of equality constraint evaluations            = 0\n",
      "Number of inequality constraint evaluations          = 0\n",
      "Number of equality constraint Jacobian evaluations   = 0\n",
      "Number of inequality constraint Jacobian evaluations = 0\n",
      "Number of Lagrangian Hessian evaluations             = 1\n",
      "Total seconds in IPOPT                               = 9.564\n",
      "\n",
      "EXIT: Optimal Solution Found.\n",
      "sol = [0.0, 0.18196306770012807, 0.3542814202913607, 0.5188461331646763, 0.6773749095244441, 0.8314356102360283, 0.9824672217813848, 1.131798576544907, 1.2806651035693914, 1.4302238561349263, 1.5815670345204877, 1.7357341976668708, 1.8937233357803989, 2.056500956855748, 2.2250113233500324, 2.400184960541827, 2.5829465452224323]\n"
     ]
    },
    {
     "data": {
      "text/plain": [
       "17-element Vector{Float64}:\n",
       " 0.0\n",
       " 0.18196306770012807\n",
       " 0.3542814202913607\n",
       " 0.5188461331646763\n",
       " 0.6773749095244441\n",
       " 0.8314356102360283\n",
       " 0.9824672217813848\n",
       " 1.131798576544907\n",
       " 1.2806651035693914\n",
       " 1.4302238561349263\n",
       " 1.5815670345204877\n",
       " 1.7357341976668708\n",
       " 1.8937233357803989\n",
       " 2.056500956855748\n",
       " 2.2250113233500324\n",
       " 2.400184960541827\n",
       " 2.5829465452224323"
      ]
     },
     "metadata": {},
     "output_type": "display_data"
    }
   ],
   "source": [
    "nlp_var = cv_model(16)\n",
    "stats = ipopt(nlp_var)\n",
    "sol = stats.solution\n",
    "pushfirst!(sol, 0)\n",
    "push!(sol, exp(1)-exp(-2))\n",
    "@show sol"
   ]
  },
  {
   "cell_type": "markdown",
   "metadata": {},
   "source": [
    "### Question 2: Convergence en `n`\n",
    "Afficher sur un même graphique la solution obtenue par `ipopt` pour plusieurs valeurs de `n`."
   ]
  },
  {
   "cell_type": "code",
   "execution_count": 10,
   "metadata": {},
   "outputs": [],
   "source": [
    "using Plots"
   ]
  },
  {
   "cell_type": "code",
   "execution_count": 12,
   "metadata": {},
   "outputs": [
    {
     "name": "stdout",
     "output_type": "stream",
     "text": [
      "This is Ipopt version 3.14.14, running with linear solver MUMPS 5.6.2.\n",
      "\n",
      "Number of nonzeros in equality constraint Jacobian...:        0\n",
      "Number of nonzeros in inequality constraint Jacobian.:        0\n",
      "Number of nonzeros in Lagrangian Hessian.............:       44\n",
      "\n",
      "Total number of variables............................:       15\n",
      "                     variables with only lower bounds:        0\n",
      "                variables with lower and upper bounds:        0\n",
      "                     variables with only upper bounds:        0\n",
      "Total number of equality constraints.................:        0\n",
      "Total number of inequality constraints...............:        0\n",
      "        inequality constraints with only lower bounds:        0\n",
      "   inequality constraints with lower and upper bounds:        0\n",
      "        inequality constraints with only upper bounds:        0\n",
      "\n",
      "iter    objective    inf_pr   inf_du lg(mu)  ||d||  lg(rg) alpha_du alpha_pr  ls\n",
      "   0  2.8202747e+02 0.00e+00 1.00e+02  -1.0 0.00e+00    -  0.00e+00 0.00e+00   0\n",
      "   1  2.0987074e+01 0.00e+00 3.02e-14  -1.0 2.40e+00    -  1.00e+00 1.00e+00f  1\n",
      "\n",
      "Number of Iterations....: 1\n",
      "\n",
      "                                   (scaled)                 (unscaled)\n",
      "Objective...............:   9.6484800135597375e+00    2.0987074475792042e+01\n",
      "Dual infeasibility......:   3.0216136547373433e-14    6.5725203057809267e-14\n",
      "Constraint violation....:   0.0000000000000000e+00    0.0000000000000000e+00\n",
      "Variable bound violation:   0.0000000000000000e+00    0.0000000000000000e+00\n",
      "Complementarity.........:   0.0000000000000000e+00    0.0000000000000000e+00\n",
      "Overall NLP error.......:   3.0216136547373433e-14    6.5725203057809267e-14\n",
      "\n",
      "\n",
      "Number of objective function evaluations             = 2\n",
      "Number of objective gradient evaluations             = 2\n",
      "Number of equality constraint evaluations            = 0\n",
      "Number of inequality constraint evaluations          = 0\n",
      "Number of equality constraint Jacobian evaluations   = 0\n",
      "Number of inequality constraint Jacobian evaluations = 0\n",
      "Number of Lagrangian Hessian evaluations             = 1\n",
      "Total seconds in IPOPT                               = 0.248\n",
      "\n",
      "EXIT: Optimal Solution Found.\n",
      "This is Ipopt version 3.14.14, running with linear solver MUMPS 5.6.2.\n",
      "\n",
      "Number of nonzeros in equality constraint Jacobian...:        0\n",
      "Number of nonzeros in inequality constraint Jacobian.:        0\n",
      "Number of nonzeros in Lagrangian Hessian.............:      188\n",
      "\n",
      "Total number of variables............................:       63\n",
      "                     variables with only lower bounds:        0\n",
      "                variables with lower and upper bounds:        0\n",
      "                     variables with only upper bounds:        0\n",
      "Total number of equality constraints.................:        0\n",
      "Total number of inequality constraints...............:        0\n",
      "        inequality constraints with only lower bounds:        0\n",
      "   inequality constraints with lower and upper bounds:        0\n",
      "        inequality constraints with only upper bounds:        0\n",
      "\n",
      "iter    objective    inf_pr   inf_du lg(mu)  ||d||  lg(rg) alpha_du alpha_pr  ls\n",
      "   0  1.1518283e+03 0.00e+00 1.00e+02  -1.0 0.00e+00    -  0.00e+00 0.00e+00   0\n",
      "   1  2.0986033e+01 0.00e+00 4.24e-14  -1.0 2.54e+00    -  1.00e+00 1.00e+00f  1\n",
      "\n",
      "Number of Iterations....: 1\n",
      "\n",
      "                                   (scaled)                 (unscaled)\n",
      "Objective...............:   2.3536090441322584e+00    2.0986032544330904e+01\n",
      "Dual infeasibility......:   4.2433983006517781e-14    3.7836400679225335e-13\n",
      "Constraint violation....:   0.0000000000000000e+00    0.0000000000000000e+00\n",
      "Variable bound violation:   0.0000000000000000e+00    0.0000000000000000e+00\n",
      "Complementarity.........:   0.0000000000000000e+00    0.0000000000000000e+00\n",
      "Overall NLP error.......:   4.2433983006517781e-14    3.7836400679225335e-13\n",
      "\n",
      "\n",
      "Number of objective function evaluations             = 2\n",
      "Number of objective gradient evaluations             = 2\n",
      "Number of equality constraint evaluations            = 0\n",
      "Number of inequality constraint evaluations          = 0\n",
      "Number of equality constraint Jacobian evaluations   = 0\n",
      "Number of inequality constraint Jacobian evaluations = 0\n",
      "Number of Lagrangian Hessian evaluations             = 1\n",
      "Total seconds in IPOPT                               = 0.110\n",
      "\n",
      "EXIT: Optimal Solution Found.\n",
      "This is Ipopt version 3.14.14, running with linear solver MUMPS 5.6.2.\n",
      "\n",
      "Number of nonzeros in equality constraint Jacobian...:        0\n",
      "Number of nonzeros in inequality constraint Jacobian.:        0\n",
      "Number of nonzeros in Lagrangian Hessian.............:      380\n",
      "\n",
      "Total number of variables............................:      127\n",
      "                     variables with only lower bounds:        0\n",
      "                variables with lower and upper bounds:        0\n",
      "                     variables with only upper bounds:        0\n",
      "Total number of equality constraints.................:        0\n",
      "Total number of inequality constraints...............:        0\n",
      "        inequality constraints with only lower bounds:        0\n",
      "   inequality constraints with lower and upper bounds:        0\n",
      "        inequality constraints with only upper bounds:        0\n",
      "\n",
      "iter    objective    inf_pr   inf_du lg(mu)  ||d||  lg(rg) alpha_du alpha_pr  ls\n",
      "   0  2.3123716e+03 0.00e+00 1.00e+02  -1.0 0.00e+00    -  0.00e+00 0.00e+00   0\n",
      "   1  2.0985980e+01 0.00e+00 4.71e-14  -1.0 2.56e+00    -  1.00e+00 1.00e+00f  1\n",
      "\n",
      "Number of Iterations....: 1\n",
      "\n",
      "                                   (scaled)                 (unscaled)\n",
      "Objective...............:   1.1721510689040422e+00    2.0985980229388002e+01\n",
      "Dual infeasibility......:   4.7127906774760018e-14    8.4376949871511907e-13\n",
      "Constraint violation....:   0.0000000000000000e+00    0.0000000000000000e+00\n",
      "Variable bound violation:   0.0000000000000000e+00    0.0000000000000000e+00\n",
      "Complementarity.........:   0.0000000000000000e+00    0.0000000000000000e+00\n",
      "Overall NLP error.......:   4.7127906774760018e-14    8.4376949871511907e-13\n",
      "\n",
      "\n",
      "Number of objective function evaluations             = 2\n",
      "Number of objective gradient evaluations             = 2\n",
      "Number of equality constraint evaluations            = 0\n",
      "Number of inequality constraint evaluations          = 0\n",
      "Number of equality constraint Jacobian evaluations   = 0\n",
      "Number of inequality constraint Jacobian evaluations = 0\n",
      "Number of Lagrangian Hessian evaluations             = 1\n",
      "Total seconds in IPOPT                               = 0.112\n",
      "\n",
      "EXIT: Optimal Solution Found.\n"
     ]
    },
    {
     "data": {
      "text/plain": [
       "129-element Vector{Float64}:\n",
       " 0.0\n",
       " 0.023346590836642457\n",
       " 0.04651433594179011\n",
       " 0.06950744423663797\n",
       " 0.09233007065295136\n",
       " 0.11498631705844285\n",
       " 0.13748023316849575\n",
       " 0.15981581744445067\n",
       " 0.1819970179786693\n",
       " 0.20402773336658583\n",
       " ⋮\n",
       " 2.4002337181067372\n",
       " 2.4226394055447575\n",
       " 2.445165316680484\n",
       " 2.467813255013142\n",
       " 2.4905850248451813\n",
       " 2.5134824314954174\n",
       " 2.5365072815106497\n",
       " 2.5596613828757735\n",
       " 2.5829465452224323"
      ]
     },
     "metadata": {},
     "output_type": "display_data"
    }
   ],
   "source": [
    "## Quelle plage de valeur de n? 3 valeurs proposées dans le pdf \n",
    "nlp_var16 = cv_model(16)\n",
    "stats16 = ipopt(nlp_var16)\n",
    "sol16 = stats16.solution\n",
    "pushfirst!(sol16, 0)\n",
    "push!(sol16, exp(1)-exp(-2))\n",
    "\n",
    "nlp_var64 = cv_model(64)\n",
    "stats64 = ipopt(nlp_var64)\n",
    "sol64 = stats64.solution\n",
    "pushfirst!(sol64, 0)\n",
    "push!(sol64, exp(1)-exp(-2))\n",
    "\n",
    "nlp_var128 = cv_model(128)\n",
    "stats128 = ipopt(nlp_var128)\n",
    "sol128 = stats128.solution\n",
    "pushfirst!(sol128, 0)\n",
    "push!(sol128, exp(1)-exp(-2))"
   ]
  },
  {
   "cell_type": "code",
   "execution_count": 15,
   "metadata": {},
   "outputs": [
    {
     "data": {
      "image/png": "[encoded data removed]",
      "image/svg+xml": [
       "<?xml version=\"1.0\" encoding=\"utf-8\"?>\n",
       "<svg xmlns=\"http://www.w3.org/2000/svg\" xmlns:xlink=\"http://www.w3.org/1999/xlink\" width=\"600\" height=\"400\" viewBox=\"0 0 2400 1600\">\n",
       "<defs>\n",
       "  <clipPath id=\"clip780\">\n",
       "    <rect x=\"0\" y=\"0\" width=\"2400\" height=\"1600\"/>\n",
       "  </clipPath>\n",
       "</defs>\n",
       "<path clip-path=\"url(#clip780)\" d=\"M0 1600 L2400 1600 L2400 0 L0 0  Z\" fill=\"#ffffff\" fill-rule=\"evenodd\" fill-opacity=\"1\"/>\n",
       "<defs>\n",
       "  <clipPath id=\"clip781\">\n",
       "    <rect x=\"480\" y=\"0\" width=\"1681\" height=\"1600\"/>\n",
       "  </clipPath>\n",
       "</defs>\n",
       "<path clip-path=\"url(#clip780)\" d=\"M219.38 1423.18 L2352.76 1423.18 L2352.76 47.2441 L219.38 47.2441  Z\" fill=\"#ffffff\" fill-rule=\"evenodd\" fill-opacity=\"1\"/>\n",
       "<defs>\n",
       "  <clipPath id=\"clip782\">\n",
       "    <rect x=\"219\" y=\"47\" width=\"2134\" height=\"1377\"/>\n",
       "  </clipPath>\n",
       "</defs>\n",
       "<polyline clip-path=\"url(#clip782)\" style=\"stroke:#000000; stroke-linecap:round; stroke-linejoin:round; stroke-width:2; stroke-opacity:0.1; fill:none\" points=\"279.759,1423.18 279.759,47.2441 \"/>\n",
       "<polyline clip-path=\"url(#clip782)\" style=\"stroke:#000000; stroke-linecap:round; stroke-linejoin:round; stroke-width:2; stroke-opacity:0.1; fill:none\" points=\"782.913,1423.18 782.913,47.2441 \"/>\n",
       "<polyline clip-path=\"url(#clip782)\" style=\"stroke:#000000; stroke-linecap:round; stroke-linejoin:round; stroke-width:2; stroke-opacity:0.1; fill:none\" points=\"1286.07,1423.18 1286.07,47.2441 \"/>\n",
       "<polyline clip-path=\"url(#clip782)\" style=\"stroke:#000000; stroke-linecap:round; stroke-linejoin:round; stroke-width:2; stroke-opacity:0.1; fill:none\" points=\"1789.22,1423.18 1789.22,47.2441 \"/>\n",
       "<polyline clip-path=\"url(#clip782)\" style=\"stroke:#000000; stroke-linecap:round; stroke-linejoin:round; stroke-width:2; stroke-opacity:0.1; fill:none\" points=\"2292.38,1423.18 2292.38,47.2441 \"/>\n",
       "<polyline clip-path=\"url(#clip780)\" style=\"stroke:#000000; stroke-linecap:round; stroke-linejoin:round; stroke-width:4; stroke-opacity:1; fill:none\" points=\"219.38,1423.18 2352.76,1423.18 \"/>\n",
       "<polyline clip-path=\"url(#clip780)\" style=\"stroke:#000000; stroke-linecap:round; stroke-linejoin:round; stroke-width:4; stroke-opacity:1; fill:none\" points=\"279.759,1423.18 279.759,1404.28 \"/>\n",
       "<polyline clip-path=\"url(#clip780)\" style=\"stroke:#000000; stroke-linecap:round; stroke-linejoin:round; stroke-width:4; stroke-opacity:1; fill:none\" points=\"782.913,1423.18 782.913,1404.28 \"/>\n",
       "<polyline clip-path=\"url(#clip780)\" style=\"stroke:#000000; stroke-linecap:round; stroke-linejoin:round; stroke-width:4; stroke-opacity:1; fill:none\" points=\"1286.07,1423.18 1286.07,1404.28 \"/>\n",
       "<polyline clip-path=\"url(#clip780)\" style=\"stroke:#000000; stroke-linecap:round; stroke-linejoin:round; stroke-width:4; stroke-opacity:1; fill:none\" points=\"1789.22,1423.18 1789.22,1404.28 \"/>\n",
       "<polyline clip-path=\"url(#clip780)\" style=\"stroke:#000000; stroke-linecap:round; stroke-linejoin:round; stroke-width:4; stroke-opacity:1; fill:none\" points=\"2292.38,1423.18 2292.38,1404.28 \"/>\n",
       "<path clip-path=\"url(#clip780)\" d=\"M242.062 1454.1 Q238.451 1454.1 236.622 1457.66 Q234.817 1461.2 234.817 1468.33 Q234.817 1475.44 236.622 1479.01 Q238.451 1482.55 242.062 1482.55 Q245.696 1482.55 247.502 1479.01 Q249.331 1475.44 249.331 1468.33 Q249.331 1461.2 247.502 1457.66 Q245.696 1454.1 242.062 1454.1 M242.062 1450.39 Q247.872 1450.39 250.928 1455 Q254.007 1459.58 254.007 1468.33 Q254.007 1477.06 250.928 1481.67 Q247.872 1486.25 242.062 1486.25 Q236.252 1486.25 233.173 1481.67 Q230.118 1477.06 230.118 1468.33 Q230.118 1459.58 233.173 1455 Q236.252 1450.39 242.062 1450.39 Z\" fill=\"#000000\" fill-rule=\"nonzero\" fill-opacity=\"1\" /><path clip-path=\"url(#clip780)\" d=\"M262.224 1479.7 L267.108 1479.7 L267.108 1485.58 L262.224 1485.58 L262.224 1479.7 Z\" fill=\"#000000\" fill-rule=\"nonzero\" fill-opacity=\"1\" /><path clip-path=\"url(#clip780)\" d=\"M287.293 1454.1 Q283.682 1454.1 281.854 1457.66 Q280.048 1461.2 280.048 1468.33 Q280.048 1475.44 281.854 1479.01 Q283.682 1482.55 287.293 1482.55 Q290.928 1482.55 292.733 1479.01 Q294.562 1475.44 294.562 1468.33 Q294.562 1461.2 292.733 1457.66 Q290.928 1454.1 287.293 1454.1 M287.293 1450.39 Q293.104 1450.39 296.159 1455 Q299.238 1459.58 299.238 1468.33 Q299.238 1477.06 296.159 1481.67 Q293.104 1486.25 287.293 1486.25 Q281.483 1486.25 278.405 1481.67 Q275.349 1477.06 275.349 1468.33 Q275.349 1459.58 278.405 1455 Q281.483 1450.39 287.293 1450.39 Z\" fill=\"#000000\" fill-rule=\"nonzero\" fill-opacity=\"1\" /><path clip-path=\"url(#clip780)\" d=\"M317.455 1454.1 Q313.844 1454.1 312.015 1457.66 Q310.21 1461.2 310.21 1468.33 Q310.21 1475.44 312.015 1479.01 Q313.844 1482.55 317.455 1482.55 Q321.09 1482.55 322.895 1479.01 Q324.724 1475.44 324.724 1468.33 Q324.724 1461.2 322.895 1457.66 Q321.09 1454.1 317.455 1454.1 M317.455 1450.39 Q323.265 1450.39 326.321 1455 Q329.4 1459.58 329.4 1468.33 Q329.4 1477.06 326.321 1481.67 Q323.265 1486.25 317.455 1486.25 Q311.645 1486.25 308.566 1481.67 Q305.511 1477.06 305.511 1468.33 Q305.511 1459.58 308.566 1455 Q311.645 1450.39 317.455 1450.39 Z\" fill=\"#000000\" fill-rule=\"nonzero\" fill-opacity=\"1\" /><path clip-path=\"url(#clip780)\" d=\"M745.714 1454.1 Q742.103 1454.1 740.275 1457.66 Q738.469 1461.2 738.469 1468.33 Q738.469 1475.44 740.275 1479.01 Q742.103 1482.55 745.714 1482.55 Q749.349 1482.55 751.154 1479.01 Q752.983 1475.44 752.983 1468.33 Q752.983 1461.2 751.154 1457.66 Q749.349 1454.1 745.714 1454.1 M745.714 1450.39 Q751.525 1450.39 754.58 1455 Q757.659 1459.58 757.659 1468.33 Q757.659 1477.06 754.58 1481.67 Q751.525 1486.25 745.714 1486.25 Q739.904 1486.25 736.826 1481.67 Q733.77 1477.06 733.77 1468.33 Q733.77 1459.58 736.826 1455 Q739.904 1450.39 745.714 1450.39 Z\" fill=\"#000000\" fill-rule=\"nonzero\" fill-opacity=\"1\" /><path clip-path=\"url(#clip780)\" d=\"M765.876 1479.7 L770.761 1479.7 L770.761 1485.58 L765.876 1485.58 L765.876 1479.7 Z\" fill=\"#000000\" fill-rule=\"nonzero\" fill-opacity=\"1\" /><path clip-path=\"url(#clip780)\" d=\"M784.974 1481.64 L801.293 1481.64 L801.293 1485.58 L779.349 1485.58 L779.349 1481.64 Q782.011 1478.89 786.594 1474.26 Q791.2 1469.61 792.381 1468.27 Q794.626 1465.74 795.506 1464.01 Q796.409 1462.25 796.409 1460.56 Q796.409 1457.8 794.464 1456.07 Q792.543 1454.33 789.441 1454.33 Q787.242 1454.33 784.788 1455.09 Q782.358 1455.86 779.58 1457.41 L779.58 1452.69 Q782.404 1451.55 784.858 1450.97 Q787.311 1450.39 789.349 1450.39 Q794.719 1450.39 797.913 1453.08 Q801.108 1455.77 801.108 1460.26 Q801.108 1462.39 800.298 1464.31 Q799.511 1466.2 797.404 1468.8 Q796.825 1469.47 793.724 1472.69 Q790.622 1475.88 784.974 1481.64 Z\" fill=\"#000000\" fill-rule=\"nonzero\" fill-opacity=\"1\" /><path clip-path=\"url(#clip780)\" d=\"M811.154 1451.02 L829.51 1451.02 L829.51 1454.96 L815.436 1454.96 L815.436 1463.43 Q816.455 1463.08 817.473 1462.92 Q818.492 1462.73 819.51 1462.73 Q825.297 1462.73 828.677 1465.9 Q832.057 1469.08 832.057 1474.49 Q832.057 1480.07 828.584 1483.17 Q825.112 1486.25 818.793 1486.25 Q816.617 1486.25 814.348 1485.88 Q812.103 1485.51 809.696 1484.77 L809.696 1480.07 Q811.779 1481.2 814.001 1481.76 Q816.223 1482.32 818.7 1482.32 Q822.705 1482.32 825.043 1480.21 Q827.381 1478.1 827.381 1474.49 Q827.381 1470.88 825.043 1468.77 Q822.705 1466.67 818.7 1466.67 Q816.825 1466.67 814.95 1467.08 Q813.098 1467.5 811.154 1468.38 L811.154 1451.02 Z\" fill=\"#000000\" fill-rule=\"nonzero\" fill-opacity=\"1\" /><path clip-path=\"url(#clip780)\" d=\"M1248.37 1454.1 Q1244.76 1454.1 1242.93 1457.66 Q1241.13 1461.2 1241.13 1468.33 Q1241.13 1475.44 1242.93 1479.01 Q1244.76 1482.55 1248.37 1482.55 Q1252.01 1482.55 1253.81 1479.01 Q1255.64 1475.44 1255.64 1468.33 Q1255.64 1461.2 1253.81 1457.66 Q1252.01 1454.1 1248.37 1454.1 M1248.37 1450.39 Q1254.18 1450.39 1257.24 1455 Q1260.32 1459.58 1260.32 1468.33 Q1260.32 1477.06 1257.24 1481.67 Q1254.18 1486.25 1248.37 1486.25 Q1242.56 1486.25 1239.48 1481.67 Q1236.43 1477.06 1236.43 1468.33 Q1236.43 1459.58 1239.48 1455 Q1242.56 1450.39 1248.37 1450.39 Z\" fill=\"#000000\" fill-rule=\"nonzero\" fill-opacity=\"1\" /><path clip-path=\"url(#clip780)\" d=\"M1268.53 1479.7 L1273.42 1479.7 L1273.42 1485.58 L1268.53 1485.58 L1268.53 1479.7 Z\" fill=\"#000000\" fill-rule=\"nonzero\" fill-opacity=\"1\" /><path clip-path=\"url(#clip780)\" d=\"M1283.65 1451.02 L1302.01 1451.02 L1302.01 1454.96 L1287.93 1454.96 L1287.93 1463.43 Q1288.95 1463.08 1289.97 1462.92 Q1290.99 1462.73 1292.01 1462.73 Q1297.79 1462.73 1301.17 1465.9 Q1304.55 1469.08 1304.55 1474.49 Q1304.55 1480.07 1301.08 1483.17 Q1297.61 1486.25 1291.29 1486.25 Q1289.11 1486.25 1286.84 1485.88 Q1284.6 1485.51 1282.19 1484.77 L1282.19 1480.07 Q1284.27 1481.2 1286.5 1481.76 Q1288.72 1482.32 1291.2 1482.32 Q1295.2 1482.32 1297.54 1480.21 Q1299.88 1478.1 1299.88 1474.49 Q1299.88 1470.88 1297.54 1468.77 Q1295.2 1466.67 1291.2 1466.67 Q1289.32 1466.67 1287.45 1467.08 Q1285.59 1467.5 1283.65 1468.38 L1283.65 1451.02 Z\" fill=\"#000000\" fill-rule=\"nonzero\" fill-opacity=\"1\" /><path clip-path=\"url(#clip780)\" d=\"M1323.76 1454.1 Q1320.15 1454.1 1318.32 1457.66 Q1316.52 1461.2 1316.52 1468.33 Q1316.52 1475.44 1318.32 1479.01 Q1320.15 1482.55 1323.76 1482.55 Q1327.4 1482.55 1329.2 1479.01 Q1331.03 1475.44 1331.03 1468.33 Q1331.03 1461.2 1329.2 1457.66 Q1327.4 1454.1 1323.76 1454.1 M1323.76 1450.39 Q1329.57 1450.39 1332.63 1455 Q1335.71 1459.58 1335.71 1468.33 Q1335.71 1477.06 1332.63 1481.67 Q1329.57 1486.25 1323.76 1486.25 Q1317.95 1486.25 1314.88 1481.67 Q1311.82 1477.06 1311.82 1468.33 Q1311.82 1459.58 1314.88 1455 Q1317.95 1450.39 1323.76 1450.39 Z\" fill=\"#000000\" fill-rule=\"nonzero\" fill-opacity=\"1\" /><path clip-path=\"url(#clip780)\" d=\"M1752.02 1454.1 Q1748.41 1454.1 1746.58 1457.66 Q1744.78 1461.2 1744.78 1468.33 Q1744.78 1475.44 1746.58 1479.01 Q1748.41 1482.55 1752.02 1482.55 Q1755.66 1482.55 1757.46 1479.01 Q1759.29 1475.44 1759.29 1468.33 Q1759.29 1461.2 1757.46 1457.66 Q1755.66 1454.1 1752.02 1454.1 M1752.02 1450.39 Q1757.83 1450.39 1760.89 1455 Q1763.97 1459.58 1763.97 1468.33 Q1763.97 1477.06 1760.89 1481.67 Q1757.83 1486.25 1752.02 1486.25 Q1746.21 1486.25 1743.13 1481.67 Q1740.08 1477.06 1740.08 1468.33 Q1740.08 1459.58 1743.13 1455 Q1746.21 1450.39 1752.02 1450.39 Z\" fill=\"#000000\" fill-rule=\"nonzero\" fill-opacity=\"1\" /><path clip-path=\"url(#clip780)\" d=\"M1772.19 1479.7 L1777.07 1479.7 L1777.07 1485.58 L1772.19 1485.58 L1772.19 1479.7 Z\" fill=\"#000000\" fill-rule=\"nonzero\" fill-opacity=\"1\" /><path clip-path=\"url(#clip780)\" d=\"M1786.07 1451.02 L1808.3 1451.02 L1808.3 1453.01 L1795.75 1485.58 L1790.87 1485.58 L1802.67 1454.96 L1786.07 1454.96 L1786.07 1451.02 Z\" fill=\"#000000\" fill-rule=\"nonzero\" fill-opacity=\"1\" /><path clip-path=\"url(#clip780)\" d=\"M1817.46 1451.02 L1835.82 1451.02 L1835.82 1454.96 L1821.75 1454.96 L1821.75 1463.43 Q1822.76 1463.08 1823.78 1462.92 Q1824.8 1462.73 1825.82 1462.73 Q1831.61 1462.73 1834.99 1465.9 Q1838.37 1469.08 1838.37 1474.49 Q1838.37 1480.07 1834.89 1483.17 Q1831.42 1486.25 1825.1 1486.25 Q1822.93 1486.25 1820.66 1485.88 Q1818.41 1485.51 1816 1484.77 L1816 1480.07 Q1818.09 1481.2 1820.31 1481.76 Q1822.53 1482.32 1825.01 1482.32 Q1829.01 1482.32 1831.35 1480.21 Q1833.69 1478.1 1833.69 1474.49 Q1833.69 1470.88 1831.35 1468.77 Q1829.01 1466.67 1825.01 1466.67 Q1823.13 1466.67 1821.26 1467.08 Q1819.41 1467.5 1817.46 1468.38 L1817.46 1451.02 Z\" fill=\"#000000\" fill-rule=\"nonzero\" fill-opacity=\"1\" /><path clip-path=\"url(#clip780)\" d=\"M2244.45 1481.64 L2252.09 1481.64 L2252.09 1455.28 L2243.78 1456.95 L2243.78 1452.69 L2252.04 1451.02 L2256.72 1451.02 L2256.72 1481.64 L2264.36 1481.64 L2264.36 1485.58 L2244.45 1485.58 L2244.45 1481.64 Z\" fill=\"#000000\" fill-rule=\"nonzero\" fill-opacity=\"1\" /><path clip-path=\"url(#clip780)\" d=\"M2273.8 1479.7 L2278.69 1479.7 L2278.69 1485.58 L2273.8 1485.58 L2273.8 1479.7 Z\" fill=\"#000000\" fill-rule=\"nonzero\" fill-opacity=\"1\" /><path clip-path=\"url(#clip780)\" d=\"M2298.87 1454.1 Q2295.26 1454.1 2293.43 1457.66 Q2291.63 1461.2 2291.63 1468.33 Q2291.63 1475.44 2293.43 1479.01 Q2295.26 1482.55 2298.87 1482.55 Q2302.5 1482.55 2304.31 1479.01 Q2306.14 1475.44 2306.14 1468.33 Q2306.14 1461.2 2304.31 1457.66 Q2302.5 1454.1 2298.87 1454.1 M2298.87 1450.39 Q2304.68 1450.39 2307.74 1455 Q2310.81 1459.58 2310.81 1468.33 Q2310.81 1477.06 2307.74 1481.67 Q2304.68 1486.25 2298.87 1486.25 Q2293.06 1486.25 2289.98 1481.67 Q2286.93 1477.06 2286.93 1468.33 Q2286.93 1459.58 2289.98 1455 Q2293.06 1450.39 2298.87 1450.39 Z\" fill=\"#000000\" fill-rule=\"nonzero\" fill-opacity=\"1\" /><path clip-path=\"url(#clip780)\" d=\"M2329.03 1454.1 Q2325.42 1454.1 2323.59 1457.66 Q2321.79 1461.2 2321.79 1468.33 Q2321.79 1475.44 2323.59 1479.01 Q2325.42 1482.55 2329.03 1482.55 Q2332.67 1482.55 2334.47 1479.01 Q2336.3 1475.44 2336.3 1468.33 Q2336.3 1461.2 2334.47 1457.66 Q2332.67 1454.1 2329.03 1454.1 M2329.03 1450.39 Q2334.84 1450.39 2337.9 1455 Q2340.98 1459.58 2340.98 1468.33 Q2340.98 1477.06 2337.9 1481.67 Q2334.84 1486.25 2329.03 1486.25 Q2323.22 1486.25 2320.14 1481.67 Q2317.09 1477.06 2317.09 1468.33 Q2317.09 1459.58 2320.14 1455 Q2323.22 1450.39 2329.03 1450.39 Z\" fill=\"#000000\" fill-rule=\"nonzero\" fill-opacity=\"1\" /><path clip-path=\"url(#clip780)\" d=\"M1285.13 1522.27 L1285.13 1532.4 L1297.19 1532.4 L1297.19 1536.95 L1285.13 1536.95 L1285.13 1556.3 Q1285.13 1560.66 1286.31 1561.9 Q1287.52 1563.14 1291.18 1563.14 L1297.19 1563.14 L1297.19 1568.04 L1291.18 1568.04 Q1284.4 1568.04 1281.82 1565.53 Q1279.24 1562.98 1279.24 1556.3 L1279.24 1536.95 L1274.94 1536.95 L1274.94 1532.4 L1279.24 1532.4 L1279.24 1522.27 L1285.13 1522.27 Z\" fill=\"#000000\" fill-rule=\"nonzero\" fill-opacity=\"1\" /><polyline clip-path=\"url(#clip782)\" style=\"stroke:#000000; stroke-linecap:round; stroke-linejoin:round; stroke-width:2; stroke-opacity:0.1; fill:none\" points=\"219.38,1384.24 2352.76,1384.24 \"/>\n",
       "<polyline clip-path=\"url(#clip782)\" style=\"stroke:#000000; stroke-linecap:round; stroke-linejoin:round; stroke-width:2; stroke-opacity:0.1; fill:none\" points=\"219.38,1132.96 2352.76,1132.96 \"/>\n",
       "<polyline clip-path=\"url(#clip782)\" style=\"stroke:#000000; stroke-linecap:round; stroke-linejoin:round; stroke-width:2; stroke-opacity:0.1; fill:none\" points=\"219.38,881.691 2352.76,881.691 \"/>\n",
       "<polyline clip-path=\"url(#clip782)\" style=\"stroke:#000000; stroke-linecap:round; stroke-linejoin:round; stroke-width:2; stroke-opacity:0.1; fill:none\" points=\"219.38,630.417 2352.76,630.417 \"/>\n",
       "<polyline clip-path=\"url(#clip782)\" style=\"stroke:#000000; stroke-linecap:round; stroke-linejoin:round; stroke-width:2; stroke-opacity:0.1; fill:none\" points=\"219.38,379.144 2352.76,379.144 \"/>\n",
       "<polyline clip-path=\"url(#clip782)\" style=\"stroke:#000000; stroke-linecap:round; stroke-linejoin:round; stroke-width:2; stroke-opacity:0.1; fill:none\" points=\"219.38,127.87 2352.76,127.87 \"/>\n",
       "<polyline clip-path=\"url(#clip780)\" style=\"stroke:#000000; stroke-linecap:round; stroke-linejoin:round; stroke-width:4; stroke-opacity:1; fill:none\" points=\"219.38,1423.18 219.38,47.2441 \"/>\n",
       "<polyline clip-path=\"url(#clip780)\" style=\"stroke:#000000; stroke-linecap:round; stroke-linejoin:round; stroke-width:4; stroke-opacity:1; fill:none\" points=\"219.38,1384.24 238.278,1384.24 \"/>\n",
       "<polyline clip-path=\"url(#clip780)\" style=\"stroke:#000000; stroke-linecap:round; stroke-linejoin:round; stroke-width:4; stroke-opacity:1; fill:none\" points=\"219.38,1132.96 238.278,1132.96 \"/>\n",
       "<polyline clip-path=\"url(#clip780)\" style=\"stroke:#000000; stroke-linecap:round; stroke-linejoin:round; stroke-width:4; stroke-opacity:1; fill:none\" points=\"219.38,881.691 238.278,881.691 \"/>\n",
       "<polyline clip-path=\"url(#clip780)\" style=\"stroke:#000000; stroke-linecap:round; stroke-linejoin:round; stroke-width:4; stroke-opacity:1; fill:none\" points=\"219.38,630.417 238.278,630.417 \"/>\n",
       "<polyline clip-path=\"url(#clip780)\" style=\"stroke:#000000; stroke-linecap:round; stroke-linejoin:round; stroke-width:4; stroke-opacity:1; fill:none\" points=\"219.38,379.144 238.278,379.144 \"/>\n",
       "<polyline clip-path=\"url(#clip780)\" style=\"stroke:#000000; stroke-linecap:round; stroke-linejoin:round; stroke-width:4; stroke-opacity:1; fill:none\" points=\"219.38,127.87 238.278,127.87 \"/>\n",
       "<path clip-path=\"url(#clip780)\" d=\"M126.205 1370.04 Q122.593 1370.04 120.765 1373.6 Q118.959 1377.14 118.959 1384.27 Q118.959 1391.38 120.765 1394.94 Q122.593 1398.49 126.205 1398.49 Q129.839 1398.49 131.644 1394.94 Q133.473 1391.38 133.473 1384.27 Q133.473 1377.14 131.644 1373.6 Q129.839 1370.04 126.205 1370.04 M126.205 1366.33 Q132.015 1366.33 135.07 1370.94 Q138.149 1375.52 138.149 1384.27 Q138.149 1393 135.07 1397.61 Q132.015 1402.19 126.205 1402.19 Q120.394 1402.19 117.316 1397.61 Q114.26 1393 114.26 1384.27 Q114.26 1375.52 117.316 1370.94 Q120.394 1366.33 126.205 1366.33 Z\" fill=\"#000000\" fill-rule=\"nonzero\" fill-opacity=\"1\" /><path clip-path=\"url(#clip780)\" d=\"M146.366 1395.64 L151.251 1395.64 L151.251 1401.52 L146.366 1401.52 L146.366 1395.64 Z\" fill=\"#000000\" fill-rule=\"nonzero\" fill-opacity=\"1\" /><path clip-path=\"url(#clip780)\" d=\"M171.436 1370.04 Q167.825 1370.04 165.996 1373.6 Q164.19 1377.14 164.19 1384.27 Q164.19 1391.38 165.996 1394.94 Q167.825 1398.49 171.436 1398.49 Q175.07 1398.49 176.876 1394.94 Q178.704 1391.38 178.704 1384.27 Q178.704 1377.14 176.876 1373.6 Q175.07 1370.04 171.436 1370.04 M171.436 1366.33 Q177.246 1366.33 180.301 1370.94 Q183.38 1375.52 183.38 1384.27 Q183.38 1393 180.301 1397.61 Q177.246 1402.19 171.436 1402.19 Q165.626 1402.19 162.547 1397.61 Q159.491 1393 159.491 1384.27 Q159.491 1375.52 162.547 1370.94 Q165.626 1366.33 171.436 1366.33 Z\" fill=\"#000000\" fill-rule=\"nonzero\" fill-opacity=\"1\" /><path clip-path=\"url(#clip780)\" d=\"M127.2 1118.76 Q123.589 1118.76 121.76 1122.33 Q119.955 1125.87 119.955 1133 Q119.955 1140.11 121.76 1143.67 Q123.589 1147.21 127.2 1147.21 Q130.834 1147.21 132.64 1143.67 Q134.468 1140.11 134.468 1133 Q134.468 1125.87 132.64 1122.33 Q130.834 1118.76 127.2 1118.76 M127.2 1115.06 Q133.01 1115.06 136.066 1119.67 Q139.144 1124.25 139.144 1133 Q139.144 1141.73 136.066 1146.33 Q133.01 1150.92 127.2 1150.92 Q121.39 1150.92 118.311 1146.33 Q115.256 1141.73 115.256 1133 Q115.256 1124.25 118.311 1119.67 Q121.39 1115.06 127.2 1115.06 Z\" fill=\"#000000\" fill-rule=\"nonzero\" fill-opacity=\"1\" /><path clip-path=\"url(#clip780)\" d=\"M147.362 1144.37 L152.246 1144.37 L152.246 1150.24 L147.362 1150.24 L147.362 1144.37 Z\" fill=\"#000000\" fill-rule=\"nonzero\" fill-opacity=\"1\" /><path clip-path=\"url(#clip780)\" d=\"M162.477 1115.68 L180.834 1115.68 L180.834 1119.62 L166.76 1119.62 L166.76 1128.09 Q167.778 1127.74 168.797 1127.58 Q169.815 1127.4 170.834 1127.4 Q176.621 1127.4 180.001 1130.57 Q183.38 1133.74 183.38 1139.16 Q183.38 1144.74 179.908 1147.84 Q176.436 1150.92 170.116 1150.92 Q167.94 1150.92 165.672 1150.55 Q163.427 1150.18 161.019 1149.43 L161.019 1144.74 Q163.102 1145.87 165.325 1146.43 Q167.547 1146.98 170.024 1146.98 Q174.028 1146.98 176.366 1144.87 Q178.704 1142.77 178.704 1139.16 Q178.704 1135.55 176.366 1133.44 Q174.028 1131.33 170.024 1131.33 Q168.149 1131.33 166.274 1131.75 Q164.422 1132.17 162.477 1133.05 L162.477 1115.68 Z\" fill=\"#000000\" fill-rule=\"nonzero\" fill-opacity=\"1\" /><path clip-path=\"url(#clip780)\" d=\"M117.015 895.036 L124.654 895.036 L124.654 868.67 L116.343 870.337 L116.343 866.078 L124.607 864.411 L129.283 864.411 L129.283 895.036 L136.922 895.036 L136.922 898.971 L117.015 898.971 L117.015 895.036 Z\" fill=\"#000000\" fill-rule=\"nonzero\" fill-opacity=\"1\" /><path clip-path=\"url(#clip780)\" d=\"M146.366 893.091 L151.251 893.091 L151.251 898.971 L146.366 898.971 L146.366 893.091 Z\" fill=\"#000000\" fill-rule=\"nonzero\" fill-opacity=\"1\" /><path clip-path=\"url(#clip780)\" d=\"M171.436 867.49 Q167.825 867.49 165.996 871.055 Q164.19 874.596 164.19 881.726 Q164.19 888.832 165.996 892.397 Q167.825 895.939 171.436 895.939 Q175.07 895.939 176.876 892.397 Q178.704 888.832 178.704 881.726 Q178.704 874.596 176.876 871.055 Q175.07 867.49 171.436 867.49 M171.436 863.786 Q177.246 863.786 180.301 868.393 Q183.38 872.976 183.38 881.726 Q183.38 890.453 180.301 895.059 Q177.246 899.642 171.436 899.642 Q165.626 899.642 162.547 895.059 Q159.491 890.453 159.491 881.726 Q159.491 872.976 162.547 868.393 Q165.626 863.786 171.436 863.786 Z\" fill=\"#000000\" fill-rule=\"nonzero\" fill-opacity=\"1\" /><path clip-path=\"url(#clip780)\" d=\"M118.01 643.762 L125.649 643.762 L125.649 617.397 L117.339 619.063 L117.339 614.804 L125.603 613.137 L130.279 613.137 L130.279 643.762 L137.917 643.762 L137.917 647.697 L118.01 647.697 L118.01 643.762 Z\" fill=\"#000000\" fill-rule=\"nonzero\" fill-opacity=\"1\" /><path clip-path=\"url(#clip780)\" d=\"M147.362 641.818 L152.246 641.818 L152.246 647.697 L147.362 647.697 L147.362 641.818 Z\" fill=\"#000000\" fill-rule=\"nonzero\" fill-opacity=\"1\" /><path clip-path=\"url(#clip780)\" d=\"M162.477 613.137 L180.834 613.137 L180.834 617.073 L166.76 617.073 L166.76 625.545 Q167.778 625.198 168.797 625.036 Q169.815 624.85 170.834 624.85 Q176.621 624.85 180.001 628.022 Q183.38 631.193 183.38 636.61 Q183.38 642.188 179.908 645.29 Q176.436 648.369 170.116 648.369 Q167.94 648.369 165.672 647.998 Q163.427 647.628 161.019 646.887 L161.019 642.188 Q163.102 643.322 165.325 643.878 Q167.547 644.434 170.024 644.434 Q174.028 644.434 176.366 642.327 Q178.704 640.221 178.704 636.61 Q178.704 632.998 176.366 630.892 Q174.028 628.786 170.024 628.786 Q168.149 628.786 166.274 629.202 Q164.422 629.619 162.477 630.498 L162.477 613.137 Z\" fill=\"#000000\" fill-rule=\"nonzero\" fill-opacity=\"1\" /><path clip-path=\"url(#clip780)\" d=\"M120.232 392.489 L136.552 392.489 L136.552 396.424 L114.607 396.424 L114.607 392.489 Q117.269 389.734 121.853 385.104 Q126.459 380.452 127.64 379.109 Q129.885 376.586 130.765 374.85 Q131.667 373.091 131.667 371.401 Q131.667 368.646 129.723 366.91 Q127.802 365.174 124.7 365.174 Q122.501 365.174 120.047 365.938 Q117.617 366.702 114.839 368.253 L114.839 363.53 Q117.663 362.396 120.117 361.818 Q122.57 361.239 124.607 361.239 Q129.978 361.239 133.172 363.924 Q136.367 366.609 136.367 371.1 Q136.367 373.23 135.556 375.151 Q134.769 377.049 132.663 379.642 Q132.084 380.313 128.982 383.53 Q125.88 386.725 120.232 392.489 Z\" fill=\"#000000\" fill-rule=\"nonzero\" fill-opacity=\"1\" /><path clip-path=\"url(#clip780)\" d=\"M146.366 390.544 L151.251 390.544 L151.251 396.424 L146.366 396.424 L146.366 390.544 Z\" fill=\"#000000\" fill-rule=\"nonzero\" fill-opacity=\"1\" /><path clip-path=\"url(#clip780)\" d=\"M171.436 364.943 Q167.825 364.943 165.996 368.507 Q164.19 372.049 164.19 379.179 Q164.19 386.285 165.996 389.85 Q167.825 393.391 171.436 393.391 Q175.07 393.391 176.876 389.85 Q178.704 386.285 178.704 379.179 Q178.704 372.049 176.876 368.507 Q175.07 364.943 171.436 364.943 M171.436 361.239 Q177.246 361.239 180.301 365.845 Q183.38 370.429 183.38 379.179 Q183.38 387.905 180.301 392.512 Q177.246 397.095 171.436 397.095 Q165.626 397.095 162.547 392.512 Q159.491 387.905 159.491 379.179 Q159.491 370.429 162.547 365.845 Q165.626 361.239 171.436 361.239 Z\" fill=\"#000000\" fill-rule=\"nonzero\" fill-opacity=\"1\" /><path clip-path=\"url(#clip780)\" d=\"M121.228 141.215 L137.547 141.215 L137.547 145.15 L115.603 145.15 L115.603 141.215 Q118.265 138.46 122.848 133.831 Q127.455 129.178 128.635 127.836 Q130.88 125.312 131.76 123.576 Q132.663 121.817 132.663 120.127 Q132.663 117.373 130.718 115.636 Q128.797 113.9 125.695 113.9 Q123.496 113.9 121.043 114.664 Q118.612 115.428 115.834 116.979 L115.834 112.257 Q118.658 111.123 121.112 110.544 Q123.566 109.965 125.603 109.965 Q130.973 109.965 134.167 112.65 Q137.362 115.336 137.362 119.826 Q137.362 121.956 136.552 123.877 Q135.765 125.775 133.658 128.368 Q133.08 129.039 129.978 132.257 Q126.876 135.451 121.228 141.215 Z\" fill=\"#000000\" fill-rule=\"nonzero\" fill-opacity=\"1\" /><path clip-path=\"url(#clip780)\" d=\"M147.362 139.271 L152.246 139.271 L152.246 145.15 L147.362 145.15 L147.362 139.271 Z\" fill=\"#000000\" fill-rule=\"nonzero\" fill-opacity=\"1\" /><path clip-path=\"url(#clip780)\" d=\"M162.477 110.59 L180.834 110.59 L180.834 114.525 L166.76 114.525 L166.76 122.998 Q167.778 122.65 168.797 122.488 Q169.815 122.303 170.834 122.303 Q176.621 122.303 180.001 125.474 Q183.38 128.646 183.38 134.062 Q183.38 139.641 179.908 142.743 Q176.436 145.822 170.116 145.822 Q167.94 145.822 165.672 145.451 Q163.427 145.081 161.019 144.34 L161.019 139.641 Q163.102 140.775 165.325 141.331 Q167.547 141.886 170.024 141.886 Q174.028 141.886 176.366 139.78 Q178.704 137.673 178.704 134.062 Q178.704 130.451 176.366 128.345 Q174.028 126.238 170.024 126.238 Q168.149 126.238 166.274 126.655 Q164.422 127.072 162.477 127.951 L162.477 110.59 Z\" fill=\"#000000\" fill-rule=\"nonzero\" fill-opacity=\"1\" /><path clip-path=\"url(#clip780)\" d=\"M28.3562 718.597 L45.7028 731.488 L64.0042 717.929 L64.0042 724.836 L49.9996 735.212 L64.0042 745.588 L64.0042 752.495 L45.3526 738.649 L28.3562 751.317 L28.3562 744.41 L41.0558 734.957 L28.3562 725.504 L28.3562 718.597 Z\" fill=\"#000000\" fill-rule=\"nonzero\" fill-opacity=\"1\" /><polyline clip-path=\"url(#clip782)\" style=\"stroke:#009af9; stroke-linecap:round; stroke-linejoin:round; stroke-width:4; stroke-opacity:1; fill:none\" points=\"279.759,1384.24 295.482,1372.51 311.206,1360.86 326.929,1349.31 342.653,1337.84 358.377,1326.45 374.1,1315.15 389.824,1303.92 405.547,1292.78 421.271,1281.7 436.995,1270.71 452.718,1259.78 468.442,1248.92 484.165,1238.14 499.889,1227.41 515.612,1216.76 531.336,1206.16 547.06,1195.63 562.783,1185.15 578.507,1174.74 594.23,1164.37 609.954,1154.06 625.678,1143.81 641.401,1133.6 657.125,1123.45 672.848,1113.34 688.572,1103.27 704.295,1093.25 720.019,1083.28 735.743,1073.34 751.466,1063.45 767.19,1053.59 782.913,1043.77 798.637,1033.98 814.361,1024.23 830.084,1014.51 845.808,1004.82 861.531,995.154 877.255,985.521 892.978,975.914 908.702,966.333 924.426,956.775 940.149,947.24 955.873,937.725 971.596,928.231 987.32,918.755 1003.04,909.296 1018.77,899.853 1034.49,890.424 1050.21,881.009 1065.94,871.606 1081.66,862.213 1097.39,852.831 1113.11,843.457 1128.83,834.089 1144.56,824.728 1160.28,815.372 1176,806.019 1191.73,796.669 1207.45,787.32 1223.17,777.972 1238.9,768.622 1254.62,759.27 1270.34,749.915 1286.07,740.556 1301.79,731.191 1317.52,721.82 1333.24,712.441 1348.96,703.054 1364.69,693.656 1380.41,684.248 1396.13,674.828 1411.86,665.395 1427.58,655.948 1443.3,646.486 1459.03,637.008 1474.75,627.512 1490.47,617.999 1506.2,608.467 1521.92,598.914 1537.65,589.34 1553.37,579.744 1569.09,570.125 1584.82,560.482 1600.54,550.813 1616.26,541.119 1631.99,531.397 1647.71,521.648 1663.43,511.869 1679.16,502.06 1694.88,492.221 1710.6,482.349 1726.33,472.445 1742.05,462.507 1757.78,452.534 1773.5,442.526 1789.22,432.48 1804.95,422.398 1820.67,412.276 1836.39,402.116 1852.12,391.915 1867.84,381.673 1883.56,371.388 1899.29,361.061 1915.01,350.689 1930.73,340.272 1946.46,329.81 1962.18,319.301 1977.91,308.744 1993.63,298.138 2009.35,287.483 2025.08,276.777 2040.8,266.02 2056.52,255.211 2072.25,244.349 2087.97,233.433 2103.69,222.461 2119.42,211.434 2135.14,200.35 2150.87,189.208 2166.59,178.007 2182.31,166.748 2198.04,155.427 2213.76,144.046 2229.48,132.602 2245.21,121.095 2260.93,109.524 2276.65,97.8876 2292.38,86.1857 \"/>\n",
       "<polyline clip-path=\"url(#clip782)\" style=\"stroke:#e26f46; stroke-linecap:round; stroke-linejoin:round; stroke-width:4; stroke-opacity:1; fill:none\" points=\"279.759,1384.24 311.206,1360.86 342.653,1337.84 374.1,1315.15 405.547,1292.78 436.995,1270.71 468.442,1248.93 499.889,1227.42 531.336,1206.16 562.783,1185.15 594.23,1164.37 625.678,1143.81 657.125,1123.45 688.572,1103.28 720.019,1083.28 751.466,1063.45 782.913,1043.77 814.361,1024.23 845.808,1004.82 877.255,985.524 908.702,966.336 940.149,947.243 971.596,928.234 1003.04,909.299 1034.49,890.428 1065.94,871.61 1097.39,852.835 1128.83,834.093 1160.28,815.376 1191.73,796.673 1223.17,777.976 1254.62,759.275 1286.07,740.56 1317.52,721.824 1348.96,703.058 1380.41,684.252 1411.86,665.399 1443.3,646.49 1474.75,627.517 1506.2,608.471 1537.65,589.344 1569.09,570.129 1600.54,550.817 1631.99,531.401 1663.43,511.873 1694.88,492.224 1726.33,472.449 1757.78,452.538 1789.22,432.484 1820.67,412.28 1852.12,391.918 1883.56,371.391 1915.01,350.692 1946.46,329.813 1977.91,308.746 2009.35,287.485 2040.8,266.023 2072.25,244.351 2103.69,222.463 2135.14,200.351 2166.59,178.009 2198.04,155.428 2229.48,132.602 2260.93,109.524 2292.38,86.1857 \"/>\n",
       "<polyline clip-path=\"url(#clip782)\" style=\"stroke:#3da44d; stroke-linecap:round; stroke-linejoin:round; stroke-width:4; stroke-opacity:1; fill:none\" points=\"279.759,1384.24 405.547,1292.79 531.336,1206.2 657.125,1123.49 782.913,1043.83 908.702,966.403 1034.49,890.502 1160.28,815.456 1286.07,740.644 1411.86,665.483 1537.65,589.426 1663.43,511.95 1789.22,432.553 1915.01,350.749 2040.8,266.065 2166.59,178.032 2292.38,86.1857 \"/>\n",
       "<path clip-path=\"url(#clip780)\" d=\"M290.493 300.469 L686.676 300.469 L686.676 93.1086 L290.493 93.1086  Z\" fill=\"#ffffff\" fill-rule=\"evenodd\" fill-opacity=\"1\"/>\n",
       "<polyline clip-path=\"url(#clip780)\" style=\"stroke:#000000; stroke-linecap:round; stroke-linejoin:round; stroke-width:4; stroke-opacity:1; fill:none\" points=\"290.493,300.469 686.676,300.469 686.676,93.1086 290.493,93.1086 290.493,300.469 \"/>\n",
       "<polyline clip-path=\"url(#clip780)\" style=\"stroke:#009af9; stroke-linecap:round; stroke-linejoin:round; stroke-width:4; stroke-opacity:1; fill:none\" points=\"314.197,144.949 456.422,144.949 \"/>\n",
       "<path clip-path=\"url(#clip780)\" d=\"M501.839 146.581 L501.839 162.229 L497.58 162.229 L497.58 146.719 Q497.58 143.039 496.145 141.21 Q494.709 139.382 491.839 139.382 Q488.39 139.382 486.399 141.581 Q484.408 143.78 484.408 147.576 L484.408 162.229 L480.126 162.229 L480.126 136.303 L484.408 136.303 L484.408 140.331 Q485.936 137.993 487.996 136.835 Q490.08 135.678 492.788 135.678 Q497.256 135.678 499.547 138.456 Q501.839 141.21 501.839 146.581 Z\" fill=\"#000000\" fill-rule=\"nonzero\" fill-opacity=\"1\" /><path clip-path=\"url(#clip780)\" d=\"M525.959 140.701 L555.635 140.701 L555.635 144.59 L525.959 144.59 L525.959 140.701 M525.959 150.145 L555.635 150.145 L555.635 154.081 L525.959 154.081 L525.959 150.145 Z\" fill=\"#000000\" fill-rule=\"nonzero\" fill-opacity=\"1\" /><path clip-path=\"url(#clip780)\" d=\"M581.607 158.293 L589.246 158.293 L589.246 131.928 L580.936 133.595 L580.936 129.335 L589.2 127.669 L593.875 127.669 L593.875 158.293 L601.514 158.293 L601.514 162.229 L581.607 162.229 L581.607 158.293 Z\" fill=\"#000000\" fill-rule=\"nonzero\" fill-opacity=\"1\" /><path clip-path=\"url(#clip780)\" d=\"M614.986 158.293 L631.306 158.293 L631.306 162.229 L609.362 162.229 L609.362 158.293 Q612.024 155.539 616.607 150.909 Q621.213 146.256 622.394 144.914 Q624.639 142.391 625.519 140.655 Q626.422 138.895 626.422 137.206 Q626.422 134.451 624.477 132.715 Q622.556 130.979 619.454 130.979 Q617.255 130.979 614.801 131.743 Q612.371 132.507 609.593 134.057 L609.593 129.335 Q612.417 128.201 614.871 127.622 Q617.324 127.044 619.361 127.044 Q624.732 127.044 627.926 129.729 Q631.121 132.414 631.121 136.905 Q631.121 139.034 630.31 140.956 Q629.523 142.854 627.417 145.446 Q626.838 146.118 623.736 149.335 Q620.635 152.53 614.986 158.293 Z\" fill=\"#000000\" fill-rule=\"nonzero\" fill-opacity=\"1\" /><path clip-path=\"url(#clip780)\" d=\"M651.121 145.817 Q647.787 145.817 645.866 147.599 Q643.968 149.381 643.968 152.506 Q643.968 155.631 645.866 157.414 Q647.787 159.196 651.121 159.196 Q654.454 159.196 656.375 157.414 Q658.296 155.608 658.296 152.506 Q658.296 149.381 656.375 147.599 Q654.477 145.817 651.121 145.817 M646.445 143.826 Q643.435 143.085 641.746 141.025 Q640.079 138.965 640.079 136.002 Q640.079 131.858 643.019 129.451 Q645.982 127.044 651.121 127.044 Q656.283 127.044 659.222 129.451 Q662.162 131.858 662.162 136.002 Q662.162 138.965 660.472 141.025 Q658.806 143.085 655.82 143.826 Q659.199 144.613 661.074 146.905 Q662.972 149.196 662.972 152.506 Q662.972 157.53 659.894 160.215 Q656.838 162.9 651.121 162.9 Q645.403 162.9 642.324 160.215 Q639.269 157.53 639.269 152.506 Q639.269 149.196 641.167 146.905 Q643.065 144.613 646.445 143.826 M644.732 136.442 Q644.732 139.127 646.398 140.632 Q648.088 142.136 651.121 142.136 Q654.13 142.136 655.82 140.632 Q657.533 139.127 657.533 136.442 Q657.533 133.757 655.82 132.252 Q654.13 130.747 651.121 130.747 Q648.088 130.747 646.398 132.252 Q644.732 133.757 644.732 136.442 Z\" fill=\"#000000\" fill-rule=\"nonzero\" fill-opacity=\"1\" /><polyline clip-path=\"url(#clip780)\" style=\"stroke:#e26f46; stroke-linecap:round; stroke-linejoin:round; stroke-width:4; stroke-opacity:1; fill:none\" points=\"314.197,196.789 456.422,196.789 \"/>\n",
       "<path clip-path=\"url(#clip780)\" d=\"M501.839 198.421 L501.839 214.069 L497.58 214.069 L497.58 198.559 Q497.58 194.879 496.145 193.05 Q494.709 191.222 491.839 191.222 Q488.39 191.222 486.399 193.421 Q484.408 195.62 484.408 199.416 L484.408 214.069 L480.126 214.069 L480.126 188.143 L484.408 188.143 L484.408 192.171 Q485.936 189.833 487.996 188.675 Q490.08 187.518 492.788 187.518 Q497.256 187.518 499.547 190.296 Q501.839 193.05 501.839 198.421 Z\" fill=\"#000000\" fill-rule=\"nonzero\" fill-opacity=\"1\" /><path clip-path=\"url(#clip780)\" d=\"M525.959 192.541 L555.635 192.541 L555.635 196.43 L525.959 196.43 L525.959 192.541 M525.959 201.985 L555.635 201.985 L555.635 205.921 L525.959 205.921 L525.959 201.985 Z\" fill=\"#000000\" fill-rule=\"nonzero\" fill-opacity=\"1\" /><path clip-path=\"url(#clip780)\" d=\"M591.375 194.925 Q588.227 194.925 586.376 197.078 Q584.547 199.231 584.547 202.981 Q584.547 206.708 586.376 208.883 Q588.227 211.036 591.375 211.036 Q594.524 211.036 596.352 208.883 Q598.204 206.708 598.204 202.981 Q598.204 199.231 596.352 197.078 Q594.524 194.925 591.375 194.925 M600.658 180.273 L600.658 184.532 Q598.899 183.698 597.093 183.259 Q595.311 182.819 593.551 182.819 Q588.922 182.819 586.468 185.944 Q584.038 189.069 583.69 195.388 Q585.056 193.374 587.116 192.309 Q589.176 191.222 591.653 191.222 Q596.862 191.222 599.871 194.393 Q602.903 197.541 602.903 202.981 Q602.903 208.305 599.755 211.522 Q596.607 214.74 591.375 214.74 Q585.38 214.74 582.209 210.157 Q579.038 205.55 579.038 196.823 Q579.038 188.629 582.926 183.768 Q586.815 178.884 593.366 178.884 Q595.125 178.884 596.908 179.231 Q598.713 179.578 600.658 180.273 Z\" fill=\"#000000\" fill-rule=\"nonzero\" fill-opacity=\"1\" /><path clip-path=\"url(#clip780)\" d=\"M623.806 183.583 L612 202.032 L623.806 202.032 L623.806 183.583 M622.579 179.509 L628.459 179.509 L628.459 202.032 L633.389 202.032 L633.389 205.921 L628.459 205.921 L628.459 214.069 L623.806 214.069 L623.806 205.921 L608.204 205.921 L608.204 201.407 L622.579 179.509 Z\" fill=\"#000000\" fill-rule=\"nonzero\" fill-opacity=\"1\" /><polyline clip-path=\"url(#clip780)\" style=\"stroke:#3da44d; stroke-linecap:round; stroke-linejoin:round; stroke-width:4; stroke-opacity:1; fill:none\" points=\"314.197,248.629 456.422,248.629 \"/>\n",
       "<path clip-path=\"url(#clip780)\" d=\"M501.839 250.261 L501.839 265.909 L497.58 265.909 L497.58 250.399 Q497.58 246.719 496.145 244.89 Q494.709 243.062 491.839 243.062 Q488.39 243.062 486.399 245.261 Q484.408 247.46 484.408 251.256 L484.408 265.909 L480.126 265.909 L480.126 239.983 L484.408 239.983 L484.408 244.011 Q485.936 241.673 487.996 240.515 Q490.08 239.358 492.788 239.358 Q497.256 239.358 499.547 242.136 Q501.839 244.89 501.839 250.261 Z\" fill=\"#000000\" fill-rule=\"nonzero\" fill-opacity=\"1\" /><path clip-path=\"url(#clip780)\" d=\"M525.959 244.381 L555.635 244.381 L555.635 248.27 L525.959 248.27 L525.959 244.381 M525.959 253.825 L555.635 253.825 L555.635 257.761 L525.959 257.761 L525.959 253.825 Z\" fill=\"#000000\" fill-rule=\"nonzero\" fill-opacity=\"1\" /><path clip-path=\"url(#clip780)\" d=\"M581.607 261.973 L589.246 261.973 L589.246 235.608 L580.936 237.275 L580.936 233.015 L589.2 231.349 L593.875 231.349 L593.875 261.973 L601.514 261.973 L601.514 265.909 L581.607 265.909 L581.607 261.973 Z\" fill=\"#000000\" fill-rule=\"nonzero\" fill-opacity=\"1\" /><path clip-path=\"url(#clip780)\" d=\"M621.537 246.765 Q618.389 246.765 616.537 248.918 Q614.709 251.071 614.709 254.821 Q614.709 258.548 616.537 260.723 Q618.389 262.876 621.537 262.876 Q624.685 262.876 626.514 260.723 Q628.366 258.548 628.366 254.821 Q628.366 251.071 626.514 248.918 Q624.685 246.765 621.537 246.765 M630.82 232.113 L630.82 236.372 Q629.06 235.538 627.255 235.099 Q625.473 234.659 623.713 234.659 Q619.084 234.659 616.63 237.784 Q614.199 240.909 613.852 247.228 Q615.218 245.214 617.278 244.149 Q619.338 243.062 621.815 243.062 Q627.023 243.062 630.033 246.233 Q633.065 249.381 633.065 254.821 Q633.065 260.145 629.917 263.362 Q626.769 266.58 621.537 266.58 Q615.542 266.58 612.371 261.997 Q609.199 257.39 609.199 248.663 Q609.199 240.469 613.088 235.608 Q616.977 230.724 623.528 230.724 Q625.287 230.724 627.07 231.071 Q628.875 231.418 630.82 232.113 Z\" fill=\"#000000\" fill-rule=\"nonzero\" fill-opacity=\"1\" /></svg>\n"
      ],
      "text/html": [
       "<?xml version=\"1.0\" encoding=\"utf-8\"?>\n",
       "<svg xmlns=\"http://www.w3.org/2000/svg\" xmlns:xlink=\"http://www.w3.org/1999/xlink\" width=\"600\" height=\"400\" viewBox=\"0 0 2400 1600\">\n",
       "<defs>\n",
       "  <clipPath id=\"clip830\">\n",
       "    <rect x=\"0\" y=\"0\" width=\"2400\" height=\"1600\"/>\n",
       "  </clipPath>\n",
       "</defs>\n",
       "<path clip-path=\"url(#clip830)\" d=\"M0 1600 L2400 1600 L2400 0 L0 0  Z\" fill=\"#ffffff\" fill-rule=\"evenodd\" fill-opacity=\"1\"/>\n",
       "<defs>\n",
       "  <clipPath id=\"clip831\">\n",
       "    <rect x=\"480\" y=\"0\" width=\"1681\" height=\"1600\"/>\n",
       "  </clipPath>\n",
       "</defs>\n",
       "<path clip-path=\"url(#clip830)\" d=\"M219.38 1423.18 L2352.76 1423.18 L2352.76 47.2441 L219.38 47.2441  Z\" fill=\"#ffffff\" fill-rule=\"evenodd\" fill-opacity=\"1\"/>\n",
       "<defs>\n",
       "  <clipPath id=\"clip832\">\n",
       "    <rect x=\"219\" y=\"47\" width=\"2134\" height=\"1377\"/>\n",
       "  </clipPath>\n",
       "</defs>\n",
       "<polyline clip-path=\"url(#clip832)\" style=\"stroke:#000000; stroke-linecap:round; stroke-linejoin:round; stroke-width:2; stroke-opacity:0.1; fill:none\" points=\"279.759,1423.18 279.759,47.2441 \"/>\n",
       "<polyline clip-path=\"url(#clip832)\" style=\"stroke:#000000; stroke-linecap:round; stroke-linejoin:round; stroke-width:2; stroke-opacity:0.1; fill:none\" points=\"782.913,1423.18 782.913,47.2441 \"/>\n",
       "<polyline clip-path=\"url(#clip832)\" style=\"stroke:#000000; stroke-linecap:round; stroke-linejoin:round; stroke-width:2; stroke-opacity:0.1; fill:none\" points=\"1286.07,1423.18 1286.07,47.2441 \"/>\n",
       "<polyline clip-path=\"url(#clip832)\" style=\"stroke:#000000; stroke-linecap:round; stroke-linejoin:round; stroke-width:2; stroke-opacity:0.1; fill:none\" points=\"1789.22,1423.18 1789.22,47.2441 \"/>\n",
       "<polyline clip-path=\"url(#clip832)\" style=\"stroke:#000000; stroke-linecap:round; stroke-linejoin:round; stroke-width:2; stroke-opacity:0.1; fill:none\" points=\"2292.38,1423.18 2292.38,47.2441 \"/>\n",
       "<polyline clip-path=\"url(#clip830)\" style=\"stroke:#000000; stroke-linecap:round; stroke-linejoin:round; stroke-width:4; stroke-opacity:1; fill:none\" points=\"219.38,1423.18 2352.76,1423.18 \"/>\n",
       "<polyline clip-path=\"url(#clip830)\" style=\"stroke:#000000; stroke-linecap:round; stroke-linejoin:round; stroke-width:4; stroke-opacity:1; fill:none\" points=\"279.759,1423.18 279.759,1404.28 \"/>\n",
       "<polyline clip-path=\"url(#clip830)\" style=\"stroke:#000000; stroke-linecap:round; stroke-linejoin:round; stroke-width:4; stroke-opacity:1; fill:none\" points=\"782.913,1423.18 782.913,1404.28 \"/>\n",
       "<polyline clip-path=\"url(#clip830)\" style=\"stroke:#000000; stroke-linecap:round; stroke-linejoin:round; stroke-width:4; stroke-opacity:1; fill:none\" points=\"1286.07,1423.18 1286.07,1404.28 \"/>\n",
       "<polyline clip-path=\"url(#clip830)\" style=\"stroke:#000000; stroke-linecap:round; stroke-linejoin:round; stroke-width:4; stroke-opacity:1; fill:none\" points=\"1789.22,1423.18 1789.22,1404.28 \"/>\n",
       "<polyline clip-path=\"url(#clip830)\" style=\"stroke:#000000; stroke-linecap:round; stroke-linejoin:round; stroke-width:4; stroke-opacity:1; fill:none\" points=\"2292.38,1423.18 2292.38,1404.28 \"/>\n",
       "<path clip-path=\"url(#clip830)\" d=\"M242.062 1454.1 Q238.451 1454.1 236.622 1457.66 Q234.817 1461.2 234.817 1468.33 Q234.817 1475.44 236.622 1479.01 Q238.451 1482.55 242.062 1482.55 Q245.696 1482.55 247.502 1479.01 Q249.331 1475.44 249.331 1468.33 Q249.331 1461.2 247.502 1457.66 Q245.696 1454.1 242.062 1454.1 M242.062 1450.39 Q247.872 1450.39 250.928 1455 Q254.007 1459.58 254.007 1468.33 Q254.007 1477.06 250.928 1481.67 Q247.872 1486.25 242.062 1486.25 Q236.252 1486.25 233.173 1481.67 Q230.118 1477.06 230.118 1468.33 Q230.118 1459.58 233.173 1455 Q236.252 1450.39 242.062 1450.39 Z\" fill=\"#000000\" fill-rule=\"nonzero\" fill-opacity=\"1\" /><path clip-path=\"url(#clip830)\" d=\"M262.224 1479.7 L267.108 1479.7 L267.108 1485.58 L262.224 1485.58 L262.224 1479.7 Z\" fill=\"#000000\" fill-rule=\"nonzero\" fill-opacity=\"1\" /><path clip-path=\"url(#clip830)\" d=\"M287.293 1454.1 Q283.682 1454.1 281.854 1457.66 Q280.048 1461.2 280.048 1468.33 Q280.048 1475.44 281.854 1479.01 Q283.682 1482.55 287.293 1482.55 Q290.928 1482.55 292.733 1479.01 Q294.562 1475.44 294.562 1468.33 Q294.562 1461.2 292.733 1457.66 Q290.928 1454.1 287.293 1454.1 M287.293 1450.39 Q293.104 1450.39 296.159 1455 Q299.238 1459.58 299.238 1468.33 Q299.238 1477.06 296.159 1481.67 Q293.104 1486.25 287.293 1486.25 Q281.483 1486.25 278.405 1481.67 Q275.349 1477.06 275.349 1468.33 Q275.349 1459.58 278.405 1455 Q281.483 1450.39 287.293 1450.39 Z\" fill=\"#000000\" fill-rule=\"nonzero\" fill-opacity=\"1\" /><path clip-path=\"url(#clip830)\" d=\"M317.455 1454.1 Q313.844 1454.1 312.015 1457.66 Q310.21 1461.2 310.21 1468.33 Q310.21 1475.44 312.015 1479.01 Q313.844 1482.55 317.455 1482.55 Q321.09 1482.55 322.895 1479.01 Q324.724 1475.44 324.724 1468.33 Q324.724 1461.2 322.895 1457.66 Q321.09 1454.1 317.455 1454.1 M317.455 1450.39 Q323.265 1450.39 326.321 1455 Q329.4 1459.58 329.4 1468.33 Q329.4 1477.06 326.321 1481.67 Q323.265 1486.25 317.455 1486.25 Q311.645 1486.25 308.566 1481.67 Q305.511 1477.06 305.511 1468.33 Q305.511 1459.58 308.566 1455 Q311.645 1450.39 317.455 1450.39 Z\" fill=\"#000000\" fill-rule=\"nonzero\" fill-opacity=\"1\" /><path clip-path=\"url(#clip830)\" d=\"M745.714 1454.1 Q742.103 1454.1 740.275 1457.66 Q738.469 1461.2 738.469 1468.33 Q738.469 1475.44 740.275 1479.01 Q742.103 1482.55 745.714 1482.55 Q749.349 1482.55 751.154 1479.01 Q752.983 1475.44 752.983 1468.33 Q752.983 1461.2 751.154 1457.66 Q749.349 1454.1 745.714 1454.1 M745.714 1450.39 Q751.525 1450.39 754.58 1455 Q757.659 1459.58 757.659 1468.33 Q757.659 1477.06 754.58 1481.67 Q751.525 1486.25 745.714 1486.25 Q739.904 1486.25 736.826 1481.67 Q733.77 1477.06 733.77 1468.33 Q733.77 1459.58 736.826 1455 Q739.904 1450.39 745.714 1450.39 Z\" fill=\"#000000\" fill-rule=\"nonzero\" fill-opacity=\"1\" /><path clip-path=\"url(#clip830)\" d=\"M765.876 1479.7 L770.761 1479.7 L770.761 1485.58 L765.876 1485.58 L765.876 1479.7 Z\" fill=\"#000000\" fill-rule=\"nonzero\" fill-opacity=\"1\" /><path clip-path=\"url(#clip830)\" d=\"M784.974 1481.64 L801.293 1481.64 L801.293 1485.58 L779.349 1485.58 L779.349 1481.64 Q782.011 1478.89 786.594 1474.26 Q791.2 1469.61 792.381 1468.27 Q794.626 1465.74 795.506 1464.01 Q796.409 1462.25 796.409 1460.56 Q796.409 1457.8 794.464 1456.07 Q792.543 1454.33 789.441 1454.33 Q787.242 1454.33 784.788 1455.09 Q782.358 1455.86 779.58 1457.41 L779.58 1452.69 Q782.404 1451.55 784.858 1450.97 Q787.311 1450.39 789.349 1450.39 Q794.719 1450.39 797.913 1453.08 Q801.108 1455.77 801.108 1460.26 Q801.108 1462.39 800.298 1464.31 Q799.511 1466.2 797.404 1468.8 Q796.825 1469.47 793.724 1472.69 Q790.622 1475.88 784.974 1481.64 Z\" fill=\"#000000\" fill-rule=\"nonzero\" fill-opacity=\"1\" /><path clip-path=\"url(#clip830)\" d=\"M811.154 1451.02 L829.51 1451.02 L829.51 1454.96 L815.436 1454.96 L815.436 1463.43 Q816.455 1463.08 817.473 1462.92 Q818.492 1462.73 819.51 1462.73 Q825.297 1462.73 828.677 1465.9 Q832.057 1469.08 832.057 1474.49 Q832.057 1480.07 828.584 1483.17 Q825.112 1486.25 818.793 1486.25 Q816.617 1486.25 814.348 1485.88 Q812.103 1485.51 809.696 1484.77 L809.696 1480.07 Q811.779 1481.2 814.001 1481.76 Q816.223 1482.32 818.7 1482.32 Q822.705 1482.32 825.043 1480.21 Q827.381 1478.1 827.381 1474.49 Q827.381 1470.88 825.043 1468.77 Q822.705 1466.67 818.7 1466.67 Q816.825 1466.67 814.95 1467.08 Q813.098 1467.5 811.154 1468.38 L811.154 1451.02 Z\" fill=\"#000000\" fill-rule=\"nonzero\" fill-opacity=\"1\" /><path clip-path=\"url(#clip830)\" d=\"M1248.37 1454.1 Q1244.76 1454.1 1242.93 1457.66 Q1241.13 1461.2 1241.13 1468.33 Q1241.13 1475.44 1242.93 1479.01 Q1244.76 1482.55 1248.37 1482.55 Q1252.01 1482.55 1253.81 1479.01 Q1255.64 1475.44 1255.64 1468.33 Q1255.64 1461.2 1253.81 1457.66 Q1252.01 1454.1 1248.37 1454.1 M1248.37 1450.39 Q1254.18 1450.39 1257.24 1455 Q1260.32 1459.58 1260.32 1468.33 Q1260.32 1477.06 1257.24 1481.67 Q1254.18 1486.25 1248.37 1486.25 Q1242.56 1486.25 1239.48 1481.67 Q1236.43 1477.06 1236.43 1468.33 Q1236.43 1459.58 1239.48 1455 Q1242.56 1450.39 1248.37 1450.39 Z\" fill=\"#000000\" fill-rule=\"nonzero\" fill-opacity=\"1\" /><path clip-path=\"url(#clip830)\" d=\"M1268.53 1479.7 L1273.42 1479.7 L1273.42 1485.58 L1268.53 1485.58 L1268.53 1479.7 Z\" fill=\"#000000\" fill-rule=\"nonzero\" fill-opacity=\"1\" /><path clip-path=\"url(#clip830)\" d=\"M1283.65 1451.02 L1302.01 1451.02 L1302.01 1454.96 L1287.93 1454.96 L1287.93 1463.43 Q1288.95 1463.08 1289.97 1462.92 Q1290.99 1462.73 1292.01 1462.73 Q1297.79 1462.73 1301.17 1465.9 Q1304.55 1469.08 1304.55 1474.49 Q1304.55 1480.07 1301.08 1483.17 Q1297.61 1486.25 1291.29 1486.25 Q1289.11 1486.25 1286.84 1485.88 Q1284.6 1485.51 1282.19 1484.77 L1282.19 1480.07 Q1284.27 1481.2 1286.5 1481.76 Q1288.72 1482.32 1291.2 1482.32 Q1295.2 1482.32 1297.54 1480.21 Q1299.88 1478.1 1299.88 1474.49 Q1299.88 1470.88 1297.54 1468.77 Q1295.2 1466.67 1291.2 1466.67 Q1289.32 1466.67 1287.45 1467.08 Q1285.59 1467.5 1283.65 1468.38 L1283.65 1451.02 Z\" fill=\"#000000\" fill-rule=\"nonzero\" fill-opacity=\"1\" /><path clip-path=\"url(#clip830)\" d=\"M1323.76 1454.1 Q1320.15 1454.1 1318.32 1457.66 Q1316.52 1461.2 1316.52 1468.33 Q1316.52 1475.44 1318.32 1479.01 Q1320.15 1482.55 1323.76 1482.55 Q1327.4 1482.55 1329.2 1479.01 Q1331.03 1475.44 1331.03 1468.33 Q1331.03 1461.2 1329.2 1457.66 Q1327.4 1454.1 1323.76 1454.1 M1323.76 1450.39 Q1329.57 1450.39 1332.63 1455 Q1335.71 1459.58 1335.71 1468.33 Q1335.71 1477.06 1332.63 1481.67 Q1329.57 1486.25 1323.76 1486.25 Q1317.95 1486.25 1314.88 1481.67 Q1311.82 1477.06 1311.82 1468.33 Q1311.82 1459.58 1314.88 1455 Q1317.95 1450.39 1323.76 1450.39 Z\" fill=\"#000000\" fill-rule=\"nonzero\" fill-opacity=\"1\" /><path clip-path=\"url(#clip830)\" d=\"M1752.02 1454.1 Q1748.41 1454.1 1746.58 1457.66 Q1744.78 1461.2 1744.78 1468.33 Q1744.78 1475.44 1746.58 1479.01 Q1748.41 1482.55 1752.02 1482.55 Q1755.66 1482.55 1757.46 1479.01 Q1759.29 1475.44 1759.29 1468.33 Q1759.29 1461.2 1757.46 1457.66 Q1755.66 1454.1 1752.02 1454.1 M1752.02 1450.39 Q1757.83 1450.39 1760.89 1455 Q1763.97 1459.58 1763.97 1468.33 Q1763.97 1477.06 1760.89 1481.67 Q1757.83 1486.25 1752.02 1486.25 Q1746.21 1486.25 1743.13 1481.67 Q1740.08 1477.06 1740.08 1468.33 Q1740.08 1459.58 1743.13 1455 Q1746.21 1450.39 1752.02 1450.39 Z\" fill=\"#000000\" fill-rule=\"nonzero\" fill-opacity=\"1\" /><path clip-path=\"url(#clip830)\" d=\"M1772.19 1479.7 L1777.07 1479.7 L1777.07 1485.58 L1772.19 1485.58 L1772.19 1479.7 Z\" fill=\"#000000\" fill-rule=\"nonzero\" fill-opacity=\"1\" /><path clip-path=\"url(#clip830)\" d=\"M1786.07 1451.02 L1808.3 1451.02 L1808.3 1453.01 L1795.75 1485.58 L1790.87 1485.58 L1802.67 1454.96 L1786.07 1454.96 L1786.07 1451.02 Z\" fill=\"#000000\" fill-rule=\"nonzero\" fill-opacity=\"1\" /><path clip-path=\"url(#clip830)\" d=\"M1817.46 1451.02 L1835.82 1451.02 L1835.82 1454.96 L1821.75 1454.96 L1821.75 1463.43 Q1822.76 1463.08 1823.78 1462.92 Q1824.8 1462.73 1825.82 1462.73 Q1831.61 1462.73 1834.99 1465.9 Q1838.37 1469.08 1838.37 1474.49 Q1838.37 1480.07 1834.89 1483.17 Q1831.42 1486.25 1825.1 1486.25 Q1822.93 1486.25 1820.66 1485.88 Q1818.41 1485.51 1816 1484.77 L1816 1480.07 Q1818.09 1481.2 1820.31 1481.76 Q1822.53 1482.32 1825.01 1482.32 Q1829.01 1482.32 1831.35 1480.21 Q1833.69 1478.1 1833.69 1474.49 Q1833.69 1470.88 1831.35 1468.77 Q1829.01 1466.67 1825.01 1466.67 Q1823.13 1466.67 1821.26 1467.08 Q1819.41 1467.5 1817.46 1468.38 L1817.46 1451.02 Z\" fill=\"#000000\" fill-rule=\"nonzero\" fill-opacity=\"1\" /><path clip-path=\"url(#clip830)\" d=\"M2244.45 1481.64 L2252.09 1481.64 L2252.09 1455.28 L2243.78 1456.95 L2243.78 1452.69 L2252.04 1451.02 L2256.72 1451.02 L2256.72 1481.64 L2264.36 1481.64 L2264.36 1485.58 L2244.45 1485.58 L2244.45 1481.64 Z\" fill=\"#000000\" fill-rule=\"nonzero\" fill-opacity=\"1\" /><path clip-path=\"url(#clip830)\" d=\"M2273.8 1479.7 L2278.69 1479.7 L2278.69 1485.58 L2273.8 1485.58 L2273.8 1479.7 Z\" fill=\"#000000\" fill-rule=\"nonzero\" fill-opacity=\"1\" /><path clip-path=\"url(#clip830)\" d=\"M2298.87 1454.1 Q2295.26 1454.1 2293.43 1457.66 Q2291.63 1461.2 2291.63 1468.33 Q2291.63 1475.44 2293.43 1479.01 Q2295.26 1482.55 2298.87 1482.55 Q2302.5 1482.55 2304.31 1479.01 Q2306.14 1475.44 2306.14 1468.33 Q2306.14 1461.2 2304.31 1457.66 Q2302.5 1454.1 2298.87 1454.1 M2298.87 1450.39 Q2304.68 1450.39 2307.74 1455 Q2310.81 1459.58 2310.81 1468.33 Q2310.81 1477.06 2307.74 1481.67 Q2304.68 1486.25 2298.87 1486.25 Q2293.06 1486.25 2289.98 1481.67 Q2286.93 1477.06 2286.93 1468.33 Q2286.93 1459.58 2289.98 1455 Q2293.06 1450.39 2298.87 1450.39 Z\" fill=\"#000000\" fill-rule=\"nonzero\" fill-opacity=\"1\" /><path clip-path=\"url(#clip830)\" d=\"M2329.03 1454.1 Q2325.42 1454.1 2323.59 1457.66 Q2321.79 1461.2 2321.79 1468.33 Q2321.79 1475.44 2323.59 1479.01 Q2325.42 1482.55 2329.03 1482.55 Q2332.67 1482.55 2334.47 1479.01 Q2336.3 1475.44 2336.3 1468.33 Q2336.3 1461.2 2334.47 1457.66 Q2332.67 1454.1 2329.03 1454.1 M2329.03 1450.39 Q2334.84 1450.39 2337.9 1455 Q2340.98 1459.58 2340.98 1468.33 Q2340.98 1477.06 2337.9 1481.67 Q2334.84 1486.25 2329.03 1486.25 Q2323.22 1486.25 2320.14 1481.67 Q2317.09 1477.06 2317.09 1468.33 Q2317.09 1459.58 2320.14 1455 Q2323.22 1450.39 2329.03 1450.39 Z\" fill=\"#000000\" fill-rule=\"nonzero\" fill-opacity=\"1\" /><path clip-path=\"url(#clip830)\" d=\"M1285.13 1522.27 L1285.13 1532.4 L1297.19 1532.4 L1297.19 1536.95 L1285.13 1536.95 L1285.13 1556.3 Q1285.13 1560.66 1286.31 1561.9 Q1287.52 1563.14 1291.18 1563.14 L1297.19 1563.14 L1297.19 1568.04 L1291.18 1568.04 Q1284.4 1568.04 1281.82 1565.53 Q1279.24 1562.98 1279.24 1556.3 L1279.24 1536.95 L1274.94 1536.95 L1274.94 1532.4 L1279.24 1532.4 L1279.24 1522.27 L1285.13 1522.27 Z\" fill=\"#000000\" fill-rule=\"nonzero\" fill-opacity=\"1\" /><polyline clip-path=\"url(#clip832)\" style=\"stroke:#000000; stroke-linecap:round; stroke-linejoin:round; stroke-width:2; stroke-opacity:0.1; fill:none\" points=\"219.38,1384.24 2352.76,1384.24 \"/>\n",
       "<polyline clip-path=\"url(#clip832)\" style=\"stroke:#000000; stroke-linecap:round; stroke-linejoin:round; stroke-width:2; stroke-opacity:0.1; fill:none\" points=\"219.38,1132.96 2352.76,1132.96 \"/>\n",
       "<polyline clip-path=\"url(#clip832)\" style=\"stroke:#000000; stroke-linecap:round; stroke-linejoin:round; stroke-width:2; stroke-opacity:0.1; fill:none\" points=\"219.38,881.691 2352.76,881.691 \"/>\n",
       "<polyline clip-path=\"url(#clip832)\" style=\"stroke:#000000; stroke-linecap:round; stroke-linejoin:round; stroke-width:2; stroke-opacity:0.1; fill:none\" points=\"219.38,630.417 2352.76,630.417 \"/>\n",
       "<polyline clip-path=\"url(#clip832)\" style=\"stroke:#000000; stroke-linecap:round; stroke-linejoin:round; stroke-width:2; stroke-opacity:0.1; fill:none\" points=\"219.38,379.144 2352.76,379.144 \"/>\n",
       "<polyline clip-path=\"url(#clip832)\" style=\"stroke:#000000; stroke-linecap:round; stroke-linejoin:round; stroke-width:2; stroke-opacity:0.1; fill:none\" points=\"219.38,127.87 2352.76,127.87 \"/>\n",
       "<polyline clip-path=\"url(#clip830)\" style=\"stroke:#000000; stroke-linecap:round; stroke-linejoin:round; stroke-width:4; stroke-opacity:1; fill:none\" points=\"219.38,1423.18 219.38,47.2441 \"/>\n",
       "<polyline clip-path=\"url(#clip830)\" style=\"stroke:#000000; stroke-linecap:round; stroke-linejoin:round; stroke-width:4; stroke-opacity:1; fill:none\" points=\"219.38,1384.24 238.278,1384.24 \"/>\n",
       "<polyline clip-path=\"url(#clip830)\" style=\"stroke:#000000; stroke-linecap:round; stroke-linejoin:round; stroke-width:4; stroke-opacity:1; fill:none\" points=\"219.38,1132.96 238.278,1132.96 \"/>\n",
       "<polyline clip-path=\"url(#clip830)\" style=\"stroke:#000000; stroke-linecap:round; stroke-linejoin:round; stroke-width:4; stroke-opacity:1; fill:none\" points=\"219.38,881.691 238.278,881.691 \"/>\n",
       "<polyline clip-path=\"url(#clip830)\" style=\"stroke:#000000; stroke-linecap:round; stroke-linejoin:round; stroke-width:4; stroke-opacity:1; fill:none\" points=\"219.38,630.417 238.278,630.417 \"/>\n",
       "<polyline clip-path=\"url(#clip830)\" style=\"stroke:#000000; stroke-linecap:round; stroke-linejoin:round; stroke-width:4; stroke-opacity:1; fill:none\" points=\"219.38,379.144 238.278,379.144 \"/>\n",
       "<polyline clip-path=\"url(#clip830)\" style=\"stroke:#000000; stroke-linecap:round; stroke-linejoin:round; stroke-width:4; stroke-opacity:1; fill:none\" points=\"219.38,127.87 238.278,127.87 \"/>\n",
       "<path clip-path=\"url(#clip830)\" d=\"M126.205 1370.04 Q122.593 1370.04 120.765 1373.6 Q118.959 1377.14 118.959 1384.27 Q118.959 1391.38 120.765 1394.94 Q122.593 1398.49 126.205 1398.49 Q129.839 1398.49 131.644 1394.94 Q133.473 1391.38 133.473 1384.27 Q133.473 1377.14 131.644 1373.6 Q129.839 1370.04 126.205 1370.04 M126.205 1366.33 Q132.015 1366.33 135.07 1370.94 Q138.149 1375.52 138.149 1384.27 Q138.149 1393 135.07 1397.61 Q132.015 1402.19 126.205 1402.19 Q120.394 1402.19 117.316 1397.61 Q114.26 1393 114.26 1384.27 Q114.26 1375.52 117.316 1370.94 Q120.394 1366.33 126.205 1366.33 Z\" fill=\"#000000\" fill-rule=\"nonzero\" fill-opacity=\"1\" /><path clip-path=\"url(#clip830)\" d=\"M146.366 1395.64 L151.251 1395.64 L151.251 1401.52 L146.366 1401.52 L146.366 1395.64 Z\" fill=\"#000000\" fill-rule=\"nonzero\" fill-opacity=\"1\" /><path clip-path=\"url(#clip830)\" d=\"M171.436 1370.04 Q167.825 1370.04 165.996 1373.6 Q164.19 1377.14 164.19 1384.27 Q164.19 1391.38 165.996 1394.94 Q167.825 1398.49 171.436 1398.49 Q175.07 1398.49 176.876 1394.94 Q178.704 1391.38 178.704 1384.27 Q178.704 1377.14 176.876 1373.6 Q175.07 1370.04 171.436 1370.04 M171.436 1366.33 Q177.246 1366.33 180.301 1370.94 Q183.38 1375.52 183.38 1384.27 Q183.38 1393 180.301 1397.61 Q177.246 1402.19 171.436 1402.19 Q165.626 1402.19 162.547 1397.61 Q159.491 1393 159.491 1384.27 Q159.491 1375.52 162.547 1370.94 Q165.626 1366.33 171.436 1366.33 Z\" fill=\"#000000\" fill-rule=\"nonzero\" fill-opacity=\"1\" /><path clip-path=\"url(#clip830)\" d=\"M127.2 1118.76 Q123.589 1118.76 121.76 1122.33 Q119.955 1125.87 119.955 1133 Q119.955 1140.11 121.76 1143.67 Q123.589 1147.21 127.2 1147.21 Q130.834 1147.21 132.64 1143.67 Q134.468 1140.11 134.468 1133 Q134.468 1125.87 132.64 1122.33 Q130.834 1118.76 127.2 1118.76 M127.2 1115.06 Q133.01 1115.06 136.066 1119.67 Q139.144 1124.25 139.144 1133 Q139.144 1141.73 136.066 1146.33 Q133.01 1150.92 127.2 1150.92 Q121.39 1150.92 118.311 1146.33 Q115.256 1141.73 115.256 1133 Q115.256 1124.25 118.311 1119.67 Q121.39 1115.06 127.2 1115.06 Z\" fill=\"#000000\" fill-rule=\"nonzero\" fill-opacity=\"1\" /><path clip-path=\"url(#clip830)\" d=\"M147.362 1144.37 L152.246 1144.37 L152.246 1150.24 L147.362 1150.24 L147.362 1144.37 Z\" fill=\"#000000\" fill-rule=\"nonzero\" fill-opacity=\"1\" /><path clip-path=\"url(#clip830)\" d=\"M162.477 1115.68 L180.834 1115.68 L180.834 1119.62 L166.76 1119.62 L166.76 1128.09 Q167.778 1127.74 168.797 1127.58 Q169.815 1127.4 170.834 1127.4 Q176.621 1127.4 180.001 1130.57 Q183.38 1133.74 183.38 1139.16 Q183.38 1144.74 179.908 1147.84 Q176.436 1150.92 170.116 1150.92 Q167.94 1150.92 165.672 1150.55 Q163.427 1150.18 161.019 1149.43 L161.019 1144.74 Q163.102 1145.87 165.325 1146.43 Q167.547 1146.98 170.024 1146.98 Q174.028 1146.98 176.366 1144.87 Q178.704 1142.77 178.704 1139.16 Q178.704 1135.55 176.366 1133.44 Q174.028 1131.33 170.024 1131.33 Q168.149 1131.33 166.274 1131.75 Q164.422 1132.17 162.477 1133.05 L162.477 1115.68 Z\" fill=\"#000000\" fill-rule=\"nonzero\" fill-opacity=\"1\" /><path clip-path=\"url(#clip830)\" d=\"M117.015 895.036 L124.654 895.036 L124.654 868.67 L116.343 870.337 L116.343 866.078 L124.607 864.411 L129.283 864.411 L129.283 895.036 L136.922 895.036 L136.922 898.971 L117.015 898.971 L117.015 895.036 Z\" fill=\"#000000\" fill-rule=\"nonzero\" fill-opacity=\"1\" /><path clip-path=\"url(#clip830)\" d=\"M146.366 893.091 L151.251 893.091 L151.251 898.971 L146.366 898.971 L146.366 893.091 Z\" fill=\"#000000\" fill-rule=\"nonzero\" fill-opacity=\"1\" /><path clip-path=\"url(#clip830)\" d=\"M171.436 867.49 Q167.825 867.49 165.996 871.055 Q164.19 874.596 164.19 881.726 Q164.19 888.832 165.996 892.397 Q167.825 895.939 171.436 895.939 Q175.07 895.939 176.876 892.397 Q178.704 888.832 178.704 881.726 Q178.704 874.596 176.876 871.055 Q175.07 867.49 171.436 867.49 M171.436 863.786 Q177.246 863.786 180.301 868.393 Q183.38 872.976 183.38 881.726 Q183.38 890.453 180.301 895.059 Q177.246 899.642 171.436 899.642 Q165.626 899.642 162.547 895.059 Q159.491 890.453 159.491 881.726 Q159.491 872.976 162.547 868.393 Q165.626 863.786 171.436 863.786 Z\" fill=\"#000000\" fill-rule=\"nonzero\" fill-opacity=\"1\" /><path clip-path=\"url(#clip830)\" d=\"M118.01 643.762 L125.649 643.762 L125.649 617.397 L117.339 619.063 L117.339 614.804 L125.603 613.137 L130.279 613.137 L130.279 643.762 L137.917 643.762 L137.917 647.697 L118.01 647.697 L118.01 643.762 Z\" fill=\"#000000\" fill-rule=\"nonzero\" fill-opacity=\"1\" /><path clip-path=\"url(#clip830)\" d=\"M147.362 641.818 L152.246 641.818 L152.246 647.697 L147.362 647.697 L147.362 641.818 Z\" fill=\"#000000\" fill-rule=\"nonzero\" fill-opacity=\"1\" /><path clip-path=\"url(#clip830)\" d=\"M162.477 613.137 L180.834 613.137 L180.834 617.073 L166.76 617.073 L166.76 625.545 Q167.778 625.198 168.797 625.036 Q169.815 624.85 170.834 624.85 Q176.621 624.85 180.001 628.022 Q183.38 631.193 183.38 636.61 Q183.38 642.188 179.908 645.29 Q176.436 648.369 170.116 648.369 Q167.94 648.369 165.672 647.998 Q163.427 647.628 161.019 646.887 L161.019 642.188 Q163.102 643.322 165.325 643.878 Q167.547 644.434 170.024 644.434 Q174.028 644.434 176.366 642.327 Q178.704 640.221 178.704 636.61 Q178.704 632.998 176.366 630.892 Q174.028 628.786 170.024 628.786 Q168.149 628.786 166.274 629.202 Q164.422 629.619 162.477 630.498 L162.477 613.137 Z\" fill=\"#000000\" fill-rule=\"nonzero\" fill-opacity=\"1\" /><path clip-path=\"url(#clip830)\" d=\"M120.232 392.489 L136.552 392.489 L136.552 396.424 L114.607 396.424 L114.607 392.489 Q117.269 389.734 121.853 385.104 Q126.459 380.452 127.64 379.109 Q129.885 376.586 130.765 374.85 Q131.667 373.091 131.667 371.401 Q131.667 368.646 129.723 366.91 Q127.802 365.174 124.7 365.174 Q122.501 365.174 120.047 365.938 Q117.617 366.702 114.839 368.253 L114.839 363.53 Q117.663 362.396 120.117 361.818 Q122.57 361.239 124.607 361.239 Q129.978 361.239 133.172 363.924 Q136.367 366.609 136.367 371.1 Q136.367 373.23 135.556 375.151 Q134.769 377.049 132.663 379.642 Q132.084 380.313 128.982 383.53 Q125.88 386.725 120.232 392.489 Z\" fill=\"#000000\" fill-rule=\"nonzero\" fill-opacity=\"1\" /><path clip-path=\"url(#clip830)\" d=\"M146.366 390.544 L151.251 390.544 L151.251 396.424 L146.366 396.424 L146.366 390.544 Z\" fill=\"#000000\" fill-rule=\"nonzero\" fill-opacity=\"1\" /><path clip-path=\"url(#clip830)\" d=\"M171.436 364.943 Q167.825 364.943 165.996 368.507 Q164.19 372.049 164.19 379.179 Q164.19 386.285 165.996 389.85 Q167.825 393.391 171.436 393.391 Q175.07 393.391 176.876 389.85 Q178.704 386.285 178.704 379.179 Q178.704 372.049 176.876 368.507 Q175.07 364.943 171.436 364.943 M171.436 361.239 Q177.246 361.239 180.301 365.845 Q183.38 370.429 183.38 379.179 Q183.38 387.905 180.301 392.512 Q177.246 397.095 171.436 397.095 Q165.626 397.095 162.547 392.512 Q159.491 387.905 159.491 379.179 Q159.491 370.429 162.547 365.845 Q165.626 361.239 171.436 361.239 Z\" fill=\"#000000\" fill-rule=\"nonzero\" fill-opacity=\"1\" /><path clip-path=\"url(#clip830)\" d=\"M121.228 141.215 L137.547 141.215 L137.547 145.15 L115.603 145.15 L115.603 141.215 Q118.265 138.46 122.848 133.831 Q127.455 129.178 128.635 127.836 Q130.88 125.312 131.76 123.576 Q132.663 121.817 132.663 120.127 Q132.663 117.373 130.718 115.636 Q128.797 113.9 125.695 113.9 Q123.496 113.9 121.043 114.664 Q118.612 115.428 115.834 116.979 L115.834 112.257 Q118.658 111.123 121.112 110.544 Q123.566 109.965 125.603 109.965 Q130.973 109.965 134.167 112.65 Q137.362 115.336 137.362 119.826 Q137.362 121.956 136.552 123.877 Q135.765 125.775 133.658 128.368 Q133.08 129.039 129.978 132.257 Q126.876 135.451 121.228 141.215 Z\" fill=\"#000000\" fill-rule=\"nonzero\" fill-opacity=\"1\" /><path clip-path=\"url(#clip830)\" d=\"M147.362 139.271 L152.246 139.271 L152.246 145.15 L147.362 145.15 L147.362 139.271 Z\" fill=\"#000000\" fill-rule=\"nonzero\" fill-opacity=\"1\" /><path clip-path=\"url(#clip830)\" d=\"M162.477 110.59 L180.834 110.59 L180.834 114.525 L166.76 114.525 L166.76 122.998 Q167.778 122.65 168.797 122.488 Q169.815 122.303 170.834 122.303 Q176.621 122.303 180.001 125.474 Q183.38 128.646 183.38 134.062 Q183.38 139.641 179.908 142.743 Q176.436 145.822 170.116 145.822 Q167.94 145.822 165.672 145.451 Q163.427 145.081 161.019 144.34 L161.019 139.641 Q163.102 140.775 165.325 141.331 Q167.547 141.886 170.024 141.886 Q174.028 141.886 176.366 139.78 Q178.704 137.673 178.704 134.062 Q178.704 130.451 176.366 128.345 Q174.028 126.238 170.024 126.238 Q168.149 126.238 166.274 126.655 Q164.422 127.072 162.477 127.951 L162.477 110.59 Z\" fill=\"#000000\" fill-rule=\"nonzero\" fill-opacity=\"1\" /><path clip-path=\"url(#clip830)\" d=\"M28.3562 718.597 L45.7028 731.488 L64.0042 717.929 L64.0042 724.836 L49.9996 735.212 L64.0042 745.588 L64.0042 752.495 L45.3526 738.649 L28.3562 751.317 L28.3562 744.41 L41.0558 734.957 L28.3562 725.504 L28.3562 718.597 Z\" fill=\"#000000\" fill-rule=\"nonzero\" fill-opacity=\"1\" /><polyline clip-path=\"url(#clip832)\" style=\"stroke:#009af9; stroke-linecap:round; stroke-linejoin:round; stroke-width:4; stroke-opacity:1; fill:none\" points=\"279.759,1384.24 295.482,1372.51 311.206,1360.86 326.929,1349.31 342.653,1337.84 358.377,1326.45 374.1,1315.15 389.824,1303.92 405.547,1292.78 421.271,1281.7 436.995,1270.71 452.718,1259.78 468.442,1248.92 484.165,1238.14 499.889,1227.41 515.612,1216.76 531.336,1206.16 547.06,1195.63 562.783,1185.15 578.507,1174.74 594.23,1164.37 609.954,1154.06 625.678,1143.81 641.401,1133.6 657.125,1123.45 672.848,1113.34 688.572,1103.27 704.295,1093.25 720.019,1083.28 735.743,1073.34 751.466,1063.45 767.19,1053.59 782.913,1043.77 798.637,1033.98 814.361,1024.23 830.084,1014.51 845.808,1004.82 861.531,995.154 877.255,985.521 892.978,975.914 908.702,966.333 924.426,956.775 940.149,947.24 955.873,937.725 971.596,928.231 987.32,918.755 1003.04,909.296 1018.77,899.853 1034.49,890.424 1050.21,881.009 1065.94,871.606 1081.66,862.213 1097.39,852.831 1113.11,843.457 1128.83,834.089 1144.56,824.728 1160.28,815.372 1176,806.019 1191.73,796.669 1207.45,787.32 1223.17,777.972 1238.9,768.622 1254.62,759.27 1270.34,749.915 1286.07,740.556 1301.79,731.191 1317.52,721.82 1333.24,712.441 1348.96,703.054 1364.69,693.656 1380.41,684.248 1396.13,674.828 1411.86,665.395 1427.58,655.948 1443.3,646.486 1459.03,637.008 1474.75,627.512 1490.47,617.999 1506.2,608.467 1521.92,598.914 1537.65,589.34 1553.37,579.744 1569.09,570.125 1584.82,560.482 1600.54,550.813 1616.26,541.119 1631.99,531.397 1647.71,521.648 1663.43,511.869 1679.16,502.06 1694.88,492.221 1710.6,482.349 1726.33,472.445 1742.05,462.507 1757.78,452.534 1773.5,442.526 1789.22,432.48 1804.95,422.398 1820.67,412.276 1836.39,402.116 1852.12,391.915 1867.84,381.673 1883.56,371.388 1899.29,361.061 1915.01,350.689 1930.73,340.272 1946.46,329.81 1962.18,319.301 1977.91,308.744 1993.63,298.138 2009.35,287.483 2025.08,276.777 2040.8,266.02 2056.52,255.211 2072.25,244.349 2087.97,233.433 2103.69,222.461 2119.42,211.434 2135.14,200.35 2150.87,189.208 2166.59,178.007 2182.31,166.748 2198.04,155.427 2213.76,144.046 2229.48,132.602 2245.21,121.095 2260.93,109.524 2276.65,97.8876 2292.38,86.1857 \"/>\n",
       "<polyline clip-path=\"url(#clip832)\" style=\"stroke:#e26f46; stroke-linecap:round; stroke-linejoin:round; stroke-width:4; stroke-opacity:1; fill:none\" points=\"279.759,1384.24 311.206,1360.86 342.653,1337.84 374.1,1315.15 405.547,1292.78 436.995,1270.71 468.442,1248.93 499.889,1227.42 531.336,1206.16 562.783,1185.15 594.23,1164.37 625.678,1143.81 657.125,1123.45 688.572,1103.28 720.019,1083.28 751.466,1063.45 782.913,1043.77 814.361,1024.23 845.808,1004.82 877.255,985.524 908.702,966.336 940.149,947.243 971.596,928.234 1003.04,909.299 1034.49,890.428 1065.94,871.61 1097.39,852.835 1128.83,834.093 1160.28,815.376 1191.73,796.673 1223.17,777.976 1254.62,759.275 1286.07,740.56 1317.52,721.824 1348.96,703.058 1380.41,684.252 1411.86,665.399 1443.3,646.49 1474.75,627.517 1506.2,608.471 1537.65,589.344 1569.09,570.129 1600.54,550.817 1631.99,531.401 1663.43,511.873 1694.88,492.224 1726.33,472.449 1757.78,452.538 1789.22,432.484 1820.67,412.28 1852.12,391.918 1883.56,371.391 1915.01,350.692 1946.46,329.813 1977.91,308.746 2009.35,287.485 2040.8,266.023 2072.25,244.351 2103.69,222.463 2135.14,200.351 2166.59,178.009 2198.04,155.428 2229.48,132.602 2260.93,109.524 2292.38,86.1857 \"/>\n",
       "<polyline clip-path=\"url(#clip832)\" style=\"stroke:#3da44d; stroke-linecap:round; stroke-linejoin:round; stroke-width:4; stroke-opacity:1; fill:none\" points=\"279.759,1384.24 405.547,1292.79 531.336,1206.2 657.125,1123.49 782.913,1043.83 908.702,966.403 1034.49,890.502 1160.28,815.456 1286.07,740.644 1411.86,665.483 1537.65,589.426 1663.43,511.95 1789.22,432.553 1915.01,350.749 2040.8,266.065 2166.59,178.032 2292.38,86.1857 \"/>\n",
       "<path clip-path=\"url(#clip830)\" d=\"M290.493 300.469 L686.676 300.469 L686.676 93.1086 L290.493 93.1086  Z\" fill=\"#ffffff\" fill-rule=\"evenodd\" fill-opacity=\"1\"/>\n",
       "<polyline clip-path=\"url(#clip830)\" style=\"stroke:#000000; stroke-linecap:round; stroke-linejoin:round; stroke-width:4; stroke-opacity:1; fill:none\" points=\"290.493,300.469 686.676,300.469 686.676,93.1086 290.493,93.1086 290.493,300.469 \"/>\n",
       "<polyline clip-path=\"url(#clip830)\" style=\"stroke:#009af9; stroke-linecap:round; stroke-linejoin:round; stroke-width:4; stroke-opacity:1; fill:none\" points=\"314.197,144.949 456.422,144.949 \"/>\n",
       "<path clip-path=\"url(#clip830)\" d=\"M501.839 146.581 L501.839 162.229 L497.58 162.229 L497.58 146.719 Q497.58 143.039 496.145 141.21 Q494.709 139.382 491.839 139.382 Q488.39 139.382 486.399 141.581 Q484.408 143.78 484.408 147.576 L484.408 162.229 L480.126 162.229 L480.126 136.303 L484.408 136.303 L484.408 140.331 Q485.936 137.993 487.996 136.835 Q490.08 135.678 492.788 135.678 Q497.256 135.678 499.547 138.456 Q501.839 141.21 501.839 146.581 Z\" fill=\"#000000\" fill-rule=\"nonzero\" fill-opacity=\"1\" /><path clip-path=\"url(#clip830)\" d=\"M525.959 140.701 L555.635 140.701 L555.635 144.59 L525.959 144.59 L525.959 140.701 M525.959 150.145 L555.635 150.145 L555.635 154.081 L525.959 154.081 L525.959 150.145 Z\" fill=\"#000000\" fill-rule=\"nonzero\" fill-opacity=\"1\" /><path clip-path=\"url(#clip830)\" d=\"M581.607 158.293 L589.246 158.293 L589.246 131.928 L580.936 133.595 L580.936 129.335 L589.2 127.669 L593.875 127.669 L593.875 158.293 L601.514 158.293 L601.514 162.229 L581.607 162.229 L581.607 158.293 Z\" fill=\"#000000\" fill-rule=\"nonzero\" fill-opacity=\"1\" /><path clip-path=\"url(#clip830)\" d=\"M614.986 158.293 L631.306 158.293 L631.306 162.229 L609.362 162.229 L609.362 158.293 Q612.024 155.539 616.607 150.909 Q621.213 146.256 622.394 144.914 Q624.639 142.391 625.519 140.655 Q626.422 138.895 626.422 137.206 Q626.422 134.451 624.477 132.715 Q622.556 130.979 619.454 130.979 Q617.255 130.979 614.801 131.743 Q612.371 132.507 609.593 134.057 L609.593 129.335 Q612.417 128.201 614.871 127.622 Q617.324 127.044 619.361 127.044 Q624.732 127.044 627.926 129.729 Q631.121 132.414 631.121 136.905 Q631.121 139.034 630.31 140.956 Q629.523 142.854 627.417 145.446 Q626.838 146.118 623.736 149.335 Q620.635 152.53 614.986 158.293 Z\" fill=\"#000000\" fill-rule=\"nonzero\" fill-opacity=\"1\" /><path clip-path=\"url(#clip830)\" d=\"M651.121 145.817 Q647.787 145.817 645.866 147.599 Q643.968 149.381 643.968 152.506 Q643.968 155.631 645.866 157.414 Q647.787 159.196 651.121 159.196 Q654.454 159.196 656.375 157.414 Q658.296 155.608 658.296 152.506 Q658.296 149.381 656.375 147.599 Q654.477 145.817 651.121 145.817 M646.445 143.826 Q643.435 143.085 641.746 141.025 Q640.079 138.965 640.079 136.002 Q640.079 131.858 643.019 129.451 Q645.982 127.044 651.121 127.044 Q656.283 127.044 659.222 129.451 Q662.162 131.858 662.162 136.002 Q662.162 138.965 660.472 141.025 Q658.806 143.085 655.82 143.826 Q659.199 144.613 661.074 146.905 Q662.972 149.196 662.972 152.506 Q662.972 157.53 659.894 160.215 Q656.838 162.9 651.121 162.9 Q645.403 162.9 642.324 160.215 Q639.269 157.53 639.269 152.506 Q639.269 149.196 641.167 146.905 Q643.065 144.613 646.445 143.826 M644.732 136.442 Q644.732 139.127 646.398 140.632 Q648.088 142.136 651.121 142.136 Q654.13 142.136 655.82 140.632 Q657.533 139.127 657.533 136.442 Q657.533 133.757 655.82 132.252 Q654.13 130.747 651.121 130.747 Q648.088 130.747 646.398 132.252 Q644.732 133.757 644.732 136.442 Z\" fill=\"#000000\" fill-rule=\"nonzero\" fill-opacity=\"1\" /><polyline clip-path=\"url(#clip830)\" style=\"stroke:#e26f46; stroke-linecap:round; stroke-linejoin:round; stroke-width:4; stroke-opacity:1; fill:none\" points=\"314.197,196.789 456.422,196.789 \"/>\n",
       "<path clip-path=\"url(#clip830)\" d=\"M501.839 198.421 L501.839 214.069 L497.58 214.069 L497.58 198.559 Q497.58 194.879 496.145 193.05 Q494.709 191.222 491.839 191.222 Q488.39 191.222 486.399 193.421 Q484.408 195.62 484.408 199.416 L484.408 214.069 L480.126 214.069 L480.126 188.143 L484.408 188.143 L484.408 192.171 Q485.936 189.833 487.996 188.675 Q490.08 187.518 492.788 187.518 Q497.256 187.518 499.547 190.296 Q501.839 193.05 501.839 198.421 Z\" fill=\"#000000\" fill-rule=\"nonzero\" fill-opacity=\"1\" /><path clip-path=\"url(#clip830)\" d=\"M525.959 192.541 L555.635 192.541 L555.635 196.43 L525.959 196.43 L525.959 192.541 M525.959 201.985 L555.635 201.985 L555.635 205.921 L525.959 205.921 L525.959 201.985 Z\" fill=\"#000000\" fill-rule=\"nonzero\" fill-opacity=\"1\" /><path clip-path=\"url(#clip830)\" d=\"M591.375 194.925 Q588.227 194.925 586.376 197.078 Q584.547 199.231 584.547 202.981 Q584.547 206.708 586.376 208.883 Q588.227 211.036 591.375 211.036 Q594.524 211.036 596.352 208.883 Q598.204 206.708 598.204 202.981 Q598.204 199.231 596.352 197.078 Q594.524 194.925 591.375 194.925 M600.658 180.273 L600.658 184.532 Q598.899 183.698 597.093 183.259 Q595.311 182.819 593.551 182.819 Q588.922 182.819 586.468 185.944 Q584.038 189.069 583.69 195.388 Q585.056 193.374 587.116 192.309 Q589.176 191.222 591.653 191.222 Q596.862 191.222 599.871 194.393 Q602.903 197.541 602.903 202.981 Q602.903 208.305 599.755 211.522 Q596.607 214.74 591.375 214.74 Q585.38 214.74 582.209 210.157 Q579.038 205.55 579.038 196.823 Q579.038 188.629 582.926 183.768 Q586.815 178.884 593.366 178.884 Q595.125 178.884 596.908 179.231 Q598.713 179.578 600.658 180.273 Z\" fill=\"#000000\" fill-rule=\"nonzero\" fill-opacity=\"1\" /><path clip-path=\"url(#clip830)\" d=\"M623.806 183.583 L612 202.032 L623.806 202.032 L623.806 183.583 M622.579 179.509 L628.459 179.509 L628.459 202.032 L633.389 202.032 L633.389 205.921 L628.459 205.921 L628.459 214.069 L623.806 214.069 L623.806 205.921 L608.204 205.921 L608.204 201.407 L622.579 179.509 Z\" fill=\"#000000\" fill-rule=\"nonzero\" fill-opacity=\"1\" /><polyline clip-path=\"url(#clip830)\" style=\"stroke:#3da44d; stroke-linecap:round; stroke-linejoin:round; stroke-width:4; stroke-opacity:1; fill:none\" points=\"314.197,248.629 456.422,248.629 \"/>\n",
       "<path clip-path=\"url(#clip830)\" d=\"M501.839 250.261 L501.839 265.909 L497.58 265.909 L497.58 250.399 Q497.58 246.719 496.145 244.89 Q494.709 243.062 491.839 243.062 Q488.39 243.062 486.399 245.261 Q484.408 247.46 484.408 251.256 L484.408 265.909 L480.126 265.909 L480.126 239.983 L484.408 239.983 L484.408 244.011 Q485.936 241.673 487.996 240.515 Q490.08 239.358 492.788 239.358 Q497.256 239.358 499.547 242.136 Q501.839 244.89 501.839 250.261 Z\" fill=\"#000000\" fill-rule=\"nonzero\" fill-opacity=\"1\" /><path clip-path=\"url(#clip830)\" d=\"M525.959 244.381 L555.635 244.381 L555.635 248.27 L525.959 248.27 L525.959 244.381 M525.959 253.825 L555.635 253.825 L555.635 257.761 L525.959 257.761 L525.959 253.825 Z\" fill=\"#000000\" fill-rule=\"nonzero\" fill-opacity=\"1\" /><path clip-path=\"url(#clip830)\" d=\"M581.607 261.973 L589.246 261.973 L589.246 235.608 L580.936 237.275 L580.936 233.015 L589.2 231.349 L593.875 231.349 L593.875 261.973 L601.514 261.973 L601.514 265.909 L581.607 265.909 L581.607 261.973 Z\" fill=\"#000000\" fill-rule=\"nonzero\" fill-opacity=\"1\" /><path clip-path=\"url(#clip830)\" d=\"M621.537 246.765 Q618.389 246.765 616.537 248.918 Q614.709 251.071 614.709 254.821 Q614.709 258.548 616.537 260.723 Q618.389 262.876 621.537 262.876 Q624.685 262.876 626.514 260.723 Q628.366 258.548 628.366 254.821 Q628.366 251.071 626.514 248.918 Q624.685 246.765 621.537 246.765 M630.82 232.113 L630.82 236.372 Q629.06 235.538 627.255 235.099 Q625.473 234.659 623.713 234.659 Q619.084 234.659 616.63 237.784 Q614.199 240.909 613.852 247.228 Q615.218 245.214 617.278 244.149 Q619.338 243.062 621.815 243.062 Q627.023 243.062 630.033 246.233 Q633.065 249.381 633.065 254.821 Q633.065 260.145 629.917 263.362 Q626.769 266.58 621.537 266.58 Q615.542 266.58 612.371 261.997 Q609.199 257.39 609.199 248.663 Q609.199 240.469 613.088 235.608 Q616.977 230.724 623.528 230.724 Q625.287 230.724 627.07 231.071 Q628.875 231.418 630.82 232.113 Z\" fill=\"#000000\" fill-rule=\"nonzero\" fill-opacity=\"1\" /></svg>\n"
      ]
     },
     "metadata": {},
     "output_type": "display_data"
    }
   ],
   "source": [
    "rangs16  = range(0, stop=1, length=length(sol16))\n",
    "rangs64  = range(0, stop=1, length=length(sol64))\n",
    "rangs128 = range(0, stop=1, length=length(sol128))\n",
    "\n",
    "plot(rangs128, sol128, xlabel=\"t\", ylabel=\"x\", label=\"n = 128\")\n",
    "plot!(rangs64, sol64, label=\"n = 64\")\n",
    "plot!(rangs16, sol16, label=\"n = 16\")"
   ]
  },
  {
   "cell_type": "markdown",
   "metadata": {},
   "source": [
    "### Question 3: Comparer à la solution exacte\n",
    "\n",
    "La solution exacte est $x(t)=e^t - e^{-2t}$ et la valeur optimale est $e^3 - 2e^{-3}+1$."
   ]
  },
  {
   "cell_type": "code",
   "execution_count": 19,
   "metadata": {},
   "outputs": [
    {
     "data": {
      "image/png": "[encoded data removed]",
      "image/svg+xml": [
       "<?xml version=\"1.0\" encoding=\"utf-8\"?>\n",
       "<svg xmlns=\"http://www.w3.org/2000/svg\" xmlns:xlink=\"http://www.w3.org/1999/xlink\" width=\"600\" height=\"400\" viewBox=\"0 0 2400 1600\">\n",
       "<defs>\n",
       "  <clipPath id=\"clip050\">\n",
       "    <rect x=\"0\" y=\"0\" width=\"2400\" height=\"1600\"/>\n",
       "  </clipPath>\n",
       "</defs>\n",
       "<path clip-path=\"url(#clip050)\" d=\"M0 1600 L2400 1600 L2400 0 L0 0  Z\" fill=\"#ffffff\" fill-rule=\"evenodd\" fill-opacity=\"1\"/>\n",
       "<defs>\n",
       "  <clipPath id=\"clip051\">\n",
       "    <rect x=\"480\" y=\"0\" width=\"1681\" height=\"1600\"/>\n",
       "  </clipPath>\n",
       "</defs>\n",
       "<path clip-path=\"url(#clip050)\" d=\"M156.112 1486.45 L2352.76 1486.45 L2352.76 47.2441 L156.112 47.2441  Z\" fill=\"#ffffff\" fill-rule=\"evenodd\" fill-opacity=\"1\"/>\n",
       "<defs>\n",
       "  <clipPath id=\"clip052\">\n",
       "    <rect x=\"156\" y=\"47\" width=\"2198\" height=\"1440\"/>\n",
       "  </clipPath>\n",
       "</defs>\n",
       "<polyline clip-path=\"url(#clip052)\" style=\"stroke:#000000; stroke-linecap:round; stroke-linejoin:round; stroke-width:2; stroke-opacity:0.1; fill:none\" points=\"218.281,1486.45 218.281,47.2441 \"/>\n",
       "<polyline clip-path=\"url(#clip052)\" style=\"stroke:#000000; stroke-linecap:round; stroke-linejoin:round; stroke-width:2; stroke-opacity:0.1; fill:none\" points=\"736.358,1486.45 736.358,47.2441 \"/>\n",
       "<polyline clip-path=\"url(#clip052)\" style=\"stroke:#000000; stroke-linecap:round; stroke-linejoin:round; stroke-width:2; stroke-opacity:0.1; fill:none\" points=\"1254.43,1486.45 1254.43,47.2441 \"/>\n",
       "<polyline clip-path=\"url(#clip052)\" style=\"stroke:#000000; stroke-linecap:round; stroke-linejoin:round; stroke-width:2; stroke-opacity:0.1; fill:none\" points=\"1772.51,1486.45 1772.51,47.2441 \"/>\n",
       "<polyline clip-path=\"url(#clip052)\" style=\"stroke:#000000; stroke-linecap:round; stroke-linejoin:round; stroke-width:2; stroke-opacity:0.1; fill:none\" points=\"2290.59,1486.45 2290.59,47.2441 \"/>\n",
       "<polyline clip-path=\"url(#clip050)\" style=\"stroke:#000000; stroke-linecap:round; stroke-linejoin:round; stroke-width:4; stroke-opacity:1; fill:none\" points=\"156.112,1486.45 2352.76,1486.45 \"/>\n",
       "<polyline clip-path=\"url(#clip050)\" style=\"stroke:#000000; stroke-linecap:round; stroke-linejoin:round; stroke-width:4; stroke-opacity:1; fill:none\" points=\"218.281,1486.45 218.281,1467.55 \"/>\n",
       "<polyline clip-path=\"url(#clip050)\" style=\"stroke:#000000; stroke-linecap:round; stroke-linejoin:round; stroke-width:4; stroke-opacity:1; fill:none\" points=\"736.358,1486.45 736.358,1467.55 \"/>\n",
       "<polyline clip-path=\"url(#clip050)\" style=\"stroke:#000000; stroke-linecap:round; stroke-linejoin:round; stroke-width:4; stroke-opacity:1; fill:none\" points=\"1254.43,1486.45 1254.43,1467.55 \"/>\n",
       "<polyline clip-path=\"url(#clip050)\" style=\"stroke:#000000; stroke-linecap:round; stroke-linejoin:round; stroke-width:4; stroke-opacity:1; fill:none\" points=\"1772.51,1486.45 1772.51,1467.55 \"/>\n",
       "<polyline clip-path=\"url(#clip050)\" style=\"stroke:#000000; stroke-linecap:round; stroke-linejoin:round; stroke-width:4; stroke-opacity:1; fill:none\" points=\"2290.59,1486.45 2290.59,1467.55 \"/>\n",
       "<path clip-path=\"url(#clip050)\" d=\"M180.585 1517.37 Q176.974 1517.37 175.145 1520.93 Q173.339 1524.47 173.339 1531.6 Q173.339 1538.71 175.145 1542.27 Q176.974 1545.82 180.585 1545.82 Q184.219 1545.82 186.025 1542.27 Q187.853 1538.71 187.853 1531.6 Q187.853 1524.47 186.025 1520.93 Q184.219 1517.37 180.585 1517.37 M180.585 1513.66 Q186.395 1513.66 189.45 1518.27 Q192.529 1522.85 192.529 1531.6 Q192.529 1540.33 189.45 1544.94 Q186.395 1549.52 180.585 1549.52 Q174.775 1549.52 171.696 1544.94 Q168.64 1540.33 168.64 1531.6 Q168.64 1522.85 171.696 1518.27 Q174.775 1513.66 180.585 1513.66 Z\" fill=\"#000000\" fill-rule=\"nonzero\" fill-opacity=\"1\" /><path clip-path=\"url(#clip050)\" d=\"M200.747 1542.97 L205.631 1542.97 L205.631 1548.85 L200.747 1548.85 L200.747 1542.97 Z\" fill=\"#000000\" fill-rule=\"nonzero\" fill-opacity=\"1\" /><path clip-path=\"url(#clip050)\" d=\"M225.816 1517.37 Q222.205 1517.37 220.376 1520.93 Q218.571 1524.47 218.571 1531.6 Q218.571 1538.71 220.376 1542.27 Q222.205 1545.82 225.816 1545.82 Q229.45 1545.82 231.256 1542.27 Q233.084 1538.71 233.084 1531.6 Q233.084 1524.47 231.256 1520.93 Q229.45 1517.37 225.816 1517.37 M225.816 1513.66 Q231.626 1513.66 234.682 1518.27 Q237.76 1522.85 237.76 1531.6 Q237.76 1540.33 234.682 1544.94 Q231.626 1549.52 225.816 1549.52 Q220.006 1549.52 216.927 1544.94 Q213.872 1540.33 213.872 1531.6 Q213.872 1522.85 216.927 1518.27 Q220.006 1513.66 225.816 1513.66 Z\" fill=\"#000000\" fill-rule=\"nonzero\" fill-opacity=\"1\" /><path clip-path=\"url(#clip050)\" d=\"M255.978 1517.37 Q252.367 1517.37 250.538 1520.93 Q248.733 1524.47 248.733 1531.6 Q248.733 1538.71 250.538 1542.27 Q252.367 1545.82 255.978 1545.82 Q259.612 1545.82 261.418 1542.27 Q263.246 1538.71 263.246 1531.6 Q263.246 1524.47 261.418 1520.93 Q259.612 1517.37 255.978 1517.37 M255.978 1513.66 Q261.788 1513.66 264.844 1518.27 Q267.922 1522.85 267.922 1531.6 Q267.922 1540.33 264.844 1544.94 Q261.788 1549.52 255.978 1549.52 Q250.168 1549.52 247.089 1544.94 Q244.033 1540.33 244.033 1531.6 Q244.033 1522.85 247.089 1518.27 Q250.168 1513.66 255.978 1513.66 Z\" fill=\"#000000\" fill-rule=\"nonzero\" fill-opacity=\"1\" /><path clip-path=\"url(#clip050)\" d=\"M699.159 1517.37 Q695.548 1517.37 693.719 1520.93 Q691.913 1524.47 691.913 1531.6 Q691.913 1538.71 693.719 1542.27 Q695.548 1545.82 699.159 1545.82 Q702.793 1545.82 704.599 1542.27 Q706.427 1538.71 706.427 1531.6 Q706.427 1524.47 704.599 1520.93 Q702.793 1517.37 699.159 1517.37 M699.159 1513.66 Q704.969 1513.66 708.024 1518.27 Q711.103 1522.85 711.103 1531.6 Q711.103 1540.33 708.024 1544.94 Q704.969 1549.52 699.159 1549.52 Q693.349 1549.52 690.27 1544.94 Q687.214 1540.33 687.214 1531.6 Q687.214 1522.85 690.27 1518.27 Q693.349 1513.66 699.159 1513.66 Z\" fill=\"#000000\" fill-rule=\"nonzero\" fill-opacity=\"1\" /><path clip-path=\"url(#clip050)\" d=\"M719.321 1542.97 L724.205 1542.97 L724.205 1548.85 L719.321 1548.85 L719.321 1542.97 Z\" fill=\"#000000\" fill-rule=\"nonzero\" fill-opacity=\"1\" /><path clip-path=\"url(#clip050)\" d=\"M738.418 1544.91 L754.737 1544.91 L754.737 1548.85 L732.793 1548.85 L732.793 1544.91 Q735.455 1542.16 740.038 1537.53 Q744.645 1532.88 745.825 1531.53 Q748.071 1529.01 748.95 1527.27 Q749.853 1525.51 749.853 1523.82 Q749.853 1521.07 747.909 1519.33 Q745.987 1517.6 742.885 1517.6 Q740.686 1517.6 738.233 1518.36 Q735.802 1519.13 733.024 1520.68 L733.024 1515.95 Q735.848 1514.82 738.302 1514.24 Q740.756 1513.66 742.793 1513.66 Q748.163 1513.66 751.358 1516.35 Q754.552 1519.03 754.552 1523.52 Q754.552 1525.65 753.742 1527.57 Q752.955 1529.47 750.848 1532.07 Q750.27 1532.74 747.168 1535.95 Q744.066 1539.15 738.418 1544.91 Z\" fill=\"#000000\" fill-rule=\"nonzero\" fill-opacity=\"1\" /><path clip-path=\"url(#clip050)\" d=\"M764.598 1514.29 L782.955 1514.29 L782.955 1518.22 L768.881 1518.22 L768.881 1526.7 Q769.899 1526.35 770.918 1526.19 Q771.936 1526 772.955 1526 Q778.742 1526 782.121 1529.17 Q785.501 1532.34 785.501 1537.76 Q785.501 1543.34 782.029 1546.44 Q778.557 1549.52 772.237 1549.52 Q770.061 1549.52 767.793 1549.15 Q765.547 1548.78 763.14 1548.04 L763.14 1543.34 Q765.223 1544.47 767.445 1545.03 Q769.668 1545.58 772.144 1545.58 Q776.149 1545.58 778.487 1543.48 Q780.825 1541.37 780.825 1537.76 Q780.825 1534.15 778.487 1532.04 Q776.149 1529.94 772.144 1529.94 Q770.27 1529.94 768.395 1530.35 Q766.543 1530.77 764.598 1531.65 L764.598 1514.29 Z\" fill=\"#000000\" fill-rule=\"nonzero\" fill-opacity=\"1\" /><path clip-path=\"url(#clip050)\" d=\"M1216.74 1517.37 Q1213.13 1517.37 1211.3 1520.93 Q1209.49 1524.47 1209.49 1531.6 Q1209.49 1538.71 1211.3 1542.27 Q1213.13 1545.82 1216.74 1545.82 Q1220.37 1545.82 1222.18 1542.27 Q1224.01 1538.71 1224.01 1531.6 Q1224.01 1524.47 1222.18 1520.93 Q1220.37 1517.37 1216.74 1517.37 M1216.74 1513.66 Q1222.55 1513.66 1225.6 1518.27 Q1228.68 1522.85 1228.68 1531.6 Q1228.68 1540.33 1225.6 1544.94 Q1222.55 1549.52 1216.74 1549.52 Q1210.93 1549.52 1207.85 1544.94 Q1204.79 1540.33 1204.79 1531.6 Q1204.79 1522.85 1207.85 1518.27 Q1210.93 1513.66 1216.74 1513.66 Z\" fill=\"#000000\" fill-rule=\"nonzero\" fill-opacity=\"1\" /><path clip-path=\"url(#clip050)\" d=\"M1236.9 1542.97 L1241.78 1542.97 L1241.78 1548.85 L1236.9 1548.85 L1236.9 1542.97 Z\" fill=\"#000000\" fill-rule=\"nonzero\" fill-opacity=\"1\" /><path clip-path=\"url(#clip050)\" d=\"M1252.02 1514.29 L1270.37 1514.29 L1270.37 1518.22 L1256.3 1518.22 L1256.3 1526.7 Q1257.32 1526.35 1258.33 1526.19 Q1259.35 1526 1260.37 1526 Q1266.16 1526 1269.54 1529.17 Q1272.92 1532.34 1272.92 1537.76 Q1272.92 1543.34 1269.45 1546.44 Q1265.97 1549.52 1259.65 1549.52 Q1257.48 1549.52 1255.21 1549.15 Q1252.96 1548.78 1250.56 1548.04 L1250.56 1543.34 Q1252.64 1544.47 1254.86 1545.03 Q1257.08 1545.58 1259.56 1545.58 Q1263.57 1545.58 1265.9 1543.48 Q1268.24 1541.37 1268.24 1537.76 Q1268.24 1534.15 1265.9 1532.04 Q1263.57 1529.94 1259.56 1529.94 Q1257.69 1529.94 1255.81 1530.35 Q1253.96 1530.77 1252.02 1531.65 L1252.02 1514.29 Z\" fill=\"#000000\" fill-rule=\"nonzero\" fill-opacity=\"1\" /><path clip-path=\"url(#clip050)\" d=\"M1292.13 1517.37 Q1288.52 1517.37 1286.69 1520.93 Q1284.89 1524.47 1284.89 1531.6 Q1284.89 1538.71 1286.69 1542.27 Q1288.52 1545.82 1292.13 1545.82 Q1295.76 1545.82 1297.57 1542.27 Q1299.4 1538.71 1299.4 1531.6 Q1299.4 1524.47 1297.57 1520.93 Q1295.76 1517.37 1292.13 1517.37 M1292.13 1513.66 Q1297.94 1513.66 1301 1518.27 Q1304.07 1522.85 1304.07 1531.6 Q1304.07 1540.33 1301 1544.94 Q1297.94 1549.52 1292.13 1549.52 Q1286.32 1549.52 1283.24 1544.94 Q1280.19 1540.33 1280.19 1531.6 Q1280.19 1522.85 1283.24 1518.27 Q1286.32 1513.66 1292.13 1513.66 Z\" fill=\"#000000\" fill-rule=\"nonzero\" fill-opacity=\"1\" /><path clip-path=\"url(#clip050)\" d=\"M1735.31 1517.37 Q1731.7 1517.37 1729.87 1520.93 Q1728.07 1524.47 1728.07 1531.6 Q1728.07 1538.71 1729.87 1542.27 Q1731.7 1545.82 1735.31 1545.82 Q1738.95 1545.82 1740.75 1542.27 Q1742.58 1538.71 1742.58 1531.6 Q1742.58 1524.47 1740.75 1520.93 Q1738.95 1517.37 1735.31 1517.37 M1735.31 1513.66 Q1741.12 1513.66 1744.18 1518.27 Q1747.26 1522.85 1747.26 1531.6 Q1747.26 1540.33 1744.18 1544.94 Q1741.12 1549.52 1735.31 1549.52 Q1729.5 1549.52 1726.42 1544.94 Q1723.37 1540.33 1723.37 1531.6 Q1723.37 1522.85 1726.42 1518.27 Q1729.5 1513.66 1735.31 1513.66 Z\" fill=\"#000000\" fill-rule=\"nonzero\" fill-opacity=\"1\" /><path clip-path=\"url(#clip050)\" d=\"M1755.47 1542.97 L1760.36 1542.97 L1760.36 1548.85 L1755.47 1548.85 L1755.47 1542.97 Z\" fill=\"#000000\" fill-rule=\"nonzero\" fill-opacity=\"1\" /><path clip-path=\"url(#clip050)\" d=\"M1769.36 1514.29 L1791.58 1514.29 L1791.58 1516.28 L1779.04 1548.85 L1774.15 1548.85 L1785.96 1518.22 L1769.36 1518.22 L1769.36 1514.29 Z\" fill=\"#000000\" fill-rule=\"nonzero\" fill-opacity=\"1\" /><path clip-path=\"url(#clip050)\" d=\"M1800.75 1514.29 L1819.11 1514.29 L1819.11 1518.22 L1805.03 1518.22 L1805.03 1526.7 Q1806.05 1526.35 1807.07 1526.19 Q1808.09 1526 1809.11 1526 Q1814.89 1526 1818.27 1529.17 Q1821.65 1532.34 1821.65 1537.76 Q1821.65 1543.34 1818.18 1546.44 Q1814.71 1549.52 1808.39 1549.52 Q1806.21 1549.52 1803.95 1549.15 Q1801.7 1548.78 1799.29 1548.04 L1799.29 1543.34 Q1801.38 1544.47 1803.6 1545.03 Q1805.82 1545.58 1808.3 1545.58 Q1812.3 1545.58 1814.64 1543.48 Q1816.98 1541.37 1816.98 1537.76 Q1816.98 1534.15 1814.64 1532.04 Q1812.3 1529.94 1808.3 1529.94 Q1806.42 1529.94 1804.55 1530.35 Q1802.7 1530.77 1800.75 1531.65 L1800.75 1514.29 Z\" fill=\"#000000\" fill-rule=\"nonzero\" fill-opacity=\"1\" /><path clip-path=\"url(#clip050)\" d=\"M2242.66 1544.91 L2250.3 1544.91 L2250.3 1518.55 L2241.99 1520.21 L2241.99 1515.95 L2250.25 1514.29 L2254.93 1514.29 L2254.93 1544.91 L2262.57 1544.91 L2262.57 1548.85 L2242.66 1548.85 L2242.66 1544.91 Z\" fill=\"#000000\" fill-rule=\"nonzero\" fill-opacity=\"1\" /><path clip-path=\"url(#clip050)\" d=\"M2272.01 1542.97 L2276.89 1542.97 L2276.89 1548.85 L2272.01 1548.85 L2272.01 1542.97 Z\" fill=\"#000000\" fill-rule=\"nonzero\" fill-opacity=\"1\" /><path clip-path=\"url(#clip050)\" d=\"M2297.08 1517.37 Q2293.47 1517.37 2291.64 1520.93 Q2289.83 1524.47 2289.83 1531.6 Q2289.83 1538.71 2291.64 1542.27 Q2293.47 1545.82 2297.08 1545.82 Q2300.71 1545.82 2302.52 1542.27 Q2304.35 1538.71 2304.35 1531.6 Q2304.35 1524.47 2302.52 1520.93 Q2300.71 1517.37 2297.08 1517.37 M2297.08 1513.66 Q2302.89 1513.66 2305.95 1518.27 Q2309.02 1522.85 2309.02 1531.6 Q2309.02 1540.33 2305.95 1544.94 Q2302.89 1549.52 2297.08 1549.52 Q2291.27 1549.52 2288.19 1544.94 Q2285.14 1540.33 2285.14 1531.6 Q2285.14 1522.85 2288.19 1518.27 Q2291.27 1513.66 2297.08 1513.66 Z\" fill=\"#000000\" fill-rule=\"nonzero\" fill-opacity=\"1\" /><path clip-path=\"url(#clip050)\" d=\"M2327.24 1517.37 Q2323.63 1517.37 2321.8 1520.93 Q2320 1524.47 2320 1531.6 Q2320 1538.71 2321.8 1542.27 Q2323.63 1545.82 2327.24 1545.82 Q2330.88 1545.82 2332.68 1542.27 Q2334.51 1538.71 2334.51 1531.6 Q2334.51 1524.47 2332.68 1520.93 Q2330.88 1517.37 2327.24 1517.37 M2327.24 1513.66 Q2333.05 1513.66 2336.11 1518.27 Q2339.19 1522.85 2339.19 1531.6 Q2339.19 1540.33 2336.11 1544.94 Q2333.05 1549.52 2327.24 1549.52 Q2321.43 1549.52 2318.35 1544.94 Q2315.3 1540.33 2315.3 1531.6 Q2315.3 1522.85 2318.35 1518.27 Q2321.43 1513.66 2327.24 1513.66 Z\" fill=\"#000000\" fill-rule=\"nonzero\" fill-opacity=\"1\" /><polyline clip-path=\"url(#clip052)\" style=\"stroke:#000000; stroke-linecap:round; stroke-linejoin:round; stroke-width:2; stroke-opacity:0.1; fill:none\" points=\"156.112,1445.72 2352.76,1445.72 \"/>\n",
       "<polyline clip-path=\"url(#clip052)\" style=\"stroke:#000000; stroke-linecap:round; stroke-linejoin:round; stroke-width:2; stroke-opacity:0.1; fill:none\" points=\"156.112,1182.89 2352.76,1182.89 \"/>\n",
       "<polyline clip-path=\"url(#clip052)\" style=\"stroke:#000000; stroke-linecap:round; stroke-linejoin:round; stroke-width:2; stroke-opacity:0.1; fill:none\" points=\"156.112,920.06 2352.76,920.06 \"/>\n",
       "<polyline clip-path=\"url(#clip052)\" style=\"stroke:#000000; stroke-linecap:round; stroke-linejoin:round; stroke-width:2; stroke-opacity:0.1; fill:none\" points=\"156.112,657.233 2352.76,657.233 \"/>\n",
       "<polyline clip-path=\"url(#clip052)\" style=\"stroke:#000000; stroke-linecap:round; stroke-linejoin:round; stroke-width:2; stroke-opacity:0.1; fill:none\" points=\"156.112,394.405 2352.76,394.405 \"/>\n",
       "<polyline clip-path=\"url(#clip052)\" style=\"stroke:#000000; stroke-linecap:round; stroke-linejoin:round; stroke-width:2; stroke-opacity:0.1; fill:none\" points=\"156.112,131.578 2352.76,131.578 \"/>\n",
       "<polyline clip-path=\"url(#clip050)\" style=\"stroke:#000000; stroke-linecap:round; stroke-linejoin:round; stroke-width:4; stroke-opacity:1; fill:none\" points=\"156.112,1486.45 156.112,47.2441 \"/>\n",
       "<polyline clip-path=\"url(#clip050)\" style=\"stroke:#000000; stroke-linecap:round; stroke-linejoin:round; stroke-width:4; stroke-opacity:1; fill:none\" points=\"156.112,1445.72 175.01,1445.72 \"/>\n",
       "<polyline clip-path=\"url(#clip050)\" style=\"stroke:#000000; stroke-linecap:round; stroke-linejoin:round; stroke-width:4; stroke-opacity:1; fill:none\" points=\"156.112,1182.89 175.01,1182.89 \"/>\n",
       "<polyline clip-path=\"url(#clip050)\" style=\"stroke:#000000; stroke-linecap:round; stroke-linejoin:round; stroke-width:4; stroke-opacity:1; fill:none\" points=\"156.112,920.06 175.01,920.06 \"/>\n",
       "<polyline clip-path=\"url(#clip050)\" style=\"stroke:#000000; stroke-linecap:round; stroke-linejoin:round; stroke-width:4; stroke-opacity:1; fill:none\" points=\"156.112,657.233 175.01,657.233 \"/>\n",
       "<polyline clip-path=\"url(#clip050)\" style=\"stroke:#000000; stroke-linecap:round; stroke-linejoin:round; stroke-width:4; stroke-opacity:1; fill:none\" points=\"156.112,394.405 175.01,394.405 \"/>\n",
       "<polyline clip-path=\"url(#clip050)\" style=\"stroke:#000000; stroke-linecap:round; stroke-linejoin:round; stroke-width:4; stroke-opacity:1; fill:none\" points=\"156.112,131.578 175.01,131.578 \"/>\n",
       "<path clip-path=\"url(#clip050)\" d=\"M62.9365 1431.51 Q59.3254 1431.51 57.4967 1435.08 Q55.6912 1438.62 55.6912 1445.75 Q55.6912 1452.86 57.4967 1456.42 Q59.3254 1459.96 62.9365 1459.96 Q66.5707 1459.96 68.3763 1456.42 Q70.205 1452.86 70.205 1445.75 Q70.205 1438.62 68.3763 1435.08 Q66.5707 1431.51 62.9365 1431.51 M62.9365 1427.81 Q68.7467 1427.81 71.8022 1432.42 Q74.8809 1437 74.8809 1445.75 Q74.8809 1454.48 71.8022 1459.08 Q68.7467 1463.67 62.9365 1463.67 Q57.1264 1463.67 54.0477 1459.08 Q50.9921 1454.48 50.9921 1445.75 Q50.9921 1437 54.0477 1432.42 Q57.1264 1427.81 62.9365 1427.81 Z\" fill=\"#000000\" fill-rule=\"nonzero\" fill-opacity=\"1\" /><path clip-path=\"url(#clip050)\" d=\"M83.0984 1457.12 L87.9827 1457.12 L87.9827 1463 L83.0984 1463 L83.0984 1457.12 Z\" fill=\"#000000\" fill-rule=\"nonzero\" fill-opacity=\"1\" /><path clip-path=\"url(#clip050)\" d=\"M108.168 1431.51 Q104.557 1431.51 102.728 1435.08 Q100.922 1438.62 100.922 1445.75 Q100.922 1452.86 102.728 1456.42 Q104.557 1459.96 108.168 1459.96 Q111.802 1459.96 113.608 1456.42 Q115.436 1452.86 115.436 1445.75 Q115.436 1438.62 113.608 1435.08 Q111.802 1431.51 108.168 1431.51 M108.168 1427.81 Q113.978 1427.81 117.033 1432.42 Q120.112 1437 120.112 1445.75 Q120.112 1454.48 117.033 1459.08 Q113.978 1463.67 108.168 1463.67 Q102.358 1463.67 99.2789 1459.08 Q96.2234 1454.48 96.2234 1445.75 Q96.2234 1437 99.2789 1432.42 Q102.358 1427.81 108.168 1427.81 Z\" fill=\"#000000\" fill-rule=\"nonzero\" fill-opacity=\"1\" /><path clip-path=\"url(#clip050)\" d=\"M63.9319 1168.69 Q60.3208 1168.69 58.4921 1172.25 Q56.6865 1175.79 56.6865 1182.92 Q56.6865 1190.03 58.4921 1193.59 Q60.3208 1197.14 63.9319 1197.14 Q67.5661 1197.14 69.3717 1193.59 Q71.2004 1190.03 71.2004 1182.92 Q71.2004 1175.79 69.3717 1172.25 Q67.5661 1168.69 63.9319 1168.69 M63.9319 1164.98 Q69.742 1164.98 72.7976 1169.59 Q75.8763 1174.17 75.8763 1182.92 Q75.8763 1191.65 72.7976 1196.26 Q69.742 1200.84 63.9319 1200.84 Q58.1217 1200.84 55.043 1196.26 Q51.9875 1191.65 51.9875 1182.92 Q51.9875 1174.17 55.043 1169.59 Q58.1217 1164.98 63.9319 1164.98 Z\" fill=\"#000000\" fill-rule=\"nonzero\" fill-opacity=\"1\" /><path clip-path=\"url(#clip050)\" d=\"M84.0938 1194.29 L88.978 1194.29 L88.978 1200.17 L84.0938 1200.17 L84.0938 1194.29 Z\" fill=\"#000000\" fill-rule=\"nonzero\" fill-opacity=\"1\" /><path clip-path=\"url(#clip050)\" d=\"M99.2095 1165.61 L117.566 1165.61 L117.566 1169.54 L103.492 1169.54 L103.492 1178.02 Q104.51 1177.67 105.529 1177.51 Q106.547 1177.32 107.566 1177.32 Q113.353 1177.32 116.733 1180.49 Q120.112 1183.66 120.112 1189.08 Q120.112 1194.66 116.64 1197.76 Q113.168 1200.84 106.848 1200.84 Q104.672 1200.84 102.404 1200.47 Q100.159 1200.1 97.7511 1199.36 L97.7511 1194.66 Q99.8345 1195.79 102.057 1196.35 Q104.279 1196.9 106.756 1196.9 Q110.76 1196.9 113.098 1194.8 Q115.436 1192.69 115.436 1189.08 Q115.436 1185.47 113.098 1183.36 Q110.76 1181.26 106.756 1181.26 Q104.881 1181.26 103.006 1181.67 Q101.154 1182.09 99.2095 1182.97 L99.2095 1165.61 Z\" fill=\"#000000\" fill-rule=\"nonzero\" fill-opacity=\"1\" /><path clip-path=\"url(#clip050)\" d=\"M53.7467 933.405 L61.3856 933.405 L61.3856 907.04 L53.0754 908.706 L53.0754 904.447 L61.3393 902.78 L66.0152 902.78 L66.0152 933.405 L73.654 933.405 L73.654 937.34 L53.7467 937.34 L53.7467 933.405 Z\" fill=\"#000000\" fill-rule=\"nonzero\" fill-opacity=\"1\" /><path clip-path=\"url(#clip050)\" d=\"M83.0984 931.461 L87.9827 931.461 L87.9827 937.34 L83.0984 937.34 L83.0984 931.461 Z\" fill=\"#000000\" fill-rule=\"nonzero\" fill-opacity=\"1\" /><path clip-path=\"url(#clip050)\" d=\"M108.168 905.859 Q104.557 905.859 102.728 909.424 Q100.922 912.966 100.922 920.095 Q100.922 927.202 102.728 930.766 Q104.557 934.308 108.168 934.308 Q111.802 934.308 113.608 930.766 Q115.436 927.202 115.436 920.095 Q115.436 912.966 113.608 909.424 Q111.802 905.859 108.168 905.859 M108.168 902.155 Q113.978 902.155 117.033 906.762 Q120.112 911.345 120.112 920.095 Q120.112 928.822 117.033 933.428 Q113.978 938.012 108.168 938.012 Q102.358 938.012 99.2789 933.428 Q96.2234 928.822 96.2234 920.095 Q96.2234 911.345 99.2789 906.762 Q102.358 902.155 108.168 902.155 Z\" fill=\"#000000\" fill-rule=\"nonzero\" fill-opacity=\"1\" /><path clip-path=\"url(#clip050)\" d=\"M54.7421 670.578 L62.381 670.578 L62.381 644.212 L54.0708 645.879 L54.0708 641.619 L62.3347 639.953 L67.0106 639.953 L67.0106 670.578 L74.6494 670.578 L74.6494 674.513 L54.7421 674.513 L54.7421 670.578 Z\" fill=\"#000000\" fill-rule=\"nonzero\" fill-opacity=\"1\" /><path clip-path=\"url(#clip050)\" d=\"M84.0938 668.633 L88.978 668.633 L88.978 674.513 L84.0938 674.513 L84.0938 668.633 Z\" fill=\"#000000\" fill-rule=\"nonzero\" fill-opacity=\"1\" /><path clip-path=\"url(#clip050)\" d=\"M99.2095 639.953 L117.566 639.953 L117.566 643.888 L103.492 643.888 L103.492 652.36 Q104.51 652.013 105.529 651.851 Q106.547 651.666 107.566 651.666 Q113.353 651.666 116.733 654.837 Q120.112 658.008 120.112 663.425 Q120.112 669.004 116.64 672.105 Q113.168 675.184 106.848 675.184 Q104.672 675.184 102.404 674.814 Q100.159 674.443 97.7511 673.703 L97.7511 669.004 Q99.8345 670.138 102.057 670.693 Q104.279 671.249 106.756 671.249 Q110.76 671.249 113.098 669.142 Q115.436 667.036 115.436 663.425 Q115.436 659.814 113.098 657.707 Q110.76 655.601 106.756 655.601 Q104.881 655.601 103.006 656.018 Q101.154 656.434 99.2095 657.314 L99.2095 639.953 Z\" fill=\"#000000\" fill-rule=\"nonzero\" fill-opacity=\"1\" /><path clip-path=\"url(#clip050)\" d=\"M56.9643 407.75 L73.2837 407.75 L73.2837 411.685 L51.3393 411.685 L51.3393 407.75 Q54.0014 404.995 58.5847 400.366 Q63.1911 395.713 64.3717 394.37 Q66.617 391.847 67.4967 390.111 Q68.3994 388.352 68.3994 386.662 Q68.3994 383.908 66.455 382.171 Q64.5337 380.435 61.4319 380.435 Q59.2328 380.435 56.7791 381.199 Q54.3486 381.963 51.5708 383.514 L51.5708 378.792 Q54.3949 377.658 56.8486 377.079 Q59.3023 376.5 61.3393 376.5 Q66.7096 376.5 69.9041 379.185 Q73.0985 381.871 73.0985 386.361 Q73.0985 388.491 72.2883 390.412 Q71.5013 392.31 69.3948 394.903 Q68.8161 395.574 65.7143 398.792 Q62.6124 401.986 56.9643 407.75 Z\" fill=\"#000000\" fill-rule=\"nonzero\" fill-opacity=\"1\" /><path clip-path=\"url(#clip050)\" d=\"M83.0984 405.806 L87.9827 405.806 L87.9827 411.685 L83.0984 411.685 L83.0984 405.806 Z\" fill=\"#000000\" fill-rule=\"nonzero\" fill-opacity=\"1\" /><path clip-path=\"url(#clip050)\" d=\"M108.168 380.204 Q104.557 380.204 102.728 383.769 Q100.922 387.31 100.922 394.44 Q100.922 401.546 102.728 405.111 Q104.557 408.653 108.168 408.653 Q111.802 408.653 113.608 405.111 Q115.436 401.546 115.436 394.44 Q115.436 387.31 113.608 383.769 Q111.802 380.204 108.168 380.204 M108.168 376.5 Q113.978 376.5 117.033 381.107 Q120.112 385.69 120.112 394.44 Q120.112 403.167 117.033 407.773 Q113.978 412.356 108.168 412.356 Q102.358 412.356 99.2789 407.773 Q96.2234 403.167 96.2234 394.44 Q96.2234 385.69 99.2789 381.107 Q102.358 376.5 108.168 376.5 Z\" fill=\"#000000\" fill-rule=\"nonzero\" fill-opacity=\"1\" /><path clip-path=\"url(#clip050)\" d=\"M57.9597 144.922 L74.279 144.922 L74.279 148.858 L52.3347 148.858 L52.3347 144.922 Q54.9967 142.168 59.58 137.538 Q64.1865 132.885 65.367 131.543 Q67.6124 129.02 68.492 127.284 Q69.3948 125.524 69.3948 123.835 Q69.3948 121.08 67.4504 119.344 Q65.5291 117.608 62.4272 117.608 Q60.2282 117.608 57.7745 118.372 Q55.344 119.136 52.5662 120.686 L52.5662 115.964 Q55.3903 114.83 57.8439 114.251 Q60.2976 113.673 62.3347 113.673 Q67.705 113.673 70.8994 116.358 Q74.0939 119.043 74.0939 123.534 Q74.0939 125.663 73.2837 127.585 Q72.4966 129.483 70.3902 132.075 Q69.8115 132.747 66.7096 135.964 Q63.6078 139.159 57.9597 144.922 Z\" fill=\"#000000\" fill-rule=\"nonzero\" fill-opacity=\"1\" /><path clip-path=\"url(#clip050)\" d=\"M84.0938 142.978 L88.978 142.978 L88.978 148.858 L84.0938 148.858 L84.0938 142.978 Z\" fill=\"#000000\" fill-rule=\"nonzero\" fill-opacity=\"1\" /><path clip-path=\"url(#clip050)\" d=\"M99.2095 114.298 L117.566 114.298 L117.566 118.233 L103.492 118.233 L103.492 126.705 Q104.51 126.358 105.529 126.196 Q106.547 126.01 107.566 126.01 Q113.353 126.01 116.733 129.182 Q120.112 132.353 120.112 137.77 Q120.112 143.348 116.64 146.45 Q113.168 149.529 106.848 149.529 Q104.672 149.529 102.404 149.158 Q100.159 148.788 97.7511 148.047 L97.7511 143.348 Q99.8345 144.483 102.057 145.038 Q104.279 145.594 106.756 145.594 Q110.76 145.594 113.098 143.487 Q115.436 141.381 115.436 137.77 Q115.436 134.159 113.098 132.052 Q110.76 129.946 106.756 129.946 Q104.881 129.946 103.006 130.362 Q101.154 130.779 99.2095 131.659 L99.2095 114.298 Z\" fill=\"#000000\" fill-rule=\"nonzero\" fill-opacity=\"1\" /><polyline clip-path=\"url(#clip052)\" style=\"stroke:#009af9; stroke-linecap:round; stroke-linejoin:round; stroke-width:4; stroke-opacity:1; fill:none\" points=\"218.281,1445.72 234.471,1433.44 250.661,1421.27 266.851,1409.18 283.041,1397.18 299.231,1385.27 315.421,1373.45 331.61,1361.71 347.8,1350.05 363.99,1338.47 380.18,1326.96 396.37,1315.54 412.56,1304.18 428.75,1292.9 444.94,1281.68 461.13,1270.53 477.319,1259.45 493.509,1248.43 509.699,1237.48 525.889,1226.58 542.079,1215.74 558.269,1204.96 574.459,1194.23 590.649,1183.56 606.839,1172.93 623.028,1162.36 639.218,1151.83 655.408,1141.35 671.598,1130.92 687.788,1120.52 703.978,1110.17 720.168,1099.86 736.358,1089.59 752.548,1079.35 768.737,1069.15 784.927,1058.98 801.117,1048.84 817.307,1038.74 833.497,1028.66 849.687,1018.62 865.877,1008.59 882.067,998.596 898.257,988.622 914.446,978.67 930.636,968.739 946.826,958.827 963.016,948.933 979.206,939.056 995.396,929.194 1011.59,919.346 1027.78,909.51 1043.97,899.686 1060.16,889.872 1076.35,880.066 1092.54,870.269 1108.73,860.477 1124.91,850.691 1141.1,840.908 1157.29,831.128 1173.48,821.349 1189.67,811.571 1205.86,801.791 1222.05,792.009 1238.24,782.224 1254.43,772.434 1270.62,762.639 1286.81,752.837 1303,743.027 1319.19,733.208 1335.38,723.378 1351.57,713.537 1367.76,703.684 1383.95,693.817 1400.14,683.936 1416.33,674.039 1432.52,664.125 1448.71,654.193 1464.9,644.242 1481.09,634.271 1497.28,624.279 1513.47,614.265 1529.66,604.228 1545.85,594.166 1562.04,584.08 1578.23,573.967 1594.42,563.827 1610.61,553.658 1626.8,543.46 1642.99,533.232 1659.18,522.972 1675.37,512.68 1691.56,502.355 1707.75,491.995 1723.94,481.6 1740.13,471.169 1756.32,460.7 1772.51,450.193 1788.7,439.647 1804.89,429.06 1821.08,418.432 1837.27,407.762 1853.46,397.049 1869.65,386.292 1885.84,375.489 1902.03,364.641 1918.22,353.745 1934.41,342.802 1950.6,331.809 1966.79,320.767 1982.98,309.674 1999.17,298.529 2015.36,287.331 2031.55,276.079 2047.74,264.773 2063.93,253.412 2080.12,241.993 2096.31,230.517 2112.5,218.983 2128.69,207.389 2144.88,195.735 2161.07,184.02 2177.26,172.242 2193.45,160.401 2209.64,148.496 2225.83,136.526 2242.02,124.49 2258.21,112.387 2274.4,100.216 2290.59,87.9763 \"/>\n",
       "<path clip-path=\"url(#clip050)\" d=\"M229.334 198.898 L810.802 198.898 L810.802 95.2176 L229.334 95.2176  Z\" fill=\"#ffffff\" fill-rule=\"evenodd\" fill-opacity=\"1\"/>\n",
       "<polyline clip-path=\"url(#clip050)\" style=\"stroke:#000000; stroke-linecap:round; stroke-linejoin:round; stroke-width:4; stroke-opacity:1; fill:none\" points=\"229.334,198.898 810.802,198.898 810.802,95.2176 229.334,95.2176 229.334,198.898 \"/>\n",
       "<polyline clip-path=\"url(#clip050)\" style=\"stroke:#009af9; stroke-linecap:round; stroke-linejoin:round; stroke-width:4; stroke-opacity:1; fill:none\" points=\"253.741,147.058 400.184,147.058 \"/>\n",
       "<path clip-path=\"url(#clip050)\" d=\"M446.836 130.912 L446.836 135.472 Q444.174 134.199 441.813 133.574 Q439.452 132.949 437.253 132.949 Q433.433 132.949 431.35 134.43 Q429.29 135.912 429.29 138.643 Q429.29 140.935 430.656 142.115 Q432.044 143.273 435.887 143.99 L438.711 144.569 Q443.943 145.565 446.419 148.088 Q448.919 150.588 448.919 154.801 Q448.919 159.824 445.54 162.416 Q442.183 165.009 435.679 165.009 Q433.225 165.009 430.447 164.453 Q427.693 163.898 424.73 162.81 L424.73 157.995 Q427.577 159.592 430.308 160.402 Q433.04 161.213 435.679 161.213 Q439.683 161.213 441.859 159.639 Q444.035 158.064 444.035 155.148 Q444.035 152.602 442.461 151.166 Q440.91 149.731 437.345 149.014 L434.498 148.458 Q429.267 147.416 426.929 145.194 Q424.591 142.972 424.591 139.014 Q424.591 134.43 427.808 131.791 Q431.049 129.153 436.72 129.153 Q439.151 129.153 441.674 129.592 Q444.197 130.032 446.836 130.912 Z\" fill=\"#000000\" fill-rule=\"nonzero\" fill-opacity=\"1\" /><path clip-path=\"url(#clip050)\" d=\"M466.072 141.398 Q462.646 141.398 460.655 144.083 Q458.665 146.745 458.665 151.398 Q458.665 156.051 460.632 158.736 Q462.623 161.398 466.072 161.398 Q469.475 161.398 471.466 158.713 Q473.456 156.027 473.456 151.398 Q473.456 146.791 471.466 144.106 Q469.475 141.398 466.072 141.398 M466.072 137.787 Q471.628 137.787 474.799 141.398 Q477.97 145.009 477.97 151.398 Q477.97 157.764 474.799 161.398 Q471.628 165.009 466.072 165.009 Q460.493 165.009 457.322 161.398 Q454.174 157.764 454.174 151.398 Q454.174 145.009 457.322 141.398 Q460.493 137.787 466.072 137.787 Z\" fill=\"#000000\" fill-rule=\"nonzero\" fill-opacity=\"1\" /><path clip-path=\"url(#clip050)\" d=\"M485.03 128.319 L489.29 128.319 L489.29 164.338 L485.03 164.338 L485.03 128.319 Z\" fill=\"#000000\" fill-rule=\"nonzero\" fill-opacity=\"1\" /><path clip-path=\"url(#clip050)\" d=\"M497.762 154.106 L497.762 138.412 L502.021 138.412 L502.021 153.944 Q502.021 157.625 503.456 159.476 Q504.891 161.305 507.762 161.305 Q511.211 161.305 513.201 159.106 Q515.215 156.907 515.215 153.111 L515.215 138.412 L519.475 138.412 L519.475 164.338 L515.215 164.338 L515.215 160.356 Q513.664 162.717 511.604 163.875 Q509.567 165.009 506.859 165.009 Q502.391 165.009 500.077 162.231 Q497.762 159.453 497.762 154.106 M508.479 137.787 L508.479 137.787 Z\" fill=\"#000000\" fill-rule=\"nonzero\" fill-opacity=\"1\" /><path clip-path=\"url(#clip050)\" d=\"M532.461 131.051 L532.461 138.412 L541.234 138.412 L541.234 141.722 L532.461 141.722 L532.461 155.796 Q532.461 158.967 533.317 159.87 Q534.197 160.773 536.859 160.773 L541.234 160.773 L541.234 164.338 L536.859 164.338 Q531.928 164.338 530.053 162.509 Q528.178 160.657 528.178 155.796 L528.178 141.722 L525.053 141.722 L525.053 138.412 L528.178 138.412 L528.178 131.051 L532.461 131.051 Z\" fill=\"#000000\" fill-rule=\"nonzero\" fill-opacity=\"1\" /><path clip-path=\"url(#clip050)\" d=\"M546.836 138.412 L551.095 138.412 L551.095 164.338 L546.836 164.338 L546.836 138.412 M546.836 128.319 L551.095 128.319 L551.095 133.713 L546.836 133.713 L546.836 128.319 Z\" fill=\"#000000\" fill-rule=\"nonzero\" fill-opacity=\"1\" /><path clip-path=\"url(#clip050)\" d=\"M570.053 141.398 Q566.627 141.398 564.636 144.083 Q562.646 146.745 562.646 151.398 Q562.646 156.051 564.613 158.736 Q566.604 161.398 570.053 161.398 Q573.456 161.398 575.446 158.713 Q577.437 156.027 577.437 151.398 Q577.437 146.791 575.446 144.106 Q573.456 141.398 570.053 141.398 M570.053 137.787 Q575.609 137.787 578.78 141.398 Q581.951 145.009 581.951 151.398 Q581.951 157.764 578.78 161.398 Q575.609 165.009 570.053 165.009 Q564.474 165.009 561.303 161.398 Q558.155 157.764 558.155 151.398 Q558.155 145.009 561.303 141.398 Q564.474 137.787 570.053 137.787 Z\" fill=\"#000000\" fill-rule=\"nonzero\" fill-opacity=\"1\" /><path clip-path=\"url(#clip050)\" d=\"M610.562 148.689 L610.562 164.338 L606.303 164.338 L606.303 148.828 Q606.303 145.148 604.868 143.319 Q603.432 141.49 600.562 141.49 Q597.113 141.49 595.122 143.69 Q593.132 145.889 593.132 149.685 L593.132 164.338 L588.849 164.338 L588.849 138.412 L593.132 138.412 L593.132 142.44 Q594.659 140.102 596.72 138.944 Q598.803 137.787 601.511 137.787 Q605.979 137.787 608.27 140.565 Q610.562 143.319 610.562 148.689 Z\" fill=\"#000000\" fill-rule=\"nonzero\" fill-opacity=\"1\" /><path clip-path=\"url(#clip050)\" d=\"M656.303 150.31 L656.303 152.393 L636.719 152.393 Q636.997 156.791 639.358 159.106 Q641.742 161.398 645.979 161.398 Q648.432 161.398 650.724 160.796 Q653.039 160.194 655.307 158.99 L655.307 163.018 Q653.016 163.99 650.608 164.5 Q648.201 165.009 645.724 165.009 Q639.52 165.009 635.886 161.398 Q632.275 157.787 632.275 151.629 Q632.275 145.264 635.701 141.537 Q639.15 137.787 644.983 137.787 Q650.215 137.787 653.247 141.166 Q656.303 144.523 656.303 150.31 M652.043 149.06 Q651.997 145.565 650.076 143.481 Q648.178 141.398 645.029 141.398 Q641.465 141.398 639.312 143.412 Q637.182 145.426 636.858 149.083 L652.043 149.06 Z\" fill=\"#000000\" fill-rule=\"nonzero\" fill-opacity=\"1\" /><path clip-path=\"url(#clip050)\" d=\"M684.011 138.412 L674.636 151.027 L684.497 164.338 L679.474 164.338 L671.927 154.152 L664.381 164.338 L659.358 164.338 L669.427 150.773 L660.215 138.412 L665.238 138.412 L672.113 147.648 L678.988 138.412 L684.011 138.412 Z\" fill=\"#000000\" fill-rule=\"nonzero\" fill-opacity=\"1\" /><path clip-path=\"url(#clip050)\" d=\"M702.298 151.305 Q697.136 151.305 695.145 152.486 Q693.154 153.666 693.154 156.514 Q693.154 158.782 694.636 160.125 Q696.14 161.444 698.71 161.444 Q702.251 161.444 704.381 158.944 Q706.534 156.421 706.534 152.254 L706.534 151.305 L702.298 151.305 M710.793 149.546 L710.793 164.338 L706.534 164.338 L706.534 160.402 Q705.075 162.763 702.9 163.898 Q700.724 165.009 697.575 165.009 Q693.594 165.009 691.233 162.787 Q688.895 160.541 688.895 156.791 Q688.895 152.416 691.812 150.194 Q694.751 147.972 700.562 147.972 L706.534 147.972 L706.534 147.555 Q706.534 144.615 704.589 143.018 Q702.668 141.398 699.173 141.398 Q696.95 141.398 694.844 141.93 Q692.738 142.463 690.793 143.527 L690.793 139.592 Q693.131 138.69 695.33 138.25 Q697.529 137.787 699.612 137.787 Q705.237 137.787 708.015 140.703 Q710.793 143.62 710.793 149.546 Z\" fill=\"#000000\" fill-rule=\"nonzero\" fill-opacity=\"1\" /><path clip-path=\"url(#clip050)\" d=\"M738.223 139.407 L738.223 143.389 Q736.418 142.393 734.589 141.907 Q732.784 141.398 730.932 141.398 Q726.788 141.398 724.497 144.037 Q722.205 146.652 722.205 151.398 Q722.205 156.143 724.497 158.782 Q726.788 161.398 730.932 161.398 Q732.784 161.398 734.589 160.912 Q736.418 160.402 738.223 159.407 L738.223 163.342 Q736.441 164.176 734.52 164.592 Q732.622 165.009 730.469 165.009 Q724.612 165.009 721.163 161.328 Q717.714 157.648 717.714 151.398 Q717.714 145.055 721.186 141.421 Q724.682 137.787 730.747 137.787 Q732.714 137.787 734.589 138.203 Q736.464 138.597 738.223 139.407 Z\" fill=\"#000000\" fill-rule=\"nonzero\" fill-opacity=\"1\" /><path clip-path=\"url(#clip050)\" d=\"M749.844 131.051 L749.844 138.412 L758.617 138.412 L758.617 141.722 L749.844 141.722 L749.844 155.796 Q749.844 158.967 750.7 159.87 Q751.58 160.773 754.242 160.773 L758.617 160.773 L758.617 164.338 L754.242 164.338 Q749.311 164.338 747.436 162.509 Q745.561 160.657 745.561 155.796 L745.561 141.722 L742.436 141.722 L742.436 138.412 L745.561 138.412 L745.561 131.051 L749.844 131.051 Z\" fill=\"#000000\" fill-rule=\"nonzero\" fill-opacity=\"1\" /><path clip-path=\"url(#clip050)\" d=\"M786.394 150.31 L786.394 152.393 L766.811 152.393 Q767.089 156.791 769.45 159.106 Q771.834 161.398 776.07 161.398 Q778.524 161.398 780.816 160.796 Q783.131 160.194 785.399 158.99 L785.399 163.018 Q783.107 163.99 780.7 164.5 Q778.293 165.009 775.816 165.009 Q769.612 165.009 765.978 161.398 Q762.367 157.787 762.367 151.629 Q762.367 145.264 765.793 141.537 Q769.242 137.787 775.075 137.787 Q780.306 137.787 783.339 141.166 Q786.394 144.523 786.394 150.31 M782.135 149.06 Q782.089 145.565 780.168 143.481 Q778.269 141.398 775.121 141.398 Q771.557 141.398 769.404 143.412 Q767.274 145.426 766.95 149.083 L782.135 149.06 Z\" fill=\"#000000\" fill-rule=\"nonzero\" fill-opacity=\"1\" /></svg>\n"
      ],
      "text/html": [
       "<?xml version=\"1.0\" encoding=\"utf-8\"?>\n",
       "<svg xmlns=\"http://www.w3.org/2000/svg\" xmlns:xlink=\"http://www.w3.org/1999/xlink\" width=\"600\" height=\"400\" viewBox=\"0 0 2400 1600\">\n",
       "<defs>\n",
       "  <clipPath id=\"clip100\">\n",
       "    <rect x=\"0\" y=\"0\" width=\"2400\" height=\"1600\"/>\n",
       "  </clipPath>\n",
       "</defs>\n",
       "<path clip-path=\"url(#clip100)\" d=\"M0 1600 L2400 1600 L2400 0 L0 0  Z\" fill=\"#ffffff\" fill-rule=\"evenodd\" fill-opacity=\"1\"/>\n",
       "<defs>\n",
       "  <clipPath id=\"clip101\">\n",
       "    <rect x=\"480\" y=\"0\" width=\"1681\" height=\"1600\"/>\n",
       "  </clipPath>\n",
       "</defs>\n",
       "<path clip-path=\"url(#clip100)\" d=\"M156.112 1486.45 L2352.76 1486.45 L2352.76 47.2441 L156.112 47.2441  Z\" fill=\"#ffffff\" fill-rule=\"evenodd\" fill-opacity=\"1\"/>\n",
       "<defs>\n",
       "  <clipPath id=\"clip102\">\n",
       "    <rect x=\"156\" y=\"47\" width=\"2198\" height=\"1440\"/>\n",
       "  </clipPath>\n",
       "</defs>\n",
       "<polyline clip-path=\"url(#clip102)\" style=\"stroke:#000000; stroke-linecap:round; stroke-linejoin:round; stroke-width:2; stroke-opacity:0.1; fill:none\" points=\"218.281,1486.45 218.281,47.2441 \"/>\n",
       "<polyline clip-path=\"url(#clip102)\" style=\"stroke:#000000; stroke-linecap:round; stroke-linejoin:round; stroke-width:2; stroke-opacity:0.1; fill:none\" points=\"736.358,1486.45 736.358,47.2441 \"/>\n",
       "<polyline clip-path=\"url(#clip102)\" style=\"stroke:#000000; stroke-linecap:round; stroke-linejoin:round; stroke-width:2; stroke-opacity:0.1; fill:none\" points=\"1254.43,1486.45 1254.43,47.2441 \"/>\n",
       "<polyline clip-path=\"url(#clip102)\" style=\"stroke:#000000; stroke-linecap:round; stroke-linejoin:round; stroke-width:2; stroke-opacity:0.1; fill:none\" points=\"1772.51,1486.45 1772.51,47.2441 \"/>\n",
       "<polyline clip-path=\"url(#clip102)\" style=\"stroke:#000000; stroke-linecap:round; stroke-linejoin:round; stroke-width:2; stroke-opacity:0.1; fill:none\" points=\"2290.59,1486.45 2290.59,47.2441 \"/>\n",
       "<polyline clip-path=\"url(#clip100)\" style=\"stroke:#000000; stroke-linecap:round; stroke-linejoin:round; stroke-width:4; stroke-opacity:1; fill:none\" points=\"156.112,1486.45 2352.76,1486.45 \"/>\n",
       "<polyline clip-path=\"url(#clip100)\" style=\"stroke:#000000; stroke-linecap:round; stroke-linejoin:round; stroke-width:4; stroke-opacity:1; fill:none\" points=\"218.281,1486.45 218.281,1467.55 \"/>\n",
       "<polyline clip-path=\"url(#clip100)\" style=\"stroke:#000000; stroke-linecap:round; stroke-linejoin:round; stroke-width:4; stroke-opacity:1; fill:none\" points=\"736.358,1486.45 736.358,1467.55 \"/>\n",
       "<polyline clip-path=\"url(#clip100)\" style=\"stroke:#000000; stroke-linecap:round; stroke-linejoin:round; stroke-width:4; stroke-opacity:1; fill:none\" points=\"1254.43,1486.45 1254.43,1467.55 \"/>\n",
       "<polyline clip-path=\"url(#clip100)\" style=\"stroke:#000000; stroke-linecap:round; stroke-linejoin:round; stroke-width:4; stroke-opacity:1; fill:none\" points=\"1772.51,1486.45 1772.51,1467.55 \"/>\n",
       "<polyline clip-path=\"url(#clip100)\" style=\"stroke:#000000; stroke-linecap:round; stroke-linejoin:round; stroke-width:4; stroke-opacity:1; fill:none\" points=\"2290.59,1486.45 2290.59,1467.55 \"/>\n",
       "<path clip-path=\"url(#clip100)\" d=\"M180.585 1517.37 Q176.974 1517.37 175.145 1520.93 Q173.339 1524.47 173.339 1531.6 Q173.339 1538.71 175.145 1542.27 Q176.974 1545.82 180.585 1545.82 Q184.219 1545.82 186.025 1542.27 Q187.853 1538.71 187.853 1531.6 Q187.853 1524.47 186.025 1520.93 Q184.219 1517.37 180.585 1517.37 M180.585 1513.66 Q186.395 1513.66 189.45 1518.27 Q192.529 1522.85 192.529 1531.6 Q192.529 1540.33 189.45 1544.94 Q186.395 1549.52 180.585 1549.52 Q174.775 1549.52 171.696 1544.94 Q168.64 1540.33 168.64 1531.6 Q168.64 1522.85 171.696 1518.27 Q174.775 1513.66 180.585 1513.66 Z\" fill=\"#000000\" fill-rule=\"nonzero\" fill-opacity=\"1\" /><path clip-path=\"url(#clip100)\" d=\"M200.747 1542.97 L205.631 1542.97 L205.631 1548.85 L200.747 1548.85 L200.747 1542.97 Z\" fill=\"#000000\" fill-rule=\"nonzero\" fill-opacity=\"1\" /><path clip-path=\"url(#clip100)\" d=\"M225.816 1517.37 Q222.205 1517.37 220.376 1520.93 Q218.571 1524.47 218.571 1531.6 Q218.571 1538.71 220.376 1542.27 Q222.205 1545.82 225.816 1545.82 Q229.45 1545.82 231.256 1542.27 Q233.084 1538.71 233.084 1531.6 Q233.084 1524.47 231.256 1520.93 Q229.45 1517.37 225.816 1517.37 M225.816 1513.66 Q231.626 1513.66 234.682 1518.27 Q237.76 1522.85 237.76 1531.6 Q237.76 1540.33 234.682 1544.94 Q231.626 1549.52 225.816 1549.52 Q220.006 1549.52 216.927 1544.94 Q213.872 1540.33 213.872 1531.6 Q213.872 1522.85 216.927 1518.27 Q220.006 1513.66 225.816 1513.66 Z\" fill=\"#000000\" fill-rule=\"nonzero\" fill-opacity=\"1\" /><path clip-path=\"url(#clip100)\" d=\"M255.978 1517.37 Q252.367 1517.37 250.538 1520.93 Q248.733 1524.47 248.733 1531.6 Q248.733 1538.71 250.538 1542.27 Q252.367 1545.82 255.978 1545.82 Q259.612 1545.82 261.418 1542.27 Q263.246 1538.71 263.246 1531.6 Q263.246 1524.47 261.418 1520.93 Q259.612 1517.37 255.978 1517.37 M255.978 1513.66 Q261.788 1513.66 264.844 1518.27 Q267.922 1522.85 267.922 1531.6 Q267.922 1540.33 264.844 1544.94 Q261.788 1549.52 255.978 1549.52 Q250.168 1549.52 247.089 1544.94 Q244.033 1540.33 244.033 1531.6 Q244.033 1522.85 247.089 1518.27 Q250.168 1513.66 255.978 1513.66 Z\" fill=\"#000000\" fill-rule=\"nonzero\" fill-opacity=\"1\" /><path clip-path=\"url(#clip100)\" d=\"M699.159 1517.37 Q695.548 1517.37 693.719 1520.93 Q691.913 1524.47 691.913 1531.6 Q691.913 1538.71 693.719 1542.27 Q695.548 1545.82 699.159 1545.82 Q702.793 1545.82 704.599 1542.27 Q706.427 1538.71 706.427 1531.6 Q706.427 1524.47 704.599 1520.93 Q702.793 1517.37 699.159 1517.37 M699.159 1513.66 Q704.969 1513.66 708.024 1518.27 Q711.103 1522.85 711.103 1531.6 Q711.103 1540.33 708.024 1544.94 Q704.969 1549.52 699.159 1549.52 Q693.349 1549.52 690.27 1544.94 Q687.214 1540.33 687.214 1531.6 Q687.214 1522.85 690.27 1518.27 Q693.349 1513.66 699.159 1513.66 Z\" fill=\"#000000\" fill-rule=\"nonzero\" fill-opacity=\"1\" /><path clip-path=\"url(#clip100)\" d=\"M719.321 1542.97 L724.205 1542.97 L724.205 1548.85 L719.321 1548.85 L719.321 1542.97 Z\" fill=\"#000000\" fill-rule=\"nonzero\" fill-opacity=\"1\" /><path clip-path=\"url(#clip100)\" d=\"M738.418 1544.91 L754.737 1544.91 L754.737 1548.85 L732.793 1548.85 L732.793 1544.91 Q735.455 1542.16 740.038 1537.53 Q744.645 1532.88 745.825 1531.53 Q748.071 1529.01 748.95 1527.27 Q749.853 1525.51 749.853 1523.82 Q749.853 1521.07 747.909 1519.33 Q745.987 1517.6 742.885 1517.6 Q740.686 1517.6 738.233 1518.36 Q735.802 1519.13 733.024 1520.68 L733.024 1515.95 Q735.848 1514.82 738.302 1514.24 Q740.756 1513.66 742.793 1513.66 Q748.163 1513.66 751.358 1516.35 Q754.552 1519.03 754.552 1523.52 Q754.552 1525.65 753.742 1527.57 Q752.955 1529.47 750.848 1532.07 Q750.27 1532.74 747.168 1535.95 Q744.066 1539.15 738.418 1544.91 Z\" fill=\"#000000\" fill-rule=\"nonzero\" fill-opacity=\"1\" /><path clip-path=\"url(#clip100)\" d=\"M764.598 1514.29 L782.955 1514.29 L782.955 1518.22 L768.881 1518.22 L768.881 1526.7 Q769.899 1526.35 770.918 1526.19 Q771.936 1526 772.955 1526 Q778.742 1526 782.121 1529.17 Q785.501 1532.34 785.501 1537.76 Q785.501 1543.34 782.029 1546.44 Q778.557 1549.52 772.237 1549.52 Q770.061 1549.52 767.793 1549.15 Q765.547 1548.78 763.14 1548.04 L763.14 1543.34 Q765.223 1544.47 767.445 1545.03 Q769.668 1545.58 772.144 1545.58 Q776.149 1545.58 778.487 1543.48 Q780.825 1541.37 780.825 1537.76 Q780.825 1534.15 778.487 1532.04 Q776.149 1529.94 772.144 1529.94 Q770.27 1529.94 768.395 1530.35 Q766.543 1530.77 764.598 1531.65 L764.598 1514.29 Z\" fill=\"#000000\" fill-rule=\"nonzero\" fill-opacity=\"1\" /><path clip-path=\"url(#clip100)\" d=\"M1216.74 1517.37 Q1213.13 1517.37 1211.3 1520.93 Q1209.49 1524.47 1209.49 1531.6 Q1209.49 1538.71 1211.3 1542.27 Q1213.13 1545.82 1216.74 1545.82 Q1220.37 1545.82 1222.18 1542.27 Q1224.01 1538.71 1224.01 1531.6 Q1224.01 1524.47 1222.18 1520.93 Q1220.37 1517.37 1216.74 1517.37 M1216.74 1513.66 Q1222.55 1513.66 1225.6 1518.27 Q1228.68 1522.85 1228.68 1531.6 Q1228.68 1540.33 1225.6 1544.94 Q1222.55 1549.52 1216.74 1549.52 Q1210.93 1549.52 1207.85 1544.94 Q1204.79 1540.33 1204.79 1531.6 Q1204.79 1522.85 1207.85 1518.27 Q1210.93 1513.66 1216.74 1513.66 Z\" fill=\"#000000\" fill-rule=\"nonzero\" fill-opacity=\"1\" /><path clip-path=\"url(#clip100)\" d=\"M1236.9 1542.97 L1241.78 1542.97 L1241.78 1548.85 L1236.9 1548.85 L1236.9 1542.97 Z\" fill=\"#000000\" fill-rule=\"nonzero\" fill-opacity=\"1\" /><path clip-path=\"url(#clip100)\" d=\"M1252.02 1514.29 L1270.37 1514.29 L1270.37 1518.22 L1256.3 1518.22 L1256.3 1526.7 Q1257.32 1526.35 1258.33 1526.19 Q1259.35 1526 1260.37 1526 Q1266.16 1526 1269.54 1529.17 Q1272.92 1532.34 1272.92 1537.76 Q1272.92 1543.34 1269.45 1546.44 Q1265.97 1549.52 1259.65 1549.52 Q1257.48 1549.52 1255.21 1549.15 Q1252.96 1548.78 1250.56 1548.04 L1250.56 1543.34 Q1252.64 1544.47 1254.86 1545.03 Q1257.08 1545.58 1259.56 1545.58 Q1263.57 1545.58 1265.9 1543.48 Q1268.24 1541.37 1268.24 1537.76 Q1268.24 1534.15 1265.9 1532.04 Q1263.57 1529.94 1259.56 1529.94 Q1257.69 1529.94 1255.81 1530.35 Q1253.96 1530.77 1252.02 1531.65 L1252.02 1514.29 Z\" fill=\"#000000\" fill-rule=\"nonzero\" fill-opacity=\"1\" /><path clip-path=\"url(#clip100)\" d=\"M1292.13 1517.37 Q1288.52 1517.37 1286.69 1520.93 Q1284.89 1524.47 1284.89 1531.6 Q1284.89 1538.71 1286.69 1542.27 Q1288.52 1545.82 1292.13 1545.82 Q1295.76 1545.82 1297.57 1542.27 Q1299.4 1538.71 1299.4 1531.6 Q1299.4 1524.47 1297.57 1520.93 Q1295.76 1517.37 1292.13 1517.37 M1292.13 1513.66 Q1297.94 1513.66 1301 1518.27 Q1304.07 1522.85 1304.07 1531.6 Q1304.07 1540.33 1301 1544.94 Q1297.94 1549.52 1292.13 1549.52 Q1286.32 1549.52 1283.24 1544.94 Q1280.19 1540.33 1280.19 1531.6 Q1280.19 1522.85 1283.24 1518.27 Q1286.32 1513.66 1292.13 1513.66 Z\" fill=\"#000000\" fill-rule=\"nonzero\" fill-opacity=\"1\" /><path clip-path=\"url(#clip100)\" d=\"M1735.31 1517.37 Q1731.7 1517.37 1729.87 1520.93 Q1728.07 1524.47 1728.07 1531.6 Q1728.07 1538.71 1729.87 1542.27 Q1731.7 1545.82 1735.31 1545.82 Q1738.95 1545.82 1740.75 1542.27 Q1742.58 1538.71 1742.58 1531.6 Q1742.58 1524.47 1740.75 1520.93 Q1738.95 1517.37 1735.31 1517.37 M1735.31 1513.66 Q1741.12 1513.66 1744.18 1518.27 Q1747.26 1522.85 1747.26 1531.6 Q1747.26 1540.33 1744.18 1544.94 Q1741.12 1549.52 1735.31 1549.52 Q1729.5 1549.52 1726.42 1544.94 Q1723.37 1540.33 1723.37 1531.6 Q1723.37 1522.85 1726.42 1518.27 Q1729.5 1513.66 1735.31 1513.66 Z\" fill=\"#000000\" fill-rule=\"nonzero\" fill-opacity=\"1\" /><path clip-path=\"url(#clip100)\" d=\"M1755.47 1542.97 L1760.36 1542.97 L1760.36 1548.85 L1755.47 1548.85 L1755.47 1542.97 Z\" fill=\"#000000\" fill-rule=\"nonzero\" fill-opacity=\"1\" /><path clip-path=\"url(#clip100)\" d=\"M1769.36 1514.29 L1791.58 1514.29 L1791.58 1516.28 L1779.04 1548.85 L1774.15 1548.85 L1785.96 1518.22 L1769.36 1518.22 L1769.36 1514.29 Z\" fill=\"#000000\" fill-rule=\"nonzero\" fill-opacity=\"1\" /><path clip-path=\"url(#clip100)\" d=\"M1800.75 1514.29 L1819.11 1514.29 L1819.11 1518.22 L1805.03 1518.22 L1805.03 1526.7 Q1806.05 1526.35 1807.07 1526.19 Q1808.09 1526 1809.11 1526 Q1814.89 1526 1818.27 1529.17 Q1821.65 1532.34 1821.65 1537.76 Q1821.65 1543.34 1818.18 1546.44 Q1814.71 1549.52 1808.39 1549.52 Q1806.21 1549.52 1803.95 1549.15 Q1801.7 1548.78 1799.29 1548.04 L1799.29 1543.34 Q1801.38 1544.47 1803.6 1545.03 Q1805.82 1545.58 1808.3 1545.58 Q1812.3 1545.58 1814.64 1543.48 Q1816.98 1541.37 1816.98 1537.76 Q1816.98 1534.15 1814.64 1532.04 Q1812.3 1529.94 1808.3 1529.94 Q1806.42 1529.94 1804.55 1530.35 Q1802.7 1530.77 1800.75 1531.65 L1800.75 1514.29 Z\" fill=\"#000000\" fill-rule=\"nonzero\" fill-opacity=\"1\" /><path clip-path=\"url(#clip100)\" d=\"M2242.66 1544.91 L2250.3 1544.91 L2250.3 1518.55 L2241.99 1520.21 L2241.99 1515.95 L2250.25 1514.29 L2254.93 1514.29 L2254.93 1544.91 L2262.57 1544.91 L2262.57 1548.85 L2242.66 1548.85 L2242.66 1544.91 Z\" fill=\"#000000\" fill-rule=\"nonzero\" fill-opacity=\"1\" /><path clip-path=\"url(#clip100)\" d=\"M2272.01 1542.97 L2276.89 1542.97 L2276.89 1548.85 L2272.01 1548.85 L2272.01 1542.97 Z\" fill=\"#000000\" fill-rule=\"nonzero\" fill-opacity=\"1\" /><path clip-path=\"url(#clip100)\" d=\"M2297.08 1517.37 Q2293.47 1517.37 2291.64 1520.93 Q2289.83 1524.47 2289.83 1531.6 Q2289.83 1538.71 2291.64 1542.27 Q2293.47 1545.82 2297.08 1545.82 Q2300.71 1545.82 2302.52 1542.27 Q2304.35 1538.71 2304.35 1531.6 Q2304.35 1524.47 2302.52 1520.93 Q2300.71 1517.37 2297.08 1517.37 M2297.08 1513.66 Q2302.89 1513.66 2305.95 1518.27 Q2309.02 1522.85 2309.02 1531.6 Q2309.02 1540.33 2305.95 1544.94 Q2302.89 1549.52 2297.08 1549.52 Q2291.27 1549.52 2288.19 1544.94 Q2285.14 1540.33 2285.14 1531.6 Q2285.14 1522.85 2288.19 1518.27 Q2291.27 1513.66 2297.08 1513.66 Z\" fill=\"#000000\" fill-rule=\"nonzero\" fill-opacity=\"1\" /><path clip-path=\"url(#clip100)\" d=\"M2327.24 1517.37 Q2323.63 1517.37 2321.8 1520.93 Q2320 1524.47 2320 1531.6 Q2320 1538.71 2321.8 1542.27 Q2323.63 1545.82 2327.24 1545.82 Q2330.88 1545.82 2332.68 1542.27 Q2334.51 1538.71 2334.51 1531.6 Q2334.51 1524.47 2332.68 1520.93 Q2330.88 1517.37 2327.24 1517.37 M2327.24 1513.66 Q2333.05 1513.66 2336.11 1518.27 Q2339.19 1522.85 2339.19 1531.6 Q2339.19 1540.33 2336.11 1544.94 Q2333.05 1549.52 2327.24 1549.52 Q2321.43 1549.52 2318.35 1544.94 Q2315.3 1540.33 2315.3 1531.6 Q2315.3 1522.85 2318.35 1518.27 Q2321.43 1513.66 2327.24 1513.66 Z\" fill=\"#000000\" fill-rule=\"nonzero\" fill-opacity=\"1\" /><polyline clip-path=\"url(#clip102)\" style=\"stroke:#000000; stroke-linecap:round; stroke-linejoin:round; stroke-width:2; stroke-opacity:0.1; fill:none\" points=\"156.112,1445.72 2352.76,1445.72 \"/>\n",
       "<polyline clip-path=\"url(#clip102)\" style=\"stroke:#000000; stroke-linecap:round; stroke-linejoin:round; stroke-width:2; stroke-opacity:0.1; fill:none\" points=\"156.112,1182.89 2352.76,1182.89 \"/>\n",
       "<polyline clip-path=\"url(#clip102)\" style=\"stroke:#000000; stroke-linecap:round; stroke-linejoin:round; stroke-width:2; stroke-opacity:0.1; fill:none\" points=\"156.112,920.06 2352.76,920.06 \"/>\n",
       "<polyline clip-path=\"url(#clip102)\" style=\"stroke:#000000; stroke-linecap:round; stroke-linejoin:round; stroke-width:2; stroke-opacity:0.1; fill:none\" points=\"156.112,657.233 2352.76,657.233 \"/>\n",
       "<polyline clip-path=\"url(#clip102)\" style=\"stroke:#000000; stroke-linecap:round; stroke-linejoin:round; stroke-width:2; stroke-opacity:0.1; fill:none\" points=\"156.112,394.405 2352.76,394.405 \"/>\n",
       "<polyline clip-path=\"url(#clip102)\" style=\"stroke:#000000; stroke-linecap:round; stroke-linejoin:round; stroke-width:2; stroke-opacity:0.1; fill:none\" points=\"156.112,131.578 2352.76,131.578 \"/>\n",
       "<polyline clip-path=\"url(#clip100)\" style=\"stroke:#000000; stroke-linecap:round; stroke-linejoin:round; stroke-width:4; stroke-opacity:1; fill:none\" points=\"156.112,1486.45 156.112,47.2441 \"/>\n",
       "<polyline clip-path=\"url(#clip100)\" style=\"stroke:#000000; stroke-linecap:round; stroke-linejoin:round; stroke-width:4; stroke-opacity:1; fill:none\" points=\"156.112,1445.72 175.01,1445.72 \"/>\n",
       "<polyline clip-path=\"url(#clip100)\" style=\"stroke:#000000; stroke-linecap:round; stroke-linejoin:round; stroke-width:4; stroke-opacity:1; fill:none\" points=\"156.112,1182.89 175.01,1182.89 \"/>\n",
       "<polyline clip-path=\"url(#clip100)\" style=\"stroke:#000000; stroke-linecap:round; stroke-linejoin:round; stroke-width:4; stroke-opacity:1; fill:none\" points=\"156.112,920.06 175.01,920.06 \"/>\n",
       "<polyline clip-path=\"url(#clip100)\" style=\"stroke:#000000; stroke-linecap:round; stroke-linejoin:round; stroke-width:4; stroke-opacity:1; fill:none\" points=\"156.112,657.233 175.01,657.233 \"/>\n",
       "<polyline clip-path=\"url(#clip100)\" style=\"stroke:#000000; stroke-linecap:round; stroke-linejoin:round; stroke-width:4; stroke-opacity:1; fill:none\" points=\"156.112,394.405 175.01,394.405 \"/>\n",
       "<polyline clip-path=\"url(#clip100)\" style=\"stroke:#000000; stroke-linecap:round; stroke-linejoin:round; stroke-width:4; stroke-opacity:1; fill:none\" points=\"156.112,131.578 175.01,131.578 \"/>\n",
       "<path clip-path=\"url(#clip100)\" d=\"M62.9365 1431.51 Q59.3254 1431.51 57.4967 1435.08 Q55.6912 1438.62 55.6912 1445.75 Q55.6912 1452.86 57.4967 1456.42 Q59.3254 1459.96 62.9365 1459.96 Q66.5707 1459.96 68.3763 1456.42 Q70.205 1452.86 70.205 1445.75 Q70.205 1438.62 68.3763 1435.08 Q66.5707 1431.51 62.9365 1431.51 M62.9365 1427.81 Q68.7467 1427.81 71.8022 1432.42 Q74.8809 1437 74.8809 1445.75 Q74.8809 1454.48 71.8022 1459.08 Q68.7467 1463.67 62.9365 1463.67 Q57.1264 1463.67 54.0477 1459.08 Q50.9921 1454.48 50.9921 1445.75 Q50.9921 1437 54.0477 1432.42 Q57.1264 1427.81 62.9365 1427.81 Z\" fill=\"#000000\" fill-rule=\"nonzero\" fill-opacity=\"1\" /><path clip-path=\"url(#clip100)\" d=\"M83.0984 1457.12 L87.9827 1457.12 L87.9827 1463 L83.0984 1463 L83.0984 1457.12 Z\" fill=\"#000000\" fill-rule=\"nonzero\" fill-opacity=\"1\" /><path clip-path=\"url(#clip100)\" d=\"M108.168 1431.51 Q104.557 1431.51 102.728 1435.08 Q100.922 1438.62 100.922 1445.75 Q100.922 1452.86 102.728 1456.42 Q104.557 1459.96 108.168 1459.96 Q111.802 1459.96 113.608 1456.42 Q115.436 1452.86 115.436 1445.75 Q115.436 1438.62 113.608 1435.08 Q111.802 1431.51 108.168 1431.51 M108.168 1427.81 Q113.978 1427.81 117.033 1432.42 Q120.112 1437 120.112 1445.75 Q120.112 1454.48 117.033 1459.08 Q113.978 1463.67 108.168 1463.67 Q102.358 1463.67 99.2789 1459.08 Q96.2234 1454.48 96.2234 1445.75 Q96.2234 1437 99.2789 1432.42 Q102.358 1427.81 108.168 1427.81 Z\" fill=\"#000000\" fill-rule=\"nonzero\" fill-opacity=\"1\" /><path clip-path=\"url(#clip100)\" d=\"M63.9319 1168.69 Q60.3208 1168.69 58.4921 1172.25 Q56.6865 1175.79 56.6865 1182.92 Q56.6865 1190.03 58.4921 1193.59 Q60.3208 1197.14 63.9319 1197.14 Q67.5661 1197.14 69.3717 1193.59 Q71.2004 1190.03 71.2004 1182.92 Q71.2004 1175.79 69.3717 1172.25 Q67.5661 1168.69 63.9319 1168.69 M63.9319 1164.98 Q69.742 1164.98 72.7976 1169.59 Q75.8763 1174.17 75.8763 1182.92 Q75.8763 1191.65 72.7976 1196.26 Q69.742 1200.84 63.9319 1200.84 Q58.1217 1200.84 55.043 1196.26 Q51.9875 1191.65 51.9875 1182.92 Q51.9875 1174.17 55.043 1169.59 Q58.1217 1164.98 63.9319 1164.98 Z\" fill=\"#000000\" fill-rule=\"nonzero\" fill-opacity=\"1\" /><path clip-path=\"url(#clip100)\" d=\"M84.0938 1194.29 L88.978 1194.29 L88.978 1200.17 L84.0938 1200.17 L84.0938 1194.29 Z\" fill=\"#000000\" fill-rule=\"nonzero\" fill-opacity=\"1\" /><path clip-path=\"url(#clip100)\" d=\"M99.2095 1165.61 L117.566 1165.61 L117.566 1169.54 L103.492 1169.54 L103.492 1178.02 Q104.51 1177.67 105.529 1177.51 Q106.547 1177.32 107.566 1177.32 Q113.353 1177.32 116.733 1180.49 Q120.112 1183.66 120.112 1189.08 Q120.112 1194.66 116.64 1197.76 Q113.168 1200.84 106.848 1200.84 Q104.672 1200.84 102.404 1200.47 Q100.159 1200.1 97.7511 1199.36 L97.7511 1194.66 Q99.8345 1195.79 102.057 1196.35 Q104.279 1196.9 106.756 1196.9 Q110.76 1196.9 113.098 1194.8 Q115.436 1192.69 115.436 1189.08 Q115.436 1185.47 113.098 1183.36 Q110.76 1181.26 106.756 1181.26 Q104.881 1181.26 103.006 1181.67 Q101.154 1182.09 99.2095 1182.97 L99.2095 1165.61 Z\" fill=\"#000000\" fill-rule=\"nonzero\" fill-opacity=\"1\" /><path clip-path=\"url(#clip100)\" d=\"M53.7467 933.405 L61.3856 933.405 L61.3856 907.04 L53.0754 908.706 L53.0754 904.447 L61.3393 902.78 L66.0152 902.78 L66.0152 933.405 L73.654 933.405 L73.654 937.34 L53.7467 937.34 L53.7467 933.405 Z\" fill=\"#000000\" fill-rule=\"nonzero\" fill-opacity=\"1\" /><path clip-path=\"url(#clip100)\" d=\"M83.0984 931.461 L87.9827 931.461 L87.9827 937.34 L83.0984 937.34 L83.0984 931.461 Z\" fill=\"#000000\" fill-rule=\"nonzero\" fill-opacity=\"1\" /><path clip-path=\"url(#clip100)\" d=\"M108.168 905.859 Q104.557 905.859 102.728 909.424 Q100.922 912.966 100.922 920.095 Q100.922 927.202 102.728 930.766 Q104.557 934.308 108.168 934.308 Q111.802 934.308 113.608 930.766 Q115.436 927.202 115.436 920.095 Q115.436 912.966 113.608 909.424 Q111.802 905.859 108.168 905.859 M108.168 902.155 Q113.978 902.155 117.033 906.762 Q120.112 911.345 120.112 920.095 Q120.112 928.822 117.033 933.428 Q113.978 938.012 108.168 938.012 Q102.358 938.012 99.2789 933.428 Q96.2234 928.822 96.2234 920.095 Q96.2234 911.345 99.2789 906.762 Q102.358 902.155 108.168 902.155 Z\" fill=\"#000000\" fill-rule=\"nonzero\" fill-opacity=\"1\" /><path clip-path=\"url(#clip100)\" d=\"M54.7421 670.578 L62.381 670.578 L62.381 644.212 L54.0708 645.879 L54.0708 641.619 L62.3347 639.953 L67.0106 639.953 L67.0106 670.578 L74.6494 670.578 L74.6494 674.513 L54.7421 674.513 L54.7421 670.578 Z\" fill=\"#000000\" fill-rule=\"nonzero\" fill-opacity=\"1\" /><path clip-path=\"url(#clip100)\" d=\"M84.0938 668.633 L88.978 668.633 L88.978 674.513 L84.0938 674.513 L84.0938 668.633 Z\" fill=\"#000000\" fill-rule=\"nonzero\" fill-opacity=\"1\" /><path clip-path=\"url(#clip100)\" d=\"M99.2095 639.953 L117.566 639.953 L117.566 643.888 L103.492 643.888 L103.492 652.36 Q104.51 652.013 105.529 651.851 Q106.547 651.666 107.566 651.666 Q113.353 651.666 116.733 654.837 Q120.112 658.008 120.112 663.425 Q120.112 669.004 116.64 672.105 Q113.168 675.184 106.848 675.184 Q104.672 675.184 102.404 674.814 Q100.159 674.443 97.7511 673.703 L97.7511 669.004 Q99.8345 670.138 102.057 670.693 Q104.279 671.249 106.756 671.249 Q110.76 671.249 113.098 669.142 Q115.436 667.036 115.436 663.425 Q115.436 659.814 113.098 657.707 Q110.76 655.601 106.756 655.601 Q104.881 655.601 103.006 656.018 Q101.154 656.434 99.2095 657.314 L99.2095 639.953 Z\" fill=\"#000000\" fill-rule=\"nonzero\" fill-opacity=\"1\" /><path clip-path=\"url(#clip100)\" d=\"M56.9643 407.75 L73.2837 407.75 L73.2837 411.685 L51.3393 411.685 L51.3393 407.75 Q54.0014 404.995 58.5847 400.366 Q63.1911 395.713 64.3717 394.37 Q66.617 391.847 67.4967 390.111 Q68.3994 388.352 68.3994 386.662 Q68.3994 383.908 66.455 382.171 Q64.5337 380.435 61.4319 380.435 Q59.2328 380.435 56.7791 381.199 Q54.3486 381.963 51.5708 383.514 L51.5708 378.792 Q54.3949 377.658 56.8486 377.079 Q59.3023 376.5 61.3393 376.5 Q66.7096 376.5 69.9041 379.185 Q73.0985 381.871 73.0985 386.361 Q73.0985 388.491 72.2883 390.412 Q71.5013 392.31 69.3948 394.903 Q68.8161 395.574 65.7143 398.792 Q62.6124 401.986 56.9643 407.75 Z\" fill=\"#000000\" fill-rule=\"nonzero\" fill-opacity=\"1\" /><path clip-path=\"url(#clip100)\" d=\"M83.0984 405.806 L87.9827 405.806 L87.9827 411.685 L83.0984 411.685 L83.0984 405.806 Z\" fill=\"#000000\" fill-rule=\"nonzero\" fill-opacity=\"1\" /><path clip-path=\"url(#clip100)\" d=\"M108.168 380.204 Q104.557 380.204 102.728 383.769 Q100.922 387.31 100.922 394.44 Q100.922 401.546 102.728 405.111 Q104.557 408.653 108.168 408.653 Q111.802 408.653 113.608 405.111 Q115.436 401.546 115.436 394.44 Q115.436 387.31 113.608 383.769 Q111.802 380.204 108.168 380.204 M108.168 376.5 Q113.978 376.5 117.033 381.107 Q120.112 385.69 120.112 394.44 Q120.112 403.167 117.033 407.773 Q113.978 412.356 108.168 412.356 Q102.358 412.356 99.2789 407.773 Q96.2234 403.167 96.2234 394.44 Q96.2234 385.69 99.2789 381.107 Q102.358 376.5 108.168 376.5 Z\" fill=\"#000000\" fill-rule=\"nonzero\" fill-opacity=\"1\" /><path clip-path=\"url(#clip100)\" d=\"M57.9597 144.922 L74.279 144.922 L74.279 148.858 L52.3347 148.858 L52.3347 144.922 Q54.9967 142.168 59.58 137.538 Q64.1865 132.885 65.367 131.543 Q67.6124 129.02 68.492 127.284 Q69.3948 125.524 69.3948 123.835 Q69.3948 121.08 67.4504 119.344 Q65.5291 117.608 62.4272 117.608 Q60.2282 117.608 57.7745 118.372 Q55.344 119.136 52.5662 120.686 L52.5662 115.964 Q55.3903 114.83 57.8439 114.251 Q60.2976 113.673 62.3347 113.673 Q67.705 113.673 70.8994 116.358 Q74.0939 119.043 74.0939 123.534 Q74.0939 125.663 73.2837 127.585 Q72.4966 129.483 70.3902 132.075 Q69.8115 132.747 66.7096 135.964 Q63.6078 139.159 57.9597 144.922 Z\" fill=\"#000000\" fill-rule=\"nonzero\" fill-opacity=\"1\" /><path clip-path=\"url(#clip100)\" d=\"M84.0938 142.978 L88.978 142.978 L88.978 148.858 L84.0938 148.858 L84.0938 142.978 Z\" fill=\"#000000\" fill-rule=\"nonzero\" fill-opacity=\"1\" /><path clip-path=\"url(#clip100)\" d=\"M99.2095 114.298 L117.566 114.298 L117.566 118.233 L103.492 118.233 L103.492 126.705 Q104.51 126.358 105.529 126.196 Q106.547 126.01 107.566 126.01 Q113.353 126.01 116.733 129.182 Q120.112 132.353 120.112 137.77 Q120.112 143.348 116.64 146.45 Q113.168 149.529 106.848 149.529 Q104.672 149.529 102.404 149.158 Q100.159 148.788 97.7511 148.047 L97.7511 143.348 Q99.8345 144.483 102.057 145.038 Q104.279 145.594 106.756 145.594 Q110.76 145.594 113.098 143.487 Q115.436 141.381 115.436 137.77 Q115.436 134.159 113.098 132.052 Q110.76 129.946 106.756 129.946 Q104.881 129.946 103.006 130.362 Q101.154 130.779 99.2095 131.659 L99.2095 114.298 Z\" fill=\"#000000\" fill-rule=\"nonzero\" fill-opacity=\"1\" /><polyline clip-path=\"url(#clip102)\" style=\"stroke:#009af9; stroke-linecap:round; stroke-linejoin:round; stroke-width:4; stroke-opacity:1; fill:none\" points=\"218.281,1445.72 234.471,1433.44 250.661,1421.27 266.851,1409.18 283.041,1397.18 299.231,1385.27 315.421,1373.45 331.61,1361.71 347.8,1350.05 363.99,1338.47 380.18,1326.96 396.37,1315.54 412.56,1304.18 428.75,1292.9 444.94,1281.68 461.13,1270.53 477.319,1259.45 493.509,1248.43 509.699,1237.48 525.889,1226.58 542.079,1215.74 558.269,1204.96 574.459,1194.23 590.649,1183.56 606.839,1172.93 623.028,1162.36 639.218,1151.83 655.408,1141.35 671.598,1130.92 687.788,1120.52 703.978,1110.17 720.168,1099.86 736.358,1089.59 752.548,1079.35 768.737,1069.15 784.927,1058.98 801.117,1048.84 817.307,1038.74 833.497,1028.66 849.687,1018.62 865.877,1008.59 882.067,998.596 898.257,988.622 914.446,978.67 930.636,968.739 946.826,958.827 963.016,948.933 979.206,939.056 995.396,929.194 1011.59,919.346 1027.78,909.51 1043.97,899.686 1060.16,889.872 1076.35,880.066 1092.54,870.269 1108.73,860.477 1124.91,850.691 1141.1,840.908 1157.29,831.128 1173.48,821.349 1189.67,811.571 1205.86,801.791 1222.05,792.009 1238.24,782.224 1254.43,772.434 1270.62,762.639 1286.81,752.837 1303,743.027 1319.19,733.208 1335.38,723.378 1351.57,713.537 1367.76,703.684 1383.95,693.817 1400.14,683.936 1416.33,674.039 1432.52,664.125 1448.71,654.193 1464.9,644.242 1481.09,634.271 1497.28,624.279 1513.47,614.265 1529.66,604.228 1545.85,594.166 1562.04,584.08 1578.23,573.967 1594.42,563.827 1610.61,553.658 1626.8,543.46 1642.99,533.232 1659.18,522.972 1675.37,512.68 1691.56,502.355 1707.75,491.995 1723.94,481.6 1740.13,471.169 1756.32,460.7 1772.51,450.193 1788.7,439.647 1804.89,429.06 1821.08,418.432 1837.27,407.762 1853.46,397.049 1869.65,386.292 1885.84,375.489 1902.03,364.641 1918.22,353.745 1934.41,342.802 1950.6,331.809 1966.79,320.767 1982.98,309.674 1999.17,298.529 2015.36,287.331 2031.55,276.079 2047.74,264.773 2063.93,253.412 2080.12,241.993 2096.31,230.517 2112.5,218.983 2128.69,207.389 2144.88,195.735 2161.07,184.02 2177.26,172.242 2193.45,160.401 2209.64,148.496 2225.83,136.526 2242.02,124.49 2258.21,112.387 2274.4,100.216 2290.59,87.9763 \"/>\n",
       "<path clip-path=\"url(#clip100)\" d=\"M229.334 198.898 L810.802 198.898 L810.802 95.2176 L229.334 95.2176  Z\" fill=\"#ffffff\" fill-rule=\"evenodd\" fill-opacity=\"1\"/>\n",
       "<polyline clip-path=\"url(#clip100)\" style=\"stroke:#000000; stroke-linecap:round; stroke-linejoin:round; stroke-width:4; stroke-opacity:1; fill:none\" points=\"229.334,198.898 810.802,198.898 810.802,95.2176 229.334,95.2176 229.334,198.898 \"/>\n",
       "<polyline clip-path=\"url(#clip100)\" style=\"stroke:#009af9; stroke-linecap:round; stroke-linejoin:round; stroke-width:4; stroke-opacity:1; fill:none\" points=\"253.741,147.058 400.184,147.058 \"/>\n",
       "<path clip-path=\"url(#clip100)\" d=\"M446.836 130.912 L446.836 135.472 Q444.174 134.199 441.813 133.574 Q439.452 132.949 437.253 132.949 Q433.433 132.949 431.35 134.43 Q429.29 135.912 429.29 138.643 Q429.29 140.935 430.656 142.115 Q432.044 143.273 435.887 143.99 L438.711 144.569 Q443.943 145.565 446.419 148.088 Q448.919 150.588 448.919 154.801 Q448.919 159.824 445.54 162.416 Q442.183 165.009 435.679 165.009 Q433.225 165.009 430.447 164.453 Q427.693 163.898 424.73 162.81 L424.73 157.995 Q427.577 159.592 430.308 160.402 Q433.04 161.213 435.679 161.213 Q439.683 161.213 441.859 159.639 Q444.035 158.064 444.035 155.148 Q444.035 152.602 442.461 151.166 Q440.91 149.731 437.345 149.014 L434.498 148.458 Q429.267 147.416 426.929 145.194 Q424.591 142.972 424.591 139.014 Q424.591 134.43 427.808 131.791 Q431.049 129.153 436.72 129.153 Q439.151 129.153 441.674 129.592 Q444.197 130.032 446.836 130.912 Z\" fill=\"#000000\" fill-rule=\"nonzero\" fill-opacity=\"1\" /><path clip-path=\"url(#clip100)\" d=\"M466.072 141.398 Q462.646 141.398 460.655 144.083 Q458.665 146.745 458.665 151.398 Q458.665 156.051 460.632 158.736 Q462.623 161.398 466.072 161.398 Q469.475 161.398 471.466 158.713 Q473.456 156.027 473.456 151.398 Q473.456 146.791 471.466 144.106 Q469.475 141.398 466.072 141.398 M466.072 137.787 Q471.628 137.787 474.799 141.398 Q477.97 145.009 477.97 151.398 Q477.97 157.764 474.799 161.398 Q471.628 165.009 466.072 165.009 Q460.493 165.009 457.322 161.398 Q454.174 157.764 454.174 151.398 Q454.174 145.009 457.322 141.398 Q460.493 137.787 466.072 137.787 Z\" fill=\"#000000\" fill-rule=\"nonzero\" fill-opacity=\"1\" /><path clip-path=\"url(#clip100)\" d=\"M485.03 128.319 L489.29 128.319 L489.29 164.338 L485.03 164.338 L485.03 128.319 Z\" fill=\"#000000\" fill-rule=\"nonzero\" fill-opacity=\"1\" /><path clip-path=\"url(#clip100)\" d=\"M497.762 154.106 L497.762 138.412 L502.021 138.412 L502.021 153.944 Q502.021 157.625 503.456 159.476 Q504.891 161.305 507.762 161.305 Q511.211 161.305 513.201 159.106 Q515.215 156.907 515.215 153.111 L515.215 138.412 L519.475 138.412 L519.475 164.338 L515.215 164.338 L515.215 160.356 Q513.664 162.717 511.604 163.875 Q509.567 165.009 506.859 165.009 Q502.391 165.009 500.077 162.231 Q497.762 159.453 497.762 154.106 M508.479 137.787 L508.479 137.787 Z\" fill=\"#000000\" fill-rule=\"nonzero\" fill-opacity=\"1\" /><path clip-path=\"url(#clip100)\" d=\"M532.461 131.051 L532.461 138.412 L541.234 138.412 L541.234 141.722 L532.461 141.722 L532.461 155.796 Q532.461 158.967 533.317 159.87 Q534.197 160.773 536.859 160.773 L541.234 160.773 L541.234 164.338 L536.859 164.338 Q531.928 164.338 530.053 162.509 Q528.178 160.657 528.178 155.796 L528.178 141.722 L525.053 141.722 L525.053 138.412 L528.178 138.412 L528.178 131.051 L532.461 131.051 Z\" fill=\"#000000\" fill-rule=\"nonzero\" fill-opacity=\"1\" /><path clip-path=\"url(#clip100)\" d=\"M546.836 138.412 L551.095 138.412 L551.095 164.338 L546.836 164.338 L546.836 138.412 M546.836 128.319 L551.095 128.319 L551.095 133.713 L546.836 133.713 L546.836 128.319 Z\" fill=\"#000000\" fill-rule=\"nonzero\" fill-opacity=\"1\" /><path clip-path=\"url(#clip100)\" d=\"M570.053 141.398 Q566.627 141.398 564.636 144.083 Q562.646 146.745 562.646 151.398 Q562.646 156.051 564.613 158.736 Q566.604 161.398 570.053 161.398 Q573.456 161.398 575.446 158.713 Q577.437 156.027 577.437 151.398 Q577.437 146.791 575.446 144.106 Q573.456 141.398 570.053 141.398 M570.053 137.787 Q575.609 137.787 578.78 141.398 Q581.951 145.009 581.951 151.398 Q581.951 157.764 578.78 161.398 Q575.609 165.009 570.053 165.009 Q564.474 165.009 561.303 161.398 Q558.155 157.764 558.155 151.398 Q558.155 145.009 561.303 141.398 Q564.474 137.787 570.053 137.787 Z\" fill=\"#000000\" fill-rule=\"nonzero\" fill-opacity=\"1\" /><path clip-path=\"url(#clip100)\" d=\"M610.562 148.689 L610.562 164.338 L606.303 164.338 L606.303 148.828 Q606.303 145.148 604.868 143.319 Q603.432 141.49 600.562 141.49 Q597.113 141.49 595.122 143.69 Q593.132 145.889 593.132 149.685 L593.132 164.338 L588.849 164.338 L588.849 138.412 L593.132 138.412 L593.132 142.44 Q594.659 140.102 596.72 138.944 Q598.803 137.787 601.511 137.787 Q605.979 137.787 608.27 140.565 Q610.562 143.319 610.562 148.689 Z\" fill=\"#000000\" fill-rule=\"nonzero\" fill-opacity=\"1\" /><path clip-path=\"url(#clip100)\" d=\"M656.303 150.31 L656.303 152.393 L636.719 152.393 Q636.997 156.791 639.358 159.106 Q641.742 161.398 645.979 161.398 Q648.432 161.398 650.724 160.796 Q653.039 160.194 655.307 158.99 L655.307 163.018 Q653.016 163.99 650.608 164.5 Q648.201 165.009 645.724 165.009 Q639.52 165.009 635.886 161.398 Q632.275 157.787 632.275 151.629 Q632.275 145.264 635.701 141.537 Q639.15 137.787 644.983 137.787 Q650.215 137.787 653.247 141.166 Q656.303 144.523 656.303 150.31 M652.043 149.06 Q651.997 145.565 650.076 143.481 Q648.178 141.398 645.029 141.398 Q641.465 141.398 639.312 143.412 Q637.182 145.426 636.858 149.083 L652.043 149.06 Z\" fill=\"#000000\" fill-rule=\"nonzero\" fill-opacity=\"1\" /><path clip-path=\"url(#clip100)\" d=\"M684.011 138.412 L674.636 151.027 L684.497 164.338 L679.474 164.338 L671.927 154.152 L664.381 164.338 L659.358 164.338 L669.427 150.773 L660.215 138.412 L665.238 138.412 L672.113 147.648 L678.988 138.412 L684.011 138.412 Z\" fill=\"#000000\" fill-rule=\"nonzero\" fill-opacity=\"1\" /><path clip-path=\"url(#clip100)\" d=\"M702.298 151.305 Q697.136 151.305 695.145 152.486 Q693.154 153.666 693.154 156.514 Q693.154 158.782 694.636 160.125 Q696.14 161.444 698.71 161.444 Q702.251 161.444 704.381 158.944 Q706.534 156.421 706.534 152.254 L706.534 151.305 L702.298 151.305 M710.793 149.546 L710.793 164.338 L706.534 164.338 L706.534 160.402 Q705.075 162.763 702.9 163.898 Q700.724 165.009 697.575 165.009 Q693.594 165.009 691.233 162.787 Q688.895 160.541 688.895 156.791 Q688.895 152.416 691.812 150.194 Q694.751 147.972 700.562 147.972 L706.534 147.972 L706.534 147.555 Q706.534 144.615 704.589 143.018 Q702.668 141.398 699.173 141.398 Q696.95 141.398 694.844 141.93 Q692.738 142.463 690.793 143.527 L690.793 139.592 Q693.131 138.69 695.33 138.25 Q697.529 137.787 699.612 137.787 Q705.237 137.787 708.015 140.703 Q710.793 143.62 710.793 149.546 Z\" fill=\"#000000\" fill-rule=\"nonzero\" fill-opacity=\"1\" /><path clip-path=\"url(#clip100)\" d=\"M738.223 139.407 L738.223 143.389 Q736.418 142.393 734.589 141.907 Q732.784 141.398 730.932 141.398 Q726.788 141.398 724.497 144.037 Q722.205 146.652 722.205 151.398 Q722.205 156.143 724.497 158.782 Q726.788 161.398 730.932 161.398 Q732.784 161.398 734.589 160.912 Q736.418 160.402 738.223 159.407 L738.223 163.342 Q736.441 164.176 734.52 164.592 Q732.622 165.009 730.469 165.009 Q724.612 165.009 721.163 161.328 Q717.714 157.648 717.714 151.398 Q717.714 145.055 721.186 141.421 Q724.682 137.787 730.747 137.787 Q732.714 137.787 734.589 138.203 Q736.464 138.597 738.223 139.407 Z\" fill=\"#000000\" fill-rule=\"nonzero\" fill-opacity=\"1\" /><path clip-path=\"url(#clip100)\" d=\"M749.844 131.051 L749.844 138.412 L758.617 138.412 L758.617 141.722 L749.844 141.722 L749.844 155.796 Q749.844 158.967 750.7 159.87 Q751.58 160.773 754.242 160.773 L758.617 160.773 L758.617 164.338 L754.242 164.338 Q749.311 164.338 747.436 162.509 Q745.561 160.657 745.561 155.796 L745.561 141.722 L742.436 141.722 L742.436 138.412 L745.561 138.412 L745.561 131.051 L749.844 131.051 Z\" fill=\"#000000\" fill-rule=\"nonzero\" fill-opacity=\"1\" /><path clip-path=\"url(#clip100)\" d=\"M786.394 150.31 L786.394 152.393 L766.811 152.393 Q767.089 156.791 769.45 159.106 Q771.834 161.398 776.07 161.398 Q778.524 161.398 780.816 160.796 Q783.131 160.194 785.399 158.99 L785.399 163.018 Q783.107 163.99 780.7 164.5 Q778.293 165.009 775.816 165.009 Q769.612 165.009 765.978 161.398 Q762.367 157.787 762.367 151.629 Q762.367 145.264 765.793 141.537 Q769.242 137.787 775.075 137.787 Q780.306 137.787 783.339 141.166 Q786.394 144.523 786.394 150.31 M782.135 149.06 Q782.089 145.565 780.168 143.481 Q778.269 141.398 775.121 141.398 Q771.557 141.398 769.404 143.412 Q767.274 145.426 766.95 149.083 L782.135 149.06 Z\" fill=\"#000000\" fill-rule=\"nonzero\" fill-opacity=\"1\" /></svg>\n"
      ]
     },
     "metadata": {},
     "output_type": "display_data"
    }
   ],
   "source": [
    "f = t -> exp(t) - exp(-2t)\n",
    "\n",
    "solexacte = [f(t) for t ∈ rangs128]\n",
    "\n",
    "# plot(rangs128, sol128, xlabel=\"t\", ylabel=\"x\", label=\"n = 128\")\n",
    "# plot!(rangs64, sol64, label=\"n = 64\")\n",
    "# plot!(rangs16, sol16, label=\"n = 16\")\n",
    "# plot!(rangs128, solexacte, label=\"Solution exacte\")\n",
    "plot!(rangs128, solexacte, label=\"Solution exacte\")"
   ]
  }
 ],
 "metadata": {
  "kernelspec": {
   "display_name": "Julia 1.9.3",
   "language": "julia",
   "name": "julia-1.9"
  },
  "language_info": {
   "file_extension": ".jl",
   "mimetype": "application/julia",
   "name": "julia",
   "version": "1.9.3"
  }
 },
 "nbformat": 4,
 "nbformat_minor": 4
}
